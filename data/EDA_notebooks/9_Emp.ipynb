{
 "cells": [
  {
   "cell_type": "code",
   "execution_count": 1,
   "id": "56d27b55",
   "metadata": {
    "execution": {
     "iopub.execute_input": "2023-11-04T10:16:59.096194Z",
     "iopub.status.busy": "2023-11-04T10:16:59.095826Z",
     "iopub.status.idle": "2023-11-04T10:17:00.940641Z",
     "shell.execute_reply": "2023-11-04T10:17:00.939499Z"
    },
    "papermill": {
     "duration": 1.865477,
     "end_time": "2023-11-04T10:17:00.943365",
     "exception": false,
     "start_time": "2023-11-04T10:16:59.077888",
     "status": "completed"
    },
    "tags": []
   },
   "outputs": [],
   "source": [
    "import numpy as np\n",
    "import pandas as pd\n",
    "import seaborn as sns\n",
    "import matplotlib.pyplot as plt\n"
   ]
  },
  {
   "cell_type": "code",
   "execution_count": 2,
   "id": "7a015e46",
   "metadata": {
    "execution": {
     "iopub.execute_input": "2023-11-04T10:17:00.965153Z",
     "iopub.status.busy": "2023-11-04T10:17:00.964592Z",
     "iopub.status.idle": "2023-11-04T10:17:01.031822Z",
     "shell.execute_reply": "2023-11-04T10:17:01.030826Z"
    },
    "papermill": {
     "duration": 0.08035,
     "end_time": "2023-11-04T10:17:01.034008",
     "exception": false,
     "start_time": "2023-11-04T10:17:00.953658",
     "status": "completed"
    },
    "tags": []
   },
   "outputs": [
    {
     "data": {
      "text/html": [
       "<div>\n",
       "<style scoped>\n",
       "    .dataframe tbody tr th:only-of-type {\n",
       "        vertical-align: middle;\n",
       "    }\n",
       "\n",
       "    .dataframe tbody tr th {\n",
       "        vertical-align: top;\n",
       "    }\n",
       "\n",
       "    .dataframe thead th {\n",
       "        text-align: right;\n",
       "    }\n",
       "</style>\n",
       "<table border=\"1\" class=\"dataframe\">\n",
       "  <thead>\n",
       "    <tr style=\"text-align: right;\">\n",
       "      <th></th>\n",
       "      <th>Education</th>\n",
       "      <th>JoiningYear</th>\n",
       "      <th>City</th>\n",
       "      <th>PaymentTier</th>\n",
       "      <th>Age</th>\n",
       "      <th>Gender</th>\n",
       "      <th>EverBenched</th>\n",
       "      <th>ExperienceInCurrentDomain</th>\n",
       "      <th>LeaveOrNot</th>\n",
       "    </tr>\n",
       "  </thead>\n",
       "  <tbody>\n",
       "    <tr>\n",
       "      <th>0</th>\n",
       "      <td>Bachelors</td>\n",
       "      <td>2017</td>\n",
       "      <td>Bangalore</td>\n",
       "      <td>3</td>\n",
       "      <td>34</td>\n",
       "      <td>Male</td>\n",
       "      <td>No</td>\n",
       "      <td>0</td>\n",
       "      <td>0</td>\n",
       "    </tr>\n",
       "    <tr>\n",
       "      <th>1</th>\n",
       "      <td>Bachelors</td>\n",
       "      <td>2013</td>\n",
       "      <td>Pune</td>\n",
       "      <td>1</td>\n",
       "      <td>28</td>\n",
       "      <td>Female</td>\n",
       "      <td>No</td>\n",
       "      <td>3</td>\n",
       "      <td>1</td>\n",
       "    </tr>\n",
       "    <tr>\n",
       "      <th>2</th>\n",
       "      <td>Bachelors</td>\n",
       "      <td>2014</td>\n",
       "      <td>New Delhi</td>\n",
       "      <td>3</td>\n",
       "      <td>38</td>\n",
       "      <td>Female</td>\n",
       "      <td>No</td>\n",
       "      <td>2</td>\n",
       "      <td>0</td>\n",
       "    </tr>\n",
       "    <tr>\n",
       "      <th>3</th>\n",
       "      <td>Masters</td>\n",
       "      <td>2016</td>\n",
       "      <td>Bangalore</td>\n",
       "      <td>3</td>\n",
       "      <td>27</td>\n",
       "      <td>Male</td>\n",
       "      <td>No</td>\n",
       "      <td>5</td>\n",
       "      <td>1</td>\n",
       "    </tr>\n",
       "    <tr>\n",
       "      <th>4</th>\n",
       "      <td>Masters</td>\n",
       "      <td>2017</td>\n",
       "      <td>Pune</td>\n",
       "      <td>3</td>\n",
       "      <td>24</td>\n",
       "      <td>Male</td>\n",
       "      <td>Yes</td>\n",
       "      <td>2</td>\n",
       "      <td>1</td>\n",
       "    </tr>\n",
       "    <tr>\n",
       "      <th>...</th>\n",
       "      <td>...</td>\n",
       "      <td>...</td>\n",
       "      <td>...</td>\n",
       "      <td>...</td>\n",
       "      <td>...</td>\n",
       "      <td>...</td>\n",
       "      <td>...</td>\n",
       "      <td>...</td>\n",
       "      <td>...</td>\n",
       "    </tr>\n",
       "    <tr>\n",
       "      <th>4648</th>\n",
       "      <td>Bachelors</td>\n",
       "      <td>2013</td>\n",
       "      <td>Bangalore</td>\n",
       "      <td>3</td>\n",
       "      <td>26</td>\n",
       "      <td>Female</td>\n",
       "      <td>No</td>\n",
       "      <td>4</td>\n",
       "      <td>0</td>\n",
       "    </tr>\n",
       "    <tr>\n",
       "      <th>4649</th>\n",
       "      <td>Masters</td>\n",
       "      <td>2013</td>\n",
       "      <td>Pune</td>\n",
       "      <td>2</td>\n",
       "      <td>37</td>\n",
       "      <td>Male</td>\n",
       "      <td>No</td>\n",
       "      <td>2</td>\n",
       "      <td>1</td>\n",
       "    </tr>\n",
       "    <tr>\n",
       "      <th>4650</th>\n",
       "      <td>Masters</td>\n",
       "      <td>2018</td>\n",
       "      <td>New Delhi</td>\n",
       "      <td>3</td>\n",
       "      <td>27</td>\n",
       "      <td>Male</td>\n",
       "      <td>No</td>\n",
       "      <td>5</td>\n",
       "      <td>1</td>\n",
       "    </tr>\n",
       "    <tr>\n",
       "      <th>4651</th>\n",
       "      <td>Bachelors</td>\n",
       "      <td>2012</td>\n",
       "      <td>Bangalore</td>\n",
       "      <td>3</td>\n",
       "      <td>30</td>\n",
       "      <td>Male</td>\n",
       "      <td>Yes</td>\n",
       "      <td>2</td>\n",
       "      <td>0</td>\n",
       "    </tr>\n",
       "    <tr>\n",
       "      <th>4652</th>\n",
       "      <td>Bachelors</td>\n",
       "      <td>2015</td>\n",
       "      <td>Bangalore</td>\n",
       "      <td>3</td>\n",
       "      <td>33</td>\n",
       "      <td>Male</td>\n",
       "      <td>Yes</td>\n",
       "      <td>4</td>\n",
       "      <td>0</td>\n",
       "    </tr>\n",
       "  </tbody>\n",
       "</table>\n",
       "<p>4653 rows × 9 columns</p>\n",
       "</div>"
      ],
      "text/plain": [
       "      Education  JoiningYear       City  PaymentTier  Age  Gender EverBenched  \\\n",
       "0     Bachelors         2017  Bangalore            3   34    Male          No   \n",
       "1     Bachelors         2013       Pune            1   28  Female          No   \n",
       "2     Bachelors         2014  New Delhi            3   38  Female          No   \n",
       "3       Masters         2016  Bangalore            3   27    Male          No   \n",
       "4       Masters         2017       Pune            3   24    Male         Yes   \n",
       "...         ...          ...        ...          ...  ...     ...         ...   \n",
       "4648  Bachelors         2013  Bangalore            3   26  Female          No   \n",
       "4649    Masters         2013       Pune            2   37    Male          No   \n",
       "4650    Masters         2018  New Delhi            3   27    Male          No   \n",
       "4651  Bachelors         2012  Bangalore            3   30    Male         Yes   \n",
       "4652  Bachelors         2015  Bangalore            3   33    Male         Yes   \n",
       "\n",
       "      ExperienceInCurrentDomain  LeaveOrNot  \n",
       "0                             0           0  \n",
       "1                             3           1  \n",
       "2                             2           0  \n",
       "3                             5           1  \n",
       "4                             2           1  \n",
       "...                         ...         ...  \n",
       "4648                          4           0  \n",
       "4649                          2           1  \n",
       "4650                          5           1  \n",
       "4651                          2           0  \n",
       "4652                          4           0  \n",
       "\n",
       "[4653 rows x 9 columns]"
      ]
     },
     "execution_count": 2,
     "metadata": {},
     "output_type": "execute_result"
    }
   ],
   "source": [
    "df=pd.read_csv('/kaggle/input/employee-dataset/Employee.csv')\n",
    "df"
   ]
  },
  {
   "cell_type": "code",
   "execution_count": 3,
   "id": "b0779547",
   "metadata": {
    "execution": {
     "iopub.execute_input": "2023-11-04T10:17:01.056019Z",
     "iopub.status.busy": "2023-11-04T10:17:01.055601Z",
     "iopub.status.idle": "2023-11-04T10:17:01.068008Z",
     "shell.execute_reply": "2023-11-04T10:17:01.066853Z"
    },
    "papermill": {
     "duration": 0.025958,
     "end_time": "2023-11-04T10:17:01.070045",
     "exception": false,
     "start_time": "2023-11-04T10:17:01.044087",
     "status": "completed"
    },
    "tags": []
   },
   "outputs": [
    {
     "name": "stdout",
     "output_type": "stream",
     "text": [
      "Education                    0\n",
      "JoiningYear                  0\n",
      "City                         0\n",
      "PaymentTier                  0\n",
      "Age                          0\n",
      "Gender                       0\n",
      "EverBenched                  0\n",
      "ExperienceInCurrentDomain    0\n",
      "LeaveOrNot                   0\n",
      "dtype: int64\n",
      "Education                    False\n",
      "JoiningYear                  False\n",
      "City                         False\n",
      "PaymentTier                  False\n",
      "Age                          False\n",
      "Gender                       False\n",
      "EverBenched                  False\n",
      "ExperienceInCurrentDomain    False\n",
      "LeaveOrNot                   False\n",
      "dtype: bool\n"
     ]
    }
   ],
   "source": [
    "print(df.isna().sum())\n",
    "print(df.isnull().any())"
   ]
  },
  {
   "cell_type": "code",
   "execution_count": 4,
   "id": "a8aeb6a0",
   "metadata": {
    "execution": {
     "iopub.execute_input": "2023-11-04T10:17:01.092803Z",
     "iopub.status.busy": "2023-11-04T10:17:01.091786Z",
     "iopub.status.idle": "2023-11-04T10:17:01.108750Z",
     "shell.execute_reply": "2023-11-04T10:17:01.107876Z"
    },
    "papermill": {
     "duration": 0.030044,
     "end_time": "2023-11-04T10:17:01.110950",
     "exception": false,
     "start_time": "2023-11-04T10:17:01.080906",
     "status": "completed"
    },
    "tags": []
   },
   "outputs": [
    {
     "data": {
      "text/plain": [
       "Education                     3\n",
       "JoiningYear                   7\n",
       "City                          3\n",
       "PaymentTier                   3\n",
       "Age                          20\n",
       "Gender                        2\n",
       "EverBenched                   2\n",
       "ExperienceInCurrentDomain     8\n",
       "LeaveOrNot                    2\n",
       "dtype: int64"
      ]
     },
     "execution_count": 4,
     "metadata": {},
     "output_type": "execute_result"
    }
   ],
   "source": [
    "df.nunique()"
   ]
  },
  {
   "cell_type": "code",
   "execution_count": 5,
   "id": "6bbbf51e",
   "metadata": {
    "execution": {
     "iopub.execute_input": "2023-11-04T10:17:01.134121Z",
     "iopub.status.busy": "2023-11-04T10:17:01.133763Z",
     "iopub.status.idle": "2023-11-04T10:17:01.145443Z",
     "shell.execute_reply": "2023-11-04T10:17:01.144710Z"
    },
    "papermill": {
     "duration": 0.025555,
     "end_time": "2023-11-04T10:17:01.147365",
     "exception": false,
     "start_time": "2023-11-04T10:17:01.121810",
     "status": "completed"
    },
    "tags": []
   },
   "outputs": [
    {
     "data": {
      "text/plain": [
       "1889"
      ]
     },
     "execution_count": 5,
     "metadata": {},
     "output_type": "execute_result"
    }
   ],
   "source": [
    "df.duplicated().sum()\n"
   ]
  },
  {
   "cell_type": "code",
   "execution_count": 6,
   "id": "4d6bcd0b",
   "metadata": {
    "execution": {
     "iopub.execute_input": "2023-11-04T10:17:01.172243Z",
     "iopub.status.busy": "2023-11-04T10:17:01.171784Z",
     "iopub.status.idle": "2023-11-04T10:17:01.194027Z",
     "shell.execute_reply": "2023-11-04T10:17:01.192707Z"
    },
    "papermill": {
     "duration": 0.037097,
     "end_time": "2023-11-04T10:17:01.196073",
     "exception": false,
     "start_time": "2023-11-04T10:17:01.158976",
     "status": "completed"
    },
    "tags": []
   },
   "outputs": [
    {
     "name": "stdout",
     "output_type": "stream",
     "text": [
      "<class 'pandas.core.frame.DataFrame'>\n",
      "RangeIndex: 4653 entries, 0 to 4652\n",
      "Data columns (total 9 columns):\n",
      " #   Column                     Non-Null Count  Dtype \n",
      "---  ------                     --------------  ----- \n",
      " 0   Education                  4653 non-null   object\n",
      " 1   JoiningYear                4653 non-null   int64 \n",
      " 2   City                       4653 non-null   object\n",
      " 3   PaymentTier                4653 non-null   int64 \n",
      " 4   Age                        4653 non-null   int64 \n",
      " 5   Gender                     4653 non-null   object\n",
      " 6   EverBenched                4653 non-null   object\n",
      " 7   ExperienceInCurrentDomain  4653 non-null   int64 \n",
      " 8   LeaveOrNot                 4653 non-null   int64 \n",
      "dtypes: int64(5), object(4)\n",
      "memory usage: 327.3+ KB\n"
     ]
    }
   ],
   "source": [
    "df.info()"
   ]
  },
  {
   "cell_type": "code",
   "execution_count": 7,
   "id": "0ab2f16c",
   "metadata": {
    "execution": {
     "iopub.execute_input": "2023-11-04T10:17:01.220300Z",
     "iopub.status.busy": "2023-11-04T10:17:01.219973Z",
     "iopub.status.idle": "2023-11-04T10:17:01.245143Z",
     "shell.execute_reply": "2023-11-04T10:17:01.244396Z"
    },
    "papermill": {
     "duration": 0.040004,
     "end_time": "2023-11-04T10:17:01.247320",
     "exception": false,
     "start_time": "2023-11-04T10:17:01.207316",
     "status": "completed"
    },
    "tags": []
   },
   "outputs": [
    {
     "data": {
      "text/html": [
       "<div>\n",
       "<style scoped>\n",
       "    .dataframe tbody tr th:only-of-type {\n",
       "        vertical-align: middle;\n",
       "    }\n",
       "\n",
       "    .dataframe tbody tr th {\n",
       "        vertical-align: top;\n",
       "    }\n",
       "\n",
       "    .dataframe thead th {\n",
       "        text-align: right;\n",
       "    }\n",
       "</style>\n",
       "<table border=\"1\" class=\"dataframe\">\n",
       "  <thead>\n",
       "    <tr style=\"text-align: right;\">\n",
       "      <th></th>\n",
       "      <th>JoiningYear</th>\n",
       "      <th>PaymentTier</th>\n",
       "      <th>Age</th>\n",
       "      <th>ExperienceInCurrentDomain</th>\n",
       "      <th>LeaveOrNot</th>\n",
       "    </tr>\n",
       "  </thead>\n",
       "  <tbody>\n",
       "    <tr>\n",
       "      <th>count</th>\n",
       "      <td>4653.000000</td>\n",
       "      <td>4653.000000</td>\n",
       "      <td>4653.000000</td>\n",
       "      <td>4653.000000</td>\n",
       "      <td>4653.000000</td>\n",
       "    </tr>\n",
       "    <tr>\n",
       "      <th>mean</th>\n",
       "      <td>2015.062970</td>\n",
       "      <td>2.698259</td>\n",
       "      <td>29.393295</td>\n",
       "      <td>2.905652</td>\n",
       "      <td>0.343864</td>\n",
       "    </tr>\n",
       "    <tr>\n",
       "      <th>std</th>\n",
       "      <td>1.863377</td>\n",
       "      <td>0.561435</td>\n",
       "      <td>4.826087</td>\n",
       "      <td>1.558240</td>\n",
       "      <td>0.475047</td>\n",
       "    </tr>\n",
       "    <tr>\n",
       "      <th>min</th>\n",
       "      <td>2012.000000</td>\n",
       "      <td>1.000000</td>\n",
       "      <td>22.000000</td>\n",
       "      <td>0.000000</td>\n",
       "      <td>0.000000</td>\n",
       "    </tr>\n",
       "    <tr>\n",
       "      <th>25%</th>\n",
       "      <td>2013.000000</td>\n",
       "      <td>3.000000</td>\n",
       "      <td>26.000000</td>\n",
       "      <td>2.000000</td>\n",
       "      <td>0.000000</td>\n",
       "    </tr>\n",
       "    <tr>\n",
       "      <th>50%</th>\n",
       "      <td>2015.000000</td>\n",
       "      <td>3.000000</td>\n",
       "      <td>28.000000</td>\n",
       "      <td>3.000000</td>\n",
       "      <td>0.000000</td>\n",
       "    </tr>\n",
       "    <tr>\n",
       "      <th>75%</th>\n",
       "      <td>2017.000000</td>\n",
       "      <td>3.000000</td>\n",
       "      <td>32.000000</td>\n",
       "      <td>4.000000</td>\n",
       "      <td>1.000000</td>\n",
       "    </tr>\n",
       "    <tr>\n",
       "      <th>max</th>\n",
       "      <td>2018.000000</td>\n",
       "      <td>3.000000</td>\n",
       "      <td>41.000000</td>\n",
       "      <td>7.000000</td>\n",
       "      <td>1.000000</td>\n",
       "    </tr>\n",
       "  </tbody>\n",
       "</table>\n",
       "</div>"
      ],
      "text/plain": [
       "       JoiningYear  PaymentTier          Age  ExperienceInCurrentDomain  \\\n",
       "count  4653.000000  4653.000000  4653.000000                4653.000000   \n",
       "mean   2015.062970     2.698259    29.393295                   2.905652   \n",
       "std       1.863377     0.561435     4.826087                   1.558240   \n",
       "min    2012.000000     1.000000    22.000000                   0.000000   \n",
       "25%    2013.000000     3.000000    26.000000                   2.000000   \n",
       "50%    2015.000000     3.000000    28.000000                   3.000000   \n",
       "75%    2017.000000     3.000000    32.000000                   4.000000   \n",
       "max    2018.000000     3.000000    41.000000                   7.000000   \n",
       "\n",
       "        LeaveOrNot  \n",
       "count  4653.000000  \n",
       "mean      0.343864  \n",
       "std       0.475047  \n",
       "min       0.000000  \n",
       "25%       0.000000  \n",
       "50%       0.000000  \n",
       "75%       1.000000  \n",
       "max       1.000000  "
      ]
     },
     "execution_count": 7,
     "metadata": {},
     "output_type": "execute_result"
    }
   ],
   "source": [
    "df.describe()"
   ]
  },
  {
   "cell_type": "code",
   "execution_count": 8,
   "id": "2fb399c6",
   "metadata": {
    "execution": {
     "iopub.execute_input": "2023-11-04T10:17:01.271938Z",
     "iopub.status.busy": "2023-11-04T10:17:01.271561Z",
     "iopub.status.idle": "2023-11-04T10:17:01.282582Z",
     "shell.execute_reply": "2023-11-04T10:17:01.281686Z"
    },
    "papermill": {
     "duration": 0.025763,
     "end_time": "2023-11-04T10:17:01.284727",
     "exception": false,
     "start_time": "2023-11-04T10:17:01.258964",
     "status": "completed"
    },
    "tags": []
   },
   "outputs": [
    {
     "data": {
      "text/plain": [
       "(2764, 9)"
      ]
     },
     "execution_count": 8,
     "metadata": {},
     "output_type": "execute_result"
    }
   ],
   "source": [
    "df = df.drop_duplicates()\n",
    "df.shape"
   ]
  },
  {
   "cell_type": "code",
   "execution_count": 9,
   "id": "fc355cec",
   "metadata": {
    "execution": {
     "iopub.execute_input": "2023-11-04T10:17:01.309014Z",
     "iopub.status.busy": "2023-11-04T10:17:01.308594Z",
     "iopub.status.idle": "2023-11-04T10:17:01.316628Z",
     "shell.execute_reply": "2023-11-04T10:17:01.315722Z"
    },
    "papermill": {
     "duration": 0.023095,
     "end_time": "2023-11-04T10:17:01.318869",
     "exception": false,
     "start_time": "2023-11-04T10:17:01.295774",
     "status": "completed"
    },
    "tags": []
   },
   "outputs": [
    {
     "data": {
      "text/plain": [
       "Education\n",
       "Bachelors    1971\n",
       "Masters       637\n",
       "PHD           156\n",
       "Name: count, dtype: int64"
      ]
     },
     "execution_count": 9,
     "metadata": {},
     "output_type": "execute_result"
    }
   ],
   "source": [
    "df.Education.value_counts()"
   ]
  },
  {
   "cell_type": "code",
   "execution_count": 10,
   "id": "1e9266f2",
   "metadata": {
    "execution": {
     "iopub.execute_input": "2023-11-04T10:17:01.344880Z",
     "iopub.status.busy": "2023-11-04T10:17:01.344486Z",
     "iopub.status.idle": "2023-11-04T10:17:01.521542Z",
     "shell.execute_reply": "2023-11-04T10:17:01.520142Z"
    },
    "papermill": {
     "duration": 0.194356,
     "end_time": "2023-11-04T10:17:01.525430",
     "exception": false,
     "start_time": "2023-11-04T10:17:01.331074",
     "status": "completed"
    },
    "tags": []
   },
   "outputs": [
    {
     "data": {
      "image/png": "[encoded data removed]",
      "text/plain": [
       "<Figure size 600x800 with 1 Axes>"
      ]
     },
     "metadata": {},
     "output_type": "display_data"
    }
   ],
   "source": [
    "edu_count=df.Education.value_counts()\n",
    "plt.figure(figsize=(6, 8))\n",
    "plt.pie(edu_count, labels=edu_count.index, autopct='%1.1f%%', startangle=100)\n",
    "plt.show()"
   ]
  },
  {
   "cell_type": "code",
   "execution_count": 11,
   "id": "1268627e",
   "metadata": {
    "execution": {
     "iopub.execute_input": "2023-11-04T10:17:01.574406Z",
     "iopub.status.busy": "2023-11-04T10:17:01.574028Z",
     "iopub.status.idle": "2023-11-04T10:17:01.581154Z",
     "shell.execute_reply": "2023-11-04T10:17:01.580428Z"
    },
    "papermill": {
     "duration": 0.031471,
     "end_time": "2023-11-04T10:17:01.583095",
     "exception": false,
     "start_time": "2023-11-04T10:17:01.551624",
     "status": "completed"
    },
    "tags": []
   },
   "outputs": [
    {
     "data": {
      "text/plain": [
       "JoiningYear\n",
       "2017    662\n",
       "2015    464\n",
       "2013    396\n",
       "2014    385\n",
       "2016    310\n",
       "2012    308\n",
       "2018    239\n",
       "Name: count, dtype: int64"
      ]
     },
     "execution_count": 11,
     "metadata": {},
     "output_type": "execute_result"
    }
   ],
   "source": [
    "df.JoiningYear.value_counts()"
   ]
  },
  {
   "cell_type": "code",
   "execution_count": 12,
   "id": "ad8e54a8",
   "metadata": {
    "execution": {
     "iopub.execute_input": "2023-11-04T10:17:01.609854Z",
     "iopub.status.busy": "2023-11-04T10:17:01.609520Z",
     "iopub.status.idle": "2023-11-04T10:17:01.879994Z",
     "shell.execute_reply": "2023-11-04T10:17:01.878821Z"
    },
    "papermill": {
     "duration": 0.286465,
     "end_time": "2023-11-04T10:17:01.882164",
     "exception": false,
     "start_time": "2023-11-04T10:17:01.595699",
     "status": "completed"
    },
    "tags": []
   },
   "outputs": [
    {
     "data": {
      "text/plain": [
       "<Axes: xlabel='JoiningYear', ylabel='count'>"
      ]
     },
     "execution_count": 12,
     "metadata": {},
     "output_type": "execute_result"
    },
    {
     "data": {
      "image/png": "[encoded data removed]",
      "text/plain": [
       "<Figure size 640x480 with 1 Axes>"
      ]
     },
     "metadata": {},
     "output_type": "display_data"
    }
   ],
   "source": [
    "sns.countplot(data=df,x='JoiningYear')"
   ]
  },
  {
   "cell_type": "code",
   "execution_count": 13,
   "id": "cc0b6432",
   "metadata": {
    "execution": {
     "iopub.execute_input": "2023-11-04T10:17:01.909474Z",
     "iopub.status.busy": "2023-11-04T10:17:01.909166Z",
     "iopub.status.idle": "2023-11-04T10:17:01.933072Z",
     "shell.execute_reply": "2023-11-04T10:17:01.931974Z"
    },
    "papermill": {
     "duration": 0.040135,
     "end_time": "2023-11-04T10:17:01.935334",
     "exception": false,
     "start_time": "2023-11-04T10:17:01.895199",
     "status": "completed"
    },
    "tags": []
   },
   "outputs": [
    {
     "data": {
      "text/html": [
       "<div>\n",
       "<style scoped>\n",
       "    .dataframe tbody tr th:only-of-type {\n",
       "        vertical-align: middle;\n",
       "    }\n",
       "\n",
       "    .dataframe tbody tr th {\n",
       "        vertical-align: top;\n",
       "    }\n",
       "\n",
       "    .dataframe thead th {\n",
       "        text-align: right;\n",
       "    }\n",
       "</style>\n",
       "<table border=\"1\" class=\"dataframe\">\n",
       "  <thead>\n",
       "    <tr style=\"text-align: right;\">\n",
       "      <th>City</th>\n",
       "      <th>Bangalore</th>\n",
       "      <th>New Delhi</th>\n",
       "      <th>Pune</th>\n",
       "    </tr>\n",
       "    <tr>\n",
       "      <th>JoiningYear</th>\n",
       "      <th></th>\n",
       "      <th></th>\n",
       "      <th></th>\n",
       "    </tr>\n",
       "  </thead>\n",
       "  <tbody>\n",
       "    <tr>\n",
       "      <th>2012</th>\n",
       "      <td>31</td>\n",
       "      <td>28</td>\n",
       "      <td>29</td>\n",
       "    </tr>\n",
       "    <tr>\n",
       "      <th>2013</th>\n",
       "      <td>30</td>\n",
       "      <td>28</td>\n",
       "      <td>29</td>\n",
       "    </tr>\n",
       "    <tr>\n",
       "      <th>2014</th>\n",
       "      <td>31</td>\n",
       "      <td>28</td>\n",
       "      <td>30</td>\n",
       "    </tr>\n",
       "    <tr>\n",
       "      <th>2015</th>\n",
       "      <td>31</td>\n",
       "      <td>28</td>\n",
       "      <td>30</td>\n",
       "    </tr>\n",
       "    <tr>\n",
       "      <th>2016</th>\n",
       "      <td>31</td>\n",
       "      <td>28</td>\n",
       "      <td>29</td>\n",
       "    </tr>\n",
       "    <tr>\n",
       "      <th>2017</th>\n",
       "      <td>30</td>\n",
       "      <td>30</td>\n",
       "      <td>30</td>\n",
       "    </tr>\n",
       "    <tr>\n",
       "      <th>2018</th>\n",
       "      <td>31</td>\n",
       "      <td>29</td>\n",
       "      <td>29</td>\n",
       "    </tr>\n",
       "  </tbody>\n",
       "</table>\n",
       "</div>"
      ],
      "text/plain": [
       "City         Bangalore  New Delhi  Pune\n",
       "JoiningYear                            \n",
       "2012                31         28    29\n",
       "2013                30         28    29\n",
       "2014                31         28    30\n",
       "2015                31         28    30\n",
       "2016                31         28    29\n",
       "2017                30         30    30\n",
       "2018                31         29    29"
      ]
     },
     "execution_count": 13,
     "metadata": {},
     "output_type": "execute_result"
    }
   ],
   "source": [
    "pd.crosstab(df.JoiningYear,df.City,values=df.Age,aggfunc='median')"
   ]
  },
  {
   "cell_type": "code",
   "execution_count": 14,
   "id": "360a2bc1",
   "metadata": {
    "execution": {
     "iopub.execute_input": "2023-11-04T10:17:01.963323Z",
     "iopub.status.busy": "2023-11-04T10:17:01.962243Z",
     "iopub.status.idle": "2023-11-04T10:17:02.335182Z",
     "shell.execute_reply": "2023-11-04T10:17:02.334097Z"
    },
    "papermill": {
     "duration": 0.389284,
     "end_time": "2023-11-04T10:17:02.337750",
     "exception": false,
     "start_time": "2023-11-04T10:17:01.948466",
     "status": "completed"
    },
    "tags": []
   },
   "outputs": [
    {
     "data": {
      "image/png": "[encoded data removed]",
      "text/plain": [
       "<Figure size 1000x600 with 1 Axes>"
      ]
     },
     "metadata": {},
     "output_type": "display_data"
    }
   ],
   "source": [
    "city_joinyear= df.groupby(['JoiningYear', 'City']).size().unstack()\n",
    "ax = city_joinyear.plot(kind='bar', stacked=True, figsize=(10, 6))\n",
    "\n",
    "plt.xlabel('Joining Year')\n",
    "plt.ylabel('Number of Employees')\n",
    "plt.title('Distribution of Employees by Joining Year and City')\n",
    "\n",
    "plt.legend(title='City', loc='upper left')\n",
    "plt.show()"
   ]
  },
  {
   "cell_type": "code",
   "execution_count": 15,
   "id": "91bd5f10",
   "metadata": {
    "execution": {
     "iopub.execute_input": "2023-11-04T10:17:02.368247Z",
     "iopub.status.busy": "2023-11-04T10:17:02.367900Z",
     "iopub.status.idle": "2023-11-04T10:17:02.386165Z",
     "shell.execute_reply": "2023-11-04T10:17:02.385248Z"
    },
    "papermill": {
     "duration": 0.036061,
     "end_time": "2023-11-04T10:17:02.388123",
     "exception": false,
     "start_time": "2023-11-04T10:17:02.352062",
     "status": "completed"
    },
    "tags": []
   },
   "outputs": [
    {
     "data": {
      "text/html": [
       "<div>\n",
       "<style scoped>\n",
       "    .dataframe tbody tr th:only-of-type {\n",
       "        vertical-align: middle;\n",
       "    }\n",
       "\n",
       "    .dataframe tbody tr th {\n",
       "        vertical-align: top;\n",
       "    }\n",
       "\n",
       "    .dataframe thead th {\n",
       "        text-align: right;\n",
       "    }\n",
       "</style>\n",
       "<table border=\"1\" class=\"dataframe\">\n",
       "  <thead>\n",
       "    <tr style=\"text-align: right;\">\n",
       "      <th>Education</th>\n",
       "      <th>Bachelors</th>\n",
       "      <th>Masters</th>\n",
       "      <th>PHD</th>\n",
       "    </tr>\n",
       "    <tr>\n",
       "      <th>Gender</th>\n",
       "      <th></th>\n",
       "      <th></th>\n",
       "      <th></th>\n",
       "    </tr>\n",
       "  </thead>\n",
       "  <tbody>\n",
       "    <tr>\n",
       "      <th>Female</th>\n",
       "      <td>894</td>\n",
       "      <td>278</td>\n",
       "      <td>63</td>\n",
       "    </tr>\n",
       "    <tr>\n",
       "      <th>Male</th>\n",
       "      <td>1077</td>\n",
       "      <td>359</td>\n",
       "      <td>93</td>\n",
       "    </tr>\n",
       "  </tbody>\n",
       "</table>\n",
       "</div>"
      ],
      "text/plain": [
       "Education  Bachelors  Masters  PHD\n",
       "Gender                            \n",
       "Female           894      278   63\n",
       "Male            1077      359   93"
      ]
     },
     "execution_count": 15,
     "metadata": {},
     "output_type": "execute_result"
    }
   ],
   "source": [
    "pd.crosstab(df.Gender,df.Education)"
   ]
  },
  {
   "cell_type": "code",
   "execution_count": 16,
   "id": "8ebe55b7",
   "metadata": {
    "execution": {
     "iopub.execute_input": "2023-11-04T10:17:02.417572Z",
     "iopub.status.busy": "2023-11-04T10:17:02.417208Z",
     "iopub.status.idle": "2023-11-04T10:17:02.455628Z",
     "shell.execute_reply": "2023-11-04T10:17:02.454613Z"
    },
    "papermill": {
     "duration": 0.056196,
     "end_time": "2023-11-04T10:17:02.458241",
     "exception": false,
     "start_time": "2023-11-04T10:17:02.402045",
     "status": "completed"
    },
    "tags": []
   },
   "outputs": [
    {
     "data": {
      "text/html": [
       "<div>\n",
       "<style scoped>\n",
       "    .dataframe tbody tr th:only-of-type {\n",
       "        vertical-align: middle;\n",
       "    }\n",
       "\n",
       "    .dataframe tbody tr th {\n",
       "        vertical-align: top;\n",
       "    }\n",
       "\n",
       "    .dataframe thead tr th {\n",
       "        text-align: left;\n",
       "    }\n",
       "</style>\n",
       "<table border=\"1\" class=\"dataframe\">\n",
       "  <thead>\n",
       "    <tr>\n",
       "      <th></th>\n",
       "      <th>Gender</th>\n",
       "      <th colspan=\"3\" halign=\"left\">median</th>\n",
       "      <th colspan=\"3\" halign=\"left\">min</th>\n",
       "      <th colspan=\"3\" halign=\"left\">max</th>\n",
       "    </tr>\n",
       "    <tr>\n",
       "      <th>Education</th>\n",
       "      <th></th>\n",
       "      <th>Bachelors</th>\n",
       "      <th>Masters</th>\n",
       "      <th>PHD</th>\n",
       "      <th>Bachelors</th>\n",
       "      <th>Masters</th>\n",
       "      <th>PHD</th>\n",
       "      <th>Bachelors</th>\n",
       "      <th>Masters</th>\n",
       "      <th>PHD</th>\n",
       "    </tr>\n",
       "  </thead>\n",
       "  <tbody>\n",
       "    <tr>\n",
       "      <th>0</th>\n",
       "      <td>Female</td>\n",
       "      <td>30</td>\n",
       "      <td>28</td>\n",
       "      <td>29</td>\n",
       "      <td>22</td>\n",
       "      <td>22</td>\n",
       "      <td>22</td>\n",
       "      <td>41</td>\n",
       "      <td>41</td>\n",
       "      <td>40</td>\n",
       "    </tr>\n",
       "    <tr>\n",
       "      <th>1</th>\n",
       "      <td>Male</td>\n",
       "      <td>31</td>\n",
       "      <td>28</td>\n",
       "      <td>28</td>\n",
       "      <td>22</td>\n",
       "      <td>22</td>\n",
       "      <td>22</td>\n",
       "      <td>41</td>\n",
       "      <td>41</td>\n",
       "      <td>41</td>\n",
       "    </tr>\n",
       "  </tbody>\n",
       "</table>\n",
       "</div>"
      ],
      "text/plain": [
       "           Gender    median                   min                   max  \\\n",
       "Education         Bachelors Masters PHD Bachelors Masters PHD Bachelors   \n",
       "0          Female        30      28  29        22      22  22        41   \n",
       "1            Male        31      28  28        22      22  22        41   \n",
       "\n",
       "                       \n",
       "Education Masters PHD  \n",
       "0              41  40  \n",
       "1              41  41  "
      ]
     },
     "execution_count": 16,
     "metadata": {},
     "output_type": "execute_result"
    }
   ],
   "source": [
    "pivot_table = pd.crosstab(df['Gender'], df['Education'], values=df['Age'], aggfunc=['median', 'min', 'max'])\n",
    "\n",
    "pivot_table = pivot_table.reset_index()\n",
    "pivot_table"
   ]
  },
  {
   "cell_type": "code",
   "execution_count": 17,
   "id": "ab0737af",
   "metadata": {
    "execution": {
     "iopub.execute_input": "2023-11-04T10:17:02.490456Z",
     "iopub.status.busy": "2023-11-04T10:17:02.490119Z",
     "iopub.status.idle": "2023-11-04T10:17:02.769249Z",
     "shell.execute_reply": "2023-11-04T10:17:02.768201Z"
    },
    "papermill": {
     "duration": 0.297215,
     "end_time": "2023-11-04T10:17:02.771391",
     "exception": false,
     "start_time": "2023-11-04T10:17:02.474176",
     "status": "completed"
    },
    "tags": []
   },
   "outputs": [
    {
     "data": {
      "text/plain": [
       "<Axes: xlabel='Education', ylabel='count'>"
      ]
     },
     "execution_count": 17,
     "metadata": {},
     "output_type": "execute_result"
    },
    {
     "data": {
      "image/png": "[encoded data removed]",
      "text/plain": [
       "<Figure size 640x480 with 1 Axes>"
      ]
     },
     "metadata": {},
     "output_type": "display_data"
    }
   ],
   "source": [
    "sns.countplot(data=df,x=df.Education,hue='Gender')"
   ]
  },
  {
   "cell_type": "code",
   "execution_count": 18,
   "id": "257aef3b",
   "metadata": {
    "execution": {
     "iopub.execute_input": "2023-11-04T10:17:02.802628Z",
     "iopub.status.busy": "2023-11-04T10:17:02.802287Z",
     "iopub.status.idle": "2023-11-04T10:17:02.819426Z",
     "shell.execute_reply": "2023-11-04T10:17:02.818441Z"
    },
    "papermill": {
     "duration": 0.034976,
     "end_time": "2023-11-04T10:17:02.821754",
     "exception": false,
     "start_time": "2023-11-04T10:17:02.786778",
     "status": "completed"
    },
    "tags": []
   },
   "outputs": [
    {
     "data": {
      "text/html": [
       "<div>\n",
       "<style scoped>\n",
       "    .dataframe tbody tr th:only-of-type {\n",
       "        vertical-align: middle;\n",
       "    }\n",
       "\n",
       "    .dataframe tbody tr th {\n",
       "        vertical-align: top;\n",
       "    }\n",
       "\n",
       "    .dataframe thead th {\n",
       "        text-align: right;\n",
       "    }\n",
       "</style>\n",
       "<table border=\"1\" class=\"dataframe\">\n",
       "  <thead>\n",
       "    <tr style=\"text-align: right;\">\n",
       "      <th>Gender</th>\n",
       "      <th>Female</th>\n",
       "      <th>Male</th>\n",
       "    </tr>\n",
       "    <tr>\n",
       "      <th>PaymentTier</th>\n",
       "      <th></th>\n",
       "      <th></th>\n",
       "    </tr>\n",
       "  </thead>\n",
       "  <tbody>\n",
       "    <tr>\n",
       "      <th>1</th>\n",
       "      <td>115</td>\n",
       "      <td>103</td>\n",
       "    </tr>\n",
       "    <tr>\n",
       "      <th>2</th>\n",
       "      <td>367</td>\n",
       "      <td>203</td>\n",
       "    </tr>\n",
       "    <tr>\n",
       "      <th>3</th>\n",
       "      <td>753</td>\n",
       "      <td>1223</td>\n",
       "    </tr>\n",
       "  </tbody>\n",
       "</table>\n",
       "</div>"
      ],
      "text/plain": [
       "Gender       Female  Male\n",
       "PaymentTier              \n",
       "1               115   103\n",
       "2               367   203\n",
       "3               753  1223"
      ]
     },
     "execution_count": 18,
     "metadata": {},
     "output_type": "execute_result"
    }
   ],
   "source": [
    "pd.crosstab(df.PaymentTier,df.Gender)\n"
   ]
  },
  {
   "cell_type": "code",
   "execution_count": 19,
   "id": "25dc84f1",
   "metadata": {
    "execution": {
     "iopub.execute_input": "2023-11-04T10:17:02.853820Z",
     "iopub.status.busy": "2023-11-04T10:17:02.852848Z",
     "iopub.status.idle": "2023-11-04T10:17:03.321485Z",
     "shell.execute_reply": "2023-11-04T10:17:03.320655Z"
    },
    "papermill": {
     "duration": 0.48689,
     "end_time": "2023-11-04T10:17:03.323656",
     "exception": false,
     "start_time": "2023-11-04T10:17:02.836766",
     "status": "completed"
    },
    "tags": []
   },
   "outputs": [
    {
     "name": "stderr",
     "output_type": "stream",
     "text": [
      "/opt/conda/lib/python3.10/site-packages/seaborn/axisgrid.py:118: UserWarning: The figure layout has changed to tight\n",
      "  self._figure.tight_layout(*args, **kwargs)\n"
     ]
    },
    {
     "data": {
      "text/plain": [
       "<seaborn.axisgrid.FacetGrid at 0x7f3e5bb19060>"
      ]
     },
     "execution_count": 19,
     "metadata": {},
     "output_type": "execute_result"
    },
    {
     "data": {
      "image/png": "[encoded data removed]",
      "text/plain": [
       "<Figure size 500x500 with 1 Axes>"
      ]
     },
     "metadata": {},
     "output_type": "display_data"
    }
   ],
   "source": [
    "sns.displot(df['PaymentTier'])\n"
   ]
  },
  {
   "cell_type": "code",
   "execution_count": 20,
   "id": "b20d1d1f",
   "metadata": {
    "execution": {
     "iopub.execute_input": "2023-11-04T10:17:03.358776Z",
     "iopub.status.busy": "2023-11-04T10:17:03.358148Z",
     "iopub.status.idle": "2023-11-04T10:17:03.838811Z",
     "shell.execute_reply": "2023-11-04T10:17:03.837688Z"
    },
    "papermill": {
     "duration": 0.501368,
     "end_time": "2023-11-04T10:17:03.841023",
     "exception": false,
     "start_time": "2023-11-04T10:17:03.339655",
     "status": "completed"
    },
    "tags": []
   },
   "outputs": [
    {
     "data": {
      "image/png": "[encoded data removed]",
      "text/plain": [
       "<Figure size 1000x600 with 2 Axes>"
      ]
     },
     "metadata": {},
     "output_type": "display_data"
    }
   ],
   "source": [
    "x=pd.crosstab([df.Gender,df.PaymentTier],df.JoiningYear)\n",
    "plt.figure(figsize=(10, 6))\n",
    "sns.heatmap(x, annot=True, fmt='d', cmap='YlGnBu')\n",
    "plt.xlabel('Joining Year')\n",
    "plt.ylabel('Gender and Payment Tier')\n",
    "plt.title('Crosstab: Gender and Payment Tier vs. Joining Year')\n",
    "plt.show()"
   ]
  },
  {
   "cell_type": "code",
   "execution_count": 21,
   "id": "d490b64c",
   "metadata": {
    "execution": {
     "iopub.execute_input": "2023-11-04T10:17:03.928814Z",
     "iopub.status.busy": "2023-11-04T10:17:03.928400Z",
     "iopub.status.idle": "2023-11-04T10:17:03.937415Z",
     "shell.execute_reply": "2023-11-04T10:17:03.936378Z"
    },
    "papermill": {
     "duration": 0.081149,
     "end_time": "2023-11-04T10:17:03.939733",
     "exception": false,
     "start_time": "2023-11-04T10:17:03.858584",
     "status": "completed"
    },
    "tags": []
   },
   "outputs": [
    {
     "data": {
      "text/plain": [
       "EverBenched\n",
       "No     2403\n",
       "Yes     361\n",
       "Name: count, dtype: int64"
      ]
     },
     "execution_count": 21,
     "metadata": {},
     "output_type": "execute_result"
    }
   ],
   "source": [
    "df.EverBenched.value_counts()"
   ]
  },
  {
   "cell_type": "code",
   "execution_count": 22,
   "id": "2b216121",
   "metadata": {
    "execution": {
     "iopub.execute_input": "2023-11-04T10:17:03.977093Z",
     "iopub.status.busy": "2023-11-04T10:17:03.976741Z",
     "iopub.status.idle": "2023-11-04T10:17:03.994523Z",
     "shell.execute_reply": "2023-11-04T10:17:03.993547Z"
    },
    "papermill": {
     "duration": 0.038873,
     "end_time": "2023-11-04T10:17:03.996725",
     "exception": false,
     "start_time": "2023-11-04T10:17:03.957852",
     "status": "completed"
    },
    "tags": []
   },
   "outputs": [
    {
     "data": {
      "text/html": [
       "<div>\n",
       "<style scoped>\n",
       "    .dataframe tbody tr th:only-of-type {\n",
       "        vertical-align: middle;\n",
       "    }\n",
       "\n",
       "    .dataframe tbody tr th {\n",
       "        vertical-align: top;\n",
       "    }\n",
       "\n",
       "    .dataframe thead th {\n",
       "        text-align: right;\n",
       "    }\n",
       "</style>\n",
       "<table border=\"1\" class=\"dataframe\">\n",
       "  <thead>\n",
       "    <tr style=\"text-align: right;\">\n",
       "      <th>EverBenched</th>\n",
       "      <th>No</th>\n",
       "      <th>Yes</th>\n",
       "    </tr>\n",
       "    <tr>\n",
       "      <th>Gender</th>\n",
       "      <th></th>\n",
       "      <th></th>\n",
       "    </tr>\n",
       "  </thead>\n",
       "  <tbody>\n",
       "    <tr>\n",
       "      <th>Female</th>\n",
       "      <td>1098</td>\n",
       "      <td>137</td>\n",
       "    </tr>\n",
       "    <tr>\n",
       "      <th>Male</th>\n",
       "      <td>1305</td>\n",
       "      <td>224</td>\n",
       "    </tr>\n",
       "  </tbody>\n",
       "</table>\n",
       "</div>"
      ],
      "text/plain": [
       "EverBenched    No  Yes\n",
       "Gender                \n",
       "Female       1098  137\n",
       "Male         1305  224"
      ]
     },
     "execution_count": 22,
     "metadata": {},
     "output_type": "execute_result"
    }
   ],
   "source": [
    "pd.crosstab(df.Gender,df.EverBenched)\n"
   ]
  },
  {
   "cell_type": "code",
   "execution_count": 23,
   "id": "5ea9776c",
   "metadata": {
    "execution": {
     "iopub.execute_input": "2023-11-04T10:17:04.033584Z",
     "iopub.status.busy": "2023-11-04T10:17:04.033187Z",
     "iopub.status.idle": "2023-11-04T10:17:04.310797Z",
     "shell.execute_reply": "2023-11-04T10:17:04.309736Z"
    },
    "papermill": {
     "duration": 0.298398,
     "end_time": "2023-11-04T10:17:04.312991",
     "exception": false,
     "start_time": "2023-11-04T10:17:04.014593",
     "status": "completed"
    },
    "tags": []
   },
   "outputs": [
    {
     "data": {
      "text/plain": [
       "<Axes: xlabel='EverBenched', ylabel='count'>"
      ]
     },
     "execution_count": 23,
     "metadata": {},
     "output_type": "execute_result"
    },
    {
     "data": {
      "image/png": "[encoded data removed]",
      "text/plain": [
       "<Figure size 640x480 with 1 Axes>"
      ]
     },
     "metadata": {},
     "output_type": "display_data"
    }
   ],
   "source": [
    "sns.countplot(data=df,x='EverBenched',hue='Gender')"
   ]
  },
  {
   "cell_type": "code",
   "execution_count": 24,
   "id": "bf8e2598",
   "metadata": {
    "execution": {
     "iopub.execute_input": "2023-11-04T10:17:04.355255Z",
     "iopub.status.busy": "2023-11-04T10:17:04.354335Z",
     "iopub.status.idle": "2023-11-04T10:17:04.730302Z",
     "shell.execute_reply": "2023-11-04T10:17:04.728948Z"
    },
    "papermill": {
     "duration": 0.401322,
     "end_time": "2023-11-04T10:17:04.732518",
     "exception": false,
     "start_time": "2023-11-04T10:17:04.331196",
     "status": "completed"
    },
    "tags": []
   },
   "outputs": [
    {
     "data": {
      "text/plain": [
       "<Figure size 1200x800 with 0 Axes>"
      ]
     },
     "metadata": {},
     "output_type": "display_data"
    },
    {
     "data": {
      "image/png": "[encoded data removed]",
      "text/plain": [
       "<Figure size 640x480 with 1 Axes>"
      ]
     },
     "metadata": {},
     "output_type": "display_data"
    }
   ],
   "source": [
    "x = pd.crosstab([df['Gender'], df['Education']], df['EverBenched'])\n",
    "\n",
    "plt.figure(figsize=(12, 8))\n",
    "\n",
    "x.plot(kind='bar', stacked=True)\n",
    "plt.title('Stacked Bar Plot of Gender, Education, and EverBenched')\n",
    "plt.xlabel('Gender, Education')\n",
    "plt.ylabel('Count')\n",
    "\n",
    "# Show the plot\n",
    "plt.show()"
   ]
  },
  {
   "cell_type": "code",
   "execution_count": 25,
   "id": "9ad446ed",
   "metadata": {
    "execution": {
     "iopub.execute_input": "2023-11-04T10:17:04.773319Z",
     "iopub.status.busy": "2023-11-04T10:17:04.772651Z",
     "iopub.status.idle": "2023-11-04T10:17:04.794464Z",
     "shell.execute_reply": "2023-11-04T10:17:04.793424Z"
    },
    "papermill": {
     "duration": 0.044923,
     "end_time": "2023-11-04T10:17:04.796656",
     "exception": false,
     "start_time": "2023-11-04T10:17:04.751733",
     "status": "completed"
    },
    "tags": []
   },
   "outputs": [
    {
     "data": {
      "text/html": [
       "<div>\n",
       "<style scoped>\n",
       "    .dataframe tbody tr th:only-of-type {\n",
       "        vertical-align: middle;\n",
       "    }\n",
       "\n",
       "    .dataframe tbody tr th {\n",
       "        vertical-align: top;\n",
       "    }\n",
       "\n",
       "    .dataframe thead th {\n",
       "        text-align: right;\n",
       "    }\n",
       "</style>\n",
       "<table border=\"1\" class=\"dataframe\">\n",
       "  <thead>\n",
       "    <tr style=\"text-align: right;\">\n",
       "      <th>Gender</th>\n",
       "      <th>Female</th>\n",
       "      <th>Male</th>\n",
       "    </tr>\n",
       "    <tr>\n",
       "      <th>ExperienceInCurrentDomain</th>\n",
       "      <th></th>\n",
       "      <th></th>\n",
       "    </tr>\n",
       "  </thead>\n",
       "  <tbody>\n",
       "    <tr>\n",
       "      <th>0</th>\n",
       "      <td>119</td>\n",
       "      <td>168</td>\n",
       "    </tr>\n",
       "    <tr>\n",
       "      <th>1</th>\n",
       "      <td>192</td>\n",
       "      <td>241</td>\n",
       "    </tr>\n",
       "    <tr>\n",
       "      <th>2</th>\n",
       "      <td>302</td>\n",
       "      <td>379</td>\n",
       "    </tr>\n",
       "    <tr>\n",
       "      <th>3</th>\n",
       "      <td>202</td>\n",
       "      <td>249</td>\n",
       "    </tr>\n",
       "    <tr>\n",
       "      <th>4</th>\n",
       "      <td>204</td>\n",
       "      <td>221</td>\n",
       "    </tr>\n",
       "    <tr>\n",
       "      <th>5</th>\n",
       "      <td>210</td>\n",
       "      <td>260</td>\n",
       "    </tr>\n",
       "    <tr>\n",
       "      <th>6</th>\n",
       "      <td>2</td>\n",
       "      <td>6</td>\n",
       "    </tr>\n",
       "    <tr>\n",
       "      <th>7</th>\n",
       "      <td>4</td>\n",
       "      <td>5</td>\n",
       "    </tr>\n",
       "  </tbody>\n",
       "</table>\n",
       "</div>"
      ],
      "text/plain": [
       "Gender                     Female  Male\n",
       "ExperienceInCurrentDomain              \n",
       "0                             119   168\n",
       "1                             192   241\n",
       "2                             302   379\n",
       "3                             202   249\n",
       "4                             204   221\n",
       "5                             210   260\n",
       "6                               2     6\n",
       "7                               4     5"
      ]
     },
     "execution_count": 25,
     "metadata": {},
     "output_type": "execute_result"
    }
   ],
   "source": [
    "pd.crosstab(df.ExperienceInCurrentDomain,df.Gender)"
   ]
  },
  {
   "cell_type": "code",
   "execution_count": 26,
   "id": "e28c0f09",
   "metadata": {
    "execution": {
     "iopub.execute_input": "2023-11-04T10:17:04.843516Z",
     "iopub.status.busy": "2023-11-04T10:17:04.842907Z",
     "iopub.status.idle": "2023-11-04T10:17:05.207577Z",
     "shell.execute_reply": "2023-11-04T10:17:05.206734Z"
    },
    "papermill": {
     "duration": 0.389367,
     "end_time": "2023-11-04T10:17:05.209848",
     "exception": false,
     "start_time": "2023-11-04T10:17:04.820481",
     "status": "completed"
    },
    "tags": []
   },
   "outputs": [
    {
     "data": {
      "text/plain": [
       "<Axes: xlabel='ExperienceInCurrentDomain', ylabel='count'>"
      ]
     },
     "execution_count": 26,
     "metadata": {},
     "output_type": "execute_result"
    },
    {
     "data": {
      "image/png": "[encoded data removed]",
      "text/plain": [
       "<Figure size 640x480 with 1 Axes>"
      ]
     },
     "metadata": {},
     "output_type": "display_data"
    }
   ],
   "source": [
    "sns.countplot(data=df,x='ExperienceInCurrentDomain',hue='Gender')"
   ]
  },
  {
   "cell_type": "code",
   "execution_count": 27,
   "id": "65a92ccf",
   "metadata": {
    "execution": {
     "iopub.execute_input": "2023-11-04T10:17:05.252646Z",
     "iopub.status.busy": "2023-11-04T10:17:05.252270Z",
     "iopub.status.idle": "2023-11-04T10:17:05.270780Z",
     "shell.execute_reply": "2023-11-04T10:17:05.269801Z"
    },
    "papermill": {
     "duration": 0.042161,
     "end_time": "2023-11-04T10:17:05.272949",
     "exception": false,
     "start_time": "2023-11-04T10:17:05.230788",
     "status": "completed"
    },
    "tags": []
   },
   "outputs": [
    {
     "data": {
      "text/html": [
       "<div>\n",
       "<style scoped>\n",
       "    .dataframe tbody tr th:only-of-type {\n",
       "        vertical-align: middle;\n",
       "    }\n",
       "\n",
       "    .dataframe tbody tr th {\n",
       "        vertical-align: top;\n",
       "    }\n",
       "\n",
       "    .dataframe thead th {\n",
       "        text-align: right;\n",
       "    }\n",
       "</style>\n",
       "<table border=\"1\" class=\"dataframe\">\n",
       "  <thead>\n",
       "    <tr style=\"text-align: right;\">\n",
       "      <th>PaymentTier</th>\n",
       "      <th>1</th>\n",
       "      <th>2</th>\n",
       "      <th>3</th>\n",
       "    </tr>\n",
       "    <tr>\n",
       "      <th>ExperienceInCurrentDomain</th>\n",
       "      <th></th>\n",
       "      <th></th>\n",
       "      <th></th>\n",
       "    </tr>\n",
       "  </thead>\n",
       "  <tbody>\n",
       "    <tr>\n",
       "      <th>0</th>\n",
       "      <td>23</td>\n",
       "      <td>56</td>\n",
       "      <td>208</td>\n",
       "    </tr>\n",
       "    <tr>\n",
       "      <th>1</th>\n",
       "      <td>35</td>\n",
       "      <td>75</td>\n",
       "      <td>323</td>\n",
       "    </tr>\n",
       "    <tr>\n",
       "      <th>2</th>\n",
       "      <td>48</td>\n",
       "      <td>167</td>\n",
       "      <td>466</td>\n",
       "    </tr>\n",
       "    <tr>\n",
       "      <th>3</th>\n",
       "      <td>37</td>\n",
       "      <td>92</td>\n",
       "      <td>322</td>\n",
       "    </tr>\n",
       "    <tr>\n",
       "      <th>4</th>\n",
       "      <td>32</td>\n",
       "      <td>91</td>\n",
       "      <td>302</td>\n",
       "    </tr>\n",
       "    <tr>\n",
       "      <th>5</th>\n",
       "      <td>41</td>\n",
       "      <td>87</td>\n",
       "      <td>342</td>\n",
       "    </tr>\n",
       "    <tr>\n",
       "      <th>6</th>\n",
       "      <td>1</td>\n",
       "      <td>1</td>\n",
       "      <td>6</td>\n",
       "    </tr>\n",
       "    <tr>\n",
       "      <th>7</th>\n",
       "      <td>1</td>\n",
       "      <td>1</td>\n",
       "      <td>7</td>\n",
       "    </tr>\n",
       "  </tbody>\n",
       "</table>\n",
       "</div>"
      ],
      "text/plain": [
       "PaymentTier                 1    2    3\n",
       "ExperienceInCurrentDomain              \n",
       "0                          23   56  208\n",
       "1                          35   75  323\n",
       "2                          48  167  466\n",
       "3                          37   92  322\n",
       "4                          32   91  302\n",
       "5                          41   87  342\n",
       "6                           1    1    6\n",
       "7                           1    1    7"
      ]
     },
     "execution_count": 27,
     "metadata": {},
     "output_type": "execute_result"
    }
   ],
   "source": [
    "pd.crosstab(df.ExperienceInCurrentDomain,df.PaymentTier)"
   ]
  },
  {
   "cell_type": "code",
   "execution_count": 28,
   "id": "6911d90b",
   "metadata": {
    "execution": {
     "iopub.execute_input": "2023-11-04T10:17:05.314781Z",
     "iopub.status.busy": "2023-11-04T10:17:05.314426Z",
     "iopub.status.idle": "2023-11-04T10:17:05.322574Z",
     "shell.execute_reply": "2023-11-04T10:17:05.321633Z"
    },
    "papermill": {
     "duration": 0.031115,
     "end_time": "2023-11-04T10:17:05.324481",
     "exception": false,
     "start_time": "2023-11-04T10:17:05.293366",
     "status": "completed"
    },
    "tags": []
   },
   "outputs": [
    {
     "data": {
      "text/plain": [
       "ExperienceInCurrentDomain\n",
       "2    681\n",
       "5    470\n",
       "3    451\n",
       "1    433\n",
       "4    425\n",
       "0    287\n",
       "7      9\n",
       "6      8\n",
       "Name: count, dtype: int64"
      ]
     },
     "execution_count": 28,
     "metadata": {},
     "output_type": "execute_result"
    }
   ],
   "source": [
    "df.ExperienceInCurrentDomain.value_counts()"
   ]
  },
  {
   "cell_type": "code",
   "execution_count": 29,
   "id": "5bf517cc",
   "metadata": {
    "execution": {
     "iopub.execute_input": "2023-11-04T10:17:05.367027Z",
     "iopub.status.busy": "2023-11-04T10:17:05.366700Z",
     "iopub.status.idle": "2023-11-04T10:17:05.743685Z",
     "shell.execute_reply": "2023-11-04T10:17:05.742551Z"
    },
    "papermill": {
     "duration": 0.401846,
     "end_time": "2023-11-04T10:17:05.746689",
     "exception": false,
     "start_time": "2023-11-04T10:17:05.344843",
     "status": "completed"
    },
    "tags": []
   },
   "outputs": [
    {
     "data": {
      "text/plain": [
       "<Axes: xlabel='ExperienceInCurrentDomain', ylabel='count'>"
      ]
     },
     "execution_count": 29,
     "metadata": {},
     "output_type": "execute_result"
    },
    {
     "data": {
      "image/png": "[encoded data removed]",
      "text/plain": [
       "<Figure size 640x480 with 1 Axes>"
      ]
     },
     "metadata": {},
     "output_type": "display_data"
    }
   ],
   "source": [
    "sns.countplot(data=df,x='ExperienceInCurrentDomain',hue='PaymentTier')"
   ]
  },
  {
   "cell_type": "code",
   "execution_count": 30,
   "id": "3e0cb64d",
   "metadata": {
    "execution": {
     "iopub.execute_input": "2023-11-04T10:17:05.803975Z",
     "iopub.status.busy": "2023-11-04T10:17:05.803282Z",
     "iopub.status.idle": "2023-11-04T10:17:06.184679Z",
     "shell.execute_reply": "2023-11-04T10:17:06.183707Z"
    },
    "papermill": {
     "duration": 0.407375,
     "end_time": "2023-11-04T10:17:06.187555",
     "exception": false,
     "start_time": "2023-11-04T10:17:05.780180",
     "status": "completed"
    },
    "tags": []
   },
   "outputs": [
    {
     "name": "stderr",
     "output_type": "stream",
     "text": [
      "/opt/conda/lib/python3.10/site-packages/seaborn/axisgrid.py:118: UserWarning: The figure layout has changed to tight\n",
      "  self._figure.tight_layout(*args, **kwargs)\n"
     ]
    },
    {
     "data": {
      "text/plain": [
       "<seaborn.axisgrid.FacetGrid at 0x7f3e58e89b10>"
      ]
     },
     "execution_count": 30,
     "metadata": {},
     "output_type": "execute_result"
    },
    {
     "data": {
      "image/png": "[encoded data removed]",
      "text/plain": [
       "<Figure size 500x500 with 1 Axes>"
      ]
     },
     "metadata": {},
     "output_type": "display_data"
    }
   ],
   "source": [
    "sns.catplot(data=df,x='Gender',y='ExperienceInCurrentDomain',kind='box')"
   ]
  },
  {
   "cell_type": "code",
   "execution_count": 31,
   "id": "47eaede9",
   "metadata": {
    "execution": {
     "iopub.execute_input": "2023-11-04T10:17:06.235480Z",
     "iopub.status.busy": "2023-11-04T10:17:06.235004Z",
     "iopub.status.idle": "2023-11-04T10:17:06.697519Z",
     "shell.execute_reply": "2023-11-04T10:17:06.696413Z"
    },
    "papermill": {
     "duration": 0.488527,
     "end_time": "2023-11-04T10:17:06.700059",
     "exception": false,
     "start_time": "2023-11-04T10:17:06.211532",
     "status": "completed"
    },
    "tags": []
   },
   "outputs": [
    {
     "name": "stderr",
     "output_type": "stream",
     "text": [
      "/opt/conda/lib/python3.10/site-packages/seaborn/axisgrid.py:118: UserWarning: The figure layout has changed to tight\n",
      "  self._figure.tight_layout(*args, **kwargs)\n"
     ]
    },
    {
     "data": {
      "text/plain": [
       "<seaborn.axisgrid.FacetGrid at 0x7f3e58d57af0>"
      ]
     },
     "execution_count": 31,
     "metadata": {},
     "output_type": "execute_result"
    },
    {
     "data": {
      "image/png": "[encoded data removed]",
      "text/plain": [
       "<Figure size 500x500 with 1 Axes>"
      ]
     },
     "metadata": {},
     "output_type": "display_data"
    }
   ],
   "source": [
    "sns.catplot(data=df,x='Gender',y='Age',kind='box')"
   ]
  },
  {
   "cell_type": "code",
   "execution_count": 32,
   "id": "efe4aaae",
   "metadata": {
    "execution": {
     "iopub.execute_input": "2023-11-04T10:17:06.749980Z",
     "iopub.status.busy": "2023-11-04T10:17:06.749535Z",
     "iopub.status.idle": "2023-11-04T10:17:06.758547Z",
     "shell.execute_reply": "2023-11-04T10:17:06.757466Z"
    },
    "papermill": {
     "duration": 0.036973,
     "end_time": "2023-11-04T10:17:06.760771",
     "exception": false,
     "start_time": "2023-11-04T10:17:06.723798",
     "status": "completed"
    },
    "tags": []
   },
   "outputs": [
    {
     "data": {
      "text/plain": [
       "LeaveOrNot\n",
       "0    1676\n",
       "1    1088\n",
       "Name: count, dtype: int64"
      ]
     },
     "execution_count": 32,
     "metadata": {},
     "output_type": "execute_result"
    }
   ],
   "source": [
    "df.LeaveOrNot.value_counts()"
   ]
  },
  {
   "cell_type": "code",
   "execution_count": 33,
   "id": "8d17de2a",
   "metadata": {
    "execution": {
     "iopub.execute_input": "2023-11-04T10:17:06.809113Z",
     "iopub.status.busy": "2023-11-04T10:17:06.808745Z",
     "iopub.status.idle": "2023-11-04T10:17:06.829029Z",
     "shell.execute_reply": "2023-11-04T10:17:06.827922Z"
    },
    "papermill": {
     "duration": 0.047144,
     "end_time": "2023-11-04T10:17:06.831195",
     "exception": false,
     "start_time": "2023-11-04T10:17:06.784051",
     "status": "completed"
    },
    "tags": []
   },
   "outputs": [
    {
     "data": {
      "text/html": [
       "<div>\n",
       "<style scoped>\n",
       "    .dataframe tbody tr th:only-of-type {\n",
       "        vertical-align: middle;\n",
       "    }\n",
       "\n",
       "    .dataframe tbody tr th {\n",
       "        vertical-align: top;\n",
       "    }\n",
       "\n",
       "    .dataframe thead th {\n",
       "        text-align: right;\n",
       "    }\n",
       "</style>\n",
       "<table border=\"1\" class=\"dataframe\">\n",
       "  <thead>\n",
       "    <tr style=\"text-align: right;\">\n",
       "      <th></th>\n",
       "      <th>LeaveOrNot</th>\n",
       "      <th>0</th>\n",
       "      <th>1</th>\n",
       "    </tr>\n",
       "    <tr>\n",
       "      <th>Gender</th>\n",
       "      <th>EverBenched</th>\n",
       "      <th></th>\n",
       "      <th></th>\n",
       "    </tr>\n",
       "  </thead>\n",
       "  <tbody>\n",
       "    <tr>\n",
       "      <th rowspan=\"2\" valign=\"top\">Female</th>\n",
       "      <th>No</th>\n",
       "      <td>558</td>\n",
       "      <td>540</td>\n",
       "    </tr>\n",
       "    <tr>\n",
       "      <th>Yes</th>\n",
       "      <td>63</td>\n",
       "      <td>74</td>\n",
       "    </tr>\n",
       "    <tr>\n",
       "      <th rowspan=\"2\" valign=\"top\">Male</th>\n",
       "      <th>No</th>\n",
       "      <td>916</td>\n",
       "      <td>389</td>\n",
       "    </tr>\n",
       "    <tr>\n",
       "      <th>Yes</th>\n",
       "      <td>139</td>\n",
       "      <td>85</td>\n",
       "    </tr>\n",
       "  </tbody>\n",
       "</table>\n",
       "</div>"
      ],
      "text/plain": [
       "LeaveOrNot            0    1\n",
       "Gender EverBenched          \n",
       "Female No           558  540\n",
       "       Yes           63   74\n",
       "Male   No           916  389\n",
       "       Yes          139   85"
      ]
     },
     "execution_count": 33,
     "metadata": {},
     "output_type": "execute_result"
    }
   ],
   "source": [
    "x=pd.crosstab([df.Gender,df.EverBenched],df.LeaveOrNot)\n",
    "x"
   ]
  },
  {
   "cell_type": "code",
   "execution_count": 34,
   "id": "91a3d8c6",
   "metadata": {
    "execution": {
     "iopub.execute_input": "2023-11-04T10:17:06.880828Z",
     "iopub.status.busy": "2023-11-04T10:17:06.880216Z",
     "iopub.status.idle": "2023-11-04T10:17:07.186950Z",
     "shell.execute_reply": "2023-11-04T10:17:07.185902Z"
    },
    "papermill": {
     "duration": 0.333934,
     "end_time": "2023-11-04T10:17:07.189225",
     "exception": false,
     "start_time": "2023-11-04T10:17:06.855291",
     "status": "completed"
    },
    "tags": []
   },
   "outputs": [
    {
     "data": {
      "image/png": "[encoded data removed]",
      "text/plain": [
       "<Figure size 640x480 with 1 Axes>"
      ]
     },
     "metadata": {},
     "output_type": "display_data"
    }
   ],
   "source": [
    "x.plot(kind='bar', stacked=True)\n",
    "plt.title('Stacked Bar Plot of Gender, EverBenched, and LeaveOrNot')\n",
    "plt.xlabel('(Gender, EverBenched)')\n",
    "plt.ylabel('Count')\n",
    "plt.xticks(rotation=45)  # Rotate x-axis labels for better readability\n",
    "\n",
    "# Show the plot\n",
    "plt.show()"
   ]
  },
  {
   "cell_type": "code",
   "execution_count": 35,
   "id": "42d92e21",
   "metadata": {
    "execution": {
     "iopub.execute_input": "2023-11-04T10:17:07.238732Z",
     "iopub.status.busy": "2023-11-04T10:17:07.238326Z",
     "iopub.status.idle": "2023-11-04T10:17:07.561848Z",
     "shell.execute_reply": "2023-11-04T10:17:07.560647Z"
    },
    "papermill": {
     "duration": 0.352046,
     "end_time": "2023-11-04T10:17:07.565018",
     "exception": false,
     "start_time": "2023-11-04T10:17:07.212972",
     "status": "completed"
    },
    "tags": []
   },
   "outputs": [],
   "source": [
    "from sklearn.preprocessing import LabelEncoder\n",
    "from sklearn.model_selection import train_test_split \n",
    "from sklearn.svm import SVC\n",
    "from sklearn.metrics import classification_report, accuracy_score, confusion_matrix"
   ]
  },
  {
   "cell_type": "code",
   "execution_count": 36,
   "id": "8a9b0ed9",
   "metadata": {
    "execution": {
     "iopub.execute_input": "2023-11-04T10:17:07.614627Z",
     "iopub.status.busy": "2023-11-04T10:17:07.614163Z",
     "iopub.status.idle": "2023-11-04T10:17:07.635536Z",
     "shell.execute_reply": "2023-11-04T10:17:07.634487Z"
    },
    "papermill": {
     "duration": 0.048429,
     "end_time": "2023-11-04T10:17:07.637741",
     "exception": false,
     "start_time": "2023-11-04T10:17:07.589312",
     "status": "completed"
    },
    "tags": []
   },
   "outputs": [
    {
     "name": "stderr",
     "output_type": "stream",
     "text": [
      "/tmp/ipykernel_20/2417979659.py:2: SettingWithCopyWarning: \n",
      "A value is trying to be set on a copy of a slice from a DataFrame.\n",
      "Try using .loc[row_indexer,col_indexer] = value instead\n",
      "\n",
      "See the caveats in the documentation: https://pandas.pydata.org/pandas-docs/stable/user_guide/indexing.html#returning-a-view-versus-a-copy\n",
      "  df[\"Education\"]=le.fit_transform(df[\"Education\"])\n",
      "/tmp/ipykernel_20/2417979659.py:3: SettingWithCopyWarning: \n",
      "A value is trying to be set on a copy of a slice from a DataFrame.\n",
      "Try using .loc[row_indexer,col_indexer] = value instead\n",
      "\n",
      "See the caveats in the documentation: https://pandas.pydata.org/pandas-docs/stable/user_guide/indexing.html#returning-a-view-versus-a-copy\n",
      "  df[\"City\"]=le.fit_transform(df[\"City\"])\n",
      "/tmp/ipykernel_20/2417979659.py:4: SettingWithCopyWarning: \n",
      "A value is trying to be set on a copy of a slice from a DataFrame.\n",
      "Try using .loc[row_indexer,col_indexer] = value instead\n",
      "\n",
      "See the caveats in the documentation: https://pandas.pydata.org/pandas-docs/stable/user_guide/indexing.html#returning-a-view-versus-a-copy\n",
      "  df[\"Gender\"]=le.fit_transform(df[\"Gender\"])\n",
      "/tmp/ipykernel_20/2417979659.py:5: SettingWithCopyWarning: \n",
      "A value is trying to be set on a copy of a slice from a DataFrame.\n",
      "Try using .loc[row_indexer,col_indexer] = value instead\n",
      "\n",
      "See the caveats in the documentation: https://pandas.pydata.org/pandas-docs/stable/user_guide/indexing.html#returning-a-view-versus-a-copy\n",
      "  df[\"EverBenched\"]=le.fit_transform(df[\"EverBenched\"])\n"
     ]
    },
    {
     "data": {
      "text/html": [
       "<div>\n",
       "<style scoped>\n",
       "    .dataframe tbody tr th:only-of-type {\n",
       "        vertical-align: middle;\n",
       "    }\n",
       "\n",
       "    .dataframe tbody tr th {\n",
       "        vertical-align: top;\n",
       "    }\n",
       "\n",
       "    .dataframe thead th {\n",
       "        text-align: right;\n",
       "    }\n",
       "</style>\n",
       "<table border=\"1\" class=\"dataframe\">\n",
       "  <thead>\n",
       "    <tr style=\"text-align: right;\">\n",
       "      <th></th>\n",
       "      <th>Education</th>\n",
       "      <th>JoiningYear</th>\n",
       "      <th>City</th>\n",
       "      <th>PaymentTier</th>\n",
       "      <th>Age</th>\n",
       "      <th>Gender</th>\n",
       "      <th>EverBenched</th>\n",
       "      <th>ExperienceInCurrentDomain</th>\n",
       "      <th>LeaveOrNot</th>\n",
       "    </tr>\n",
       "  </thead>\n",
       "  <tbody>\n",
       "    <tr>\n",
       "      <th>0</th>\n",
       "      <td>0</td>\n",
       "      <td>2017</td>\n",
       "      <td>0</td>\n",
       "      <td>3</td>\n",
       "      <td>34</td>\n",
       "      <td>1</td>\n",
       "      <td>0</td>\n",
       "      <td>0</td>\n",
       "      <td>0</td>\n",
       "    </tr>\n",
       "    <tr>\n",
       "      <th>1</th>\n",
       "      <td>0</td>\n",
       "      <td>2013</td>\n",
       "      <td>2</td>\n",
       "      <td>1</td>\n",
       "      <td>28</td>\n",
       "      <td>0</td>\n",
       "      <td>0</td>\n",
       "      <td>3</td>\n",
       "      <td>1</td>\n",
       "    </tr>\n",
       "    <tr>\n",
       "      <th>2</th>\n",
       "      <td>0</td>\n",
       "      <td>2014</td>\n",
       "      <td>1</td>\n",
       "      <td>3</td>\n",
       "      <td>38</td>\n",
       "      <td>0</td>\n",
       "      <td>0</td>\n",
       "      <td>2</td>\n",
       "      <td>0</td>\n",
       "    </tr>\n",
       "    <tr>\n",
       "      <th>3</th>\n",
       "      <td>1</td>\n",
       "      <td>2016</td>\n",
       "      <td>0</td>\n",
       "      <td>3</td>\n",
       "      <td>27</td>\n",
       "      <td>1</td>\n",
       "      <td>0</td>\n",
       "      <td>5</td>\n",
       "      <td>1</td>\n",
       "    </tr>\n",
       "    <tr>\n",
       "      <th>4</th>\n",
       "      <td>1</td>\n",
       "      <td>2017</td>\n",
       "      <td>2</td>\n",
       "      <td>3</td>\n",
       "      <td>24</td>\n",
       "      <td>1</td>\n",
       "      <td>1</td>\n",
       "      <td>2</td>\n",
       "      <td>1</td>\n",
       "    </tr>\n",
       "  </tbody>\n",
       "</table>\n",
       "</div>"
      ],
      "text/plain": [
       "   Education  JoiningYear  City  PaymentTier  Age  Gender  EverBenched  \\\n",
       "0          0         2017     0            3   34       1            0   \n",
       "1          0         2013     2            1   28       0            0   \n",
       "2          0         2014     1            3   38       0            0   \n",
       "3          1         2016     0            3   27       1            0   \n",
       "4          1         2017     2            3   24       1            1   \n",
       "\n",
       "   ExperienceInCurrentDomain  LeaveOrNot  \n",
       "0                          0           0  \n",
       "1                          3           1  \n",
       "2                          2           0  \n",
       "3                          5           1  \n",
       "4                          2           1  "
      ]
     },
     "execution_count": 36,
     "metadata": {},
     "output_type": "execute_result"
    }
   ],
   "source": [
    "le=LabelEncoder()\n",
    "df[\"Education\"]=le.fit_transform(df[\"Education\"])\n",
    "df[\"City\"]=le.fit_transform(df[\"City\"])\n",
    "df[\"Gender\"]=le.fit_transform(df[\"Gender\"])\n",
    "df[\"EverBenched\"]=le.fit_transform(df[\"EverBenched\"])\n",
    "df.head()"
   ]
  },
  {
   "cell_type": "code",
   "execution_count": 37,
   "id": "26e39bb8",
   "metadata": {
    "execution": {
     "iopub.execute_input": "2023-11-04T10:17:07.687247Z",
     "iopub.status.busy": "2023-11-04T10:17:07.686892Z",
     "iopub.status.idle": "2023-11-04T10:17:07.694651Z",
     "shell.execute_reply": "2023-11-04T10:17:07.693759Z"
    },
    "papermill": {
     "duration": 0.035302,
     "end_time": "2023-11-04T10:17:07.696815",
     "exception": false,
     "start_time": "2023-11-04T10:17:07.661513",
     "status": "completed"
    },
    "tags": []
   },
   "outputs": [],
   "source": [
    "x=df.drop(columns='LeaveOrNot')\n",
    "y=df.LeaveOrNot\n",
    "X_train, X_test, y_train, y_test = train_test_split(x, y, test_size = 0.25)"
   ]
  },
  {
   "cell_type": "code",
   "execution_count": 38,
   "id": "cd144489",
   "metadata": {
    "execution": {
     "iopub.execute_input": "2023-11-04T10:17:07.745948Z",
     "iopub.status.busy": "2023-11-04T10:17:07.745549Z",
     "iopub.status.idle": "2023-11-04T10:17:08.070255Z",
     "shell.execute_reply": "2023-11-04T10:17:08.069018Z"
    },
    "papermill": {
     "duration": 0.352093,
     "end_time": "2023-11-04T10:17:08.072479",
     "exception": false,
     "start_time": "2023-11-04T10:17:07.720386",
     "status": "completed"
    },
    "tags": []
   },
   "outputs": [
    {
     "data": {
      "text/html": [
       "<style>#sk-container-id-1 {color: black;background-color: white;}#sk-container-id-1 pre{padding: 0;}#sk-container-id-1 div.sk-toggleable {background-color: white;}#sk-container-id-1 label.sk-toggleable__label {cursor: pointer;display: block;width: 100%;margin-bottom: 0;padding: 0.3em;box-sizing: border-box;text-align: center;}#sk-container-id-1 label.sk-toggleable__label-arrow:before {content: \"▸\";float: left;margin-right: 0.25em;color: #696969;}#sk-container-id-1 label.sk-toggleable__label-arrow:hover:before {color: black;}#sk-container-id-1 div.sk-estimator:hover label.sk-toggleable__label-arrow:before {color: black;}#sk-container-id-1 div.sk-toggleable__content {max-height: 0;max-width: 0;overflow: hidden;text-align: left;background-color: #f0f8ff;}#sk-container-id-1 div.sk-toggleable__content pre {margin: 0.2em;color: black;border-radius: 0.25em;background-color: #f0f8ff;}#sk-container-id-1 input.sk-toggleable__control:checked~div.sk-toggleable__content {max-height: 200px;max-width: 100%;overflow: auto;}#sk-container-id-1 input.sk-toggleable__control:checked~label.sk-toggleable__label-arrow:before {content: \"▾\";}#sk-container-id-1 div.sk-estimator input.sk-toggleable__control:checked~label.sk-toggleable__label {background-color: #d4ebff;}#sk-container-id-1 div.sk-label input.sk-toggleable__control:checked~label.sk-toggleable__label {background-color: #d4ebff;}#sk-container-id-1 input.sk-hidden--visually {border: 0;clip: rect(1px 1px 1px 1px);clip: rect(1px, 1px, 1px, 1px);height: 1px;margin: -1px;overflow: hidden;padding: 0;position: absolute;width: 1px;}#sk-container-id-1 div.sk-estimator {font-family: monospace;background-color: #f0f8ff;border: 1px dotted black;border-radius: 0.25em;box-sizing: border-box;margin-bottom: 0.5em;}#sk-container-id-1 div.sk-estimator:hover {background-color: #d4ebff;}#sk-container-id-1 div.sk-parallel-item::after {content: \"\";width: 100%;border-bottom: 1px solid gray;flex-grow: 1;}#sk-container-id-1 div.sk-label:hover label.sk-toggleable__label {background-color: #d4ebff;}#sk-container-id-1 div.sk-serial::before {content: \"\";position: absolute;border-left: 1px solid gray;box-sizing: border-box;top: 0;bottom: 0;left: 50%;z-index: 0;}#sk-container-id-1 div.sk-serial {display: flex;flex-direction: column;align-items: center;background-color: white;padding-right: 0.2em;padding-left: 0.2em;position: relative;}#sk-container-id-1 div.sk-item {position: relative;z-index: 1;}#sk-container-id-1 div.sk-parallel {display: flex;align-items: stretch;justify-content: center;background-color: white;position: relative;}#sk-container-id-1 div.sk-item::before, #sk-container-id-1 div.sk-parallel-item::before {content: \"\";position: absolute;border-left: 1px solid gray;box-sizing: border-box;top: 0;bottom: 0;left: 50%;z-index: -1;}#sk-container-id-1 div.sk-parallel-item {display: flex;flex-direction: column;z-index: 1;position: relative;background-color: white;}#sk-container-id-1 div.sk-parallel-item:first-child::after {align-self: flex-end;width: 50%;}#sk-container-id-1 div.sk-parallel-item:last-child::after {align-self: flex-start;width: 50%;}#sk-container-id-1 div.sk-parallel-item:only-child::after {width: 0;}#sk-container-id-1 div.sk-dashed-wrapped {border: 1px dashed gray;margin: 0 0.4em 0.5em 0.4em;box-sizing: border-box;padding-bottom: 0.4em;background-color: white;}#sk-container-id-1 div.sk-label label {font-family: monospace;font-weight: bold;display: inline-block;line-height: 1.2em;}#sk-container-id-1 div.sk-label-container {text-align: center;}#sk-container-id-1 div.sk-container {/* jupyter's `normalize.less` sets `[hidden] { display: none; }` but bootstrap.min.css set `[hidden] { display: none !important; }` so we also need the `!important` here to be able to override the default hidden behavior on the sphinx rendered scikit-learn.org. See: https://github.com/scikit-learn/scikit-learn/issues/21755 */display: inline-block !important;position: relative;}#sk-container-id-1 div.sk-text-repr-fallback {display: none;}</style><div id=\"sk-container-id-1\" class=\"sk-top-container\"><div class=\"sk-text-repr-fallback\"><pre>SVC(kernel=&#x27;linear&#x27;, random_state=0)</pre><b>In a Jupyter environment, please rerun this cell to show the HTML representation or trust the notebook. <br />On GitHub, the HTML representation is unable to render, please try loading this page with nbviewer.org.</b></div><div class=\"sk-container\" hidden><div class=\"sk-item\"><div class=\"sk-estimator sk-toggleable\"><input class=\"sk-toggleable__control sk-hidden--visually\" id=\"sk-estimator-id-1\" type=\"checkbox\" checked><label for=\"sk-estimator-id-1\" class=\"sk-toggleable__label sk-toggleable__label-arrow\">SVC</label><div class=\"sk-toggleable__content\"><pre>SVC(kernel=&#x27;linear&#x27;, random_state=0)</pre></div></div></div></div></div>"
      ],
      "text/plain": [
       "SVC(kernel='linear', random_state=0)"
      ]
     },
     "execution_count": 38,
     "metadata": {},
     "output_type": "execute_result"
    }
   ],
   "source": [
    "model_svm = SVC(kernel = 'linear', random_state = 0)\n",
    "model_svm.fit(X_train, y_train)"
   ]
  },
  {
   "cell_type": "code",
   "execution_count": 39,
   "id": "ee1bfef4",
   "metadata": {
    "execution": {
     "iopub.execute_input": "2023-11-04T10:17:08.126894Z",
     "iopub.status.busy": "2023-11-04T10:17:08.125762Z",
     "iopub.status.idle": "2023-11-04T10:17:08.158662Z",
     "shell.execute_reply": "2023-11-04T10:17:08.157715Z"
    },
    "papermill": {
     "duration": 0.063004,
     "end_time": "2023-11-04T10:17:08.161108",
     "exception": false,
     "start_time": "2023-11-04T10:17:08.098104",
     "status": "completed"
    },
    "tags": []
   },
   "outputs": [],
   "source": [
    "y_pred = model_svm.predict(X_test)"
   ]
  },
  {
   "cell_type": "code",
   "execution_count": 40,
   "id": "f4e67797",
   "metadata": {
    "execution": {
     "iopub.execute_input": "2023-11-04T10:17:08.212886Z",
     "iopub.status.busy": "2023-11-04T10:17:08.212508Z",
     "iopub.status.idle": "2023-11-04T10:17:08.220180Z",
     "shell.execute_reply": "2023-11-04T10:17:08.219121Z"
    },
    "papermill": {
     "duration": 0.036159,
     "end_time": "2023-11-04T10:17:08.222401",
     "exception": false,
     "start_time": "2023-11-04T10:17:08.186242",
     "status": "completed"
    },
    "tags": []
   },
   "outputs": [
    {
     "name": "stdout",
     "output_type": "stream",
     "text": [
      "[[338  73]\n",
      " [169 111]]\n"
     ]
    }
   ],
   "source": [
    "conf_matrix_svm = confusion_matrix(y_test, y_pred)\n",
    "print(conf_matrix_svm)"
   ]
  },
  {
   "cell_type": "code",
   "execution_count": 41,
   "id": "4f867911",
   "metadata": {
    "execution": {
     "iopub.execute_input": "2023-11-04T10:17:08.274410Z",
     "iopub.status.busy": "2023-11-04T10:17:08.274058Z",
     "iopub.status.idle": "2023-11-04T10:17:08.280935Z",
     "shell.execute_reply": "2023-11-04T10:17:08.279514Z"
    },
    "papermill": {
     "duration": 0.035847,
     "end_time": "2023-11-04T10:17:08.283204",
     "exception": false,
     "start_time": "2023-11-04T10:17:08.247357",
     "status": "completed"
    },
    "tags": []
   },
   "outputs": [
    {
     "name": "stdout",
     "output_type": "stream",
     "text": [
      "0.6497829232995659\n"
     ]
    }
   ],
   "source": [
    "accuracy_svm = accuracy_score(y_test, y_pred)\n",
    "print(accuracy_svm)"
   ]
  },
  {
   "cell_type": "code",
   "execution_count": 42,
   "id": "499af972",
   "metadata": {
    "execution": {
     "iopub.execute_input": "2023-11-04T10:17:08.336180Z",
     "iopub.status.busy": "2023-11-04T10:17:08.335180Z",
     "iopub.status.idle": "2023-11-04T10:17:08.350336Z",
     "shell.execute_reply": "2023-11-04T10:17:08.348871Z"
    },
    "papermill": {
     "duration": 0.044021,
     "end_time": "2023-11-04T10:17:08.352473",
     "exception": false,
     "start_time": "2023-11-04T10:17:08.308452",
     "status": "completed"
    },
    "tags": []
   },
   "outputs": [
    {
     "name": "stdout",
     "output_type": "stream",
     "text": [
      "              precision    recall  f1-score   support\n",
      "\n",
      "           0       0.67      0.82      0.74       411\n",
      "           1       0.60      0.40      0.48       280\n",
      "\n",
      "    accuracy                           0.65       691\n",
      "   macro avg       0.63      0.61      0.61       691\n",
      "weighted avg       0.64      0.65      0.63       691\n",
      "\n"
     ]
    }
   ],
   "source": [
    "classification_rep_svm = classification_report(y_test, y_pred)\n",
    "print(classification_rep_svm)"
   ]
  },
  {
   "cell_type": "code",
   "execution_count": null,
   "id": "07d42bf8",
   "metadata": {
    "papermill": {
     "duration": 0.026965,
     "end_time": "2023-11-04T10:17:08.404886",
     "exception": false,
     "start_time": "2023-11-04T10:17:08.377921",
     "status": "completed"
    },
    "tags": []
   },
   "outputs": [],
   "source": []
  }
 ],
 "metadata": {
  "kernelspec": {
   "display_name": "Python 3",
   "language": "python",
   "name": "python3"
  },
  "language_info": {
   "codemirror_mode": {
    "name": "ipython",
    "version": 3
   },
   "file_extension": ".py",
   "mimetype": "text/x-python",
   "name": "python",
   "nbconvert_exporter": "python",
   "pygments_lexer": "ipython3",
   "version": "3.10.12"
  },
  "papermill": {
   "default_parameters": {},
   "duration": 13.223833,
   "end_time": "2023-11-04T10:17:08.950464",
   "environment_variables": {},
   "exception": null,
   "input_path": "__notebook__.ipynb",
   "output_path": "__notebook__.ipynb",
   "parameters": {},
   "start_time": "2023-11-04T10:16:55.726631",
   "version": "2.4.0"
  }
 },
 "nbformat": 4,
 "nbformat_minor": 5
}

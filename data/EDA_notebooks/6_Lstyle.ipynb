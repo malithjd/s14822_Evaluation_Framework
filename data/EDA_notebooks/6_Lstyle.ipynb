{
 "cells": [
  {
   "cell_type": "markdown",
   "id": "9f9351a3",
   "metadata": {
    "id": "c3gGX3W9lK8n",
    "papermill": {
     "duration": 0.010958,
     "end_time": "2024-01-15T12:26:43.882367",
     "exception": false,
     "start_time": "2024-01-15T12:26:43.871409",
     "status": "completed"
    },
    "tags": []
   },
   "source": [
    "# Ignasius Maret Ismoyo"
   ]
  },
  {
   "cell_type": "markdown",
   "id": "fb066dca",
   "metadata": {
    "id": "Dz57EKw6lPEj",
    "papermill": {
     "duration": 0.010035,
     "end_time": "2024-01-15T12:26:43.903336",
     "exception": false,
     "start_time": "2024-01-15T12:26:43.893301",
     "status": "completed"
    },
    "tags": []
   },
   "source": [
    "# -------------------------------------------------------\n",
    "# Import Library"
   ]
  },
  {
   "cell_type": "code",
   "execution_count": 1,
   "id": "7019cd2e",
   "metadata": {
    "execution": {
     "iopub.execute_input": "2024-01-15T12:26:43.926163Z",
     "iopub.status.busy": "2024-01-15T12:26:43.925447Z",
     "iopub.status.idle": "2024-01-15T12:26:46.637867Z",
     "shell.execute_reply": "2024-01-15T12:26:46.636653Z"
    },
    "id": "zmCeuceAd1EV",
    "papermill": {
     "duration": 2.727009,
     "end_time": "2024-01-15T12:26:46.640513",
     "exception": false,
     "start_time": "2024-01-15T12:26:43.913504",
     "status": "completed"
    },
    "tags": []
   },
   "outputs": [],
   "source": [
    "import pandas as pd\n",
    "import numpy as np\n",
    "import matplotlib.pyplot as plt\n",
    "import seaborn as sns\n",
    "import plotly.express as px\n",
    "%matplotlib inline\n",
    "import warnings\n",
    "warnings.filterwarnings(\"ignore\")\n",
    "import os\n",
    "for dirname, _, filenames in os.walk('/kaggle/input'):\n",
    "    for filename in filenames:\n",
    "        print(os.path.join(dirname, filename))"
   ]
  },
  {
   "cell_type": "markdown",
   "id": "e41f5707",
   "metadata": {
    "id": "vrcIpmBFlYm0",
    "papermill": {
     "duration": 0.010114,
     "end_time": "2024-01-15T12:26:46.661066",
     "exception": false,
     "start_time": "2024-01-15T12:26:46.650952",
     "status": "completed"
    },
    "tags": []
   },
   "source": [
    "# -------------------------------------------------------\n",
    "# Upload Data"
   ]
  },
  {
   "cell_type": "code",
   "execution_count": 3,
   "id": "7b124cda",
   "metadata": {
    "execution": {
     "iopub.execute_input": "2024-01-15T12:26:46.684555Z",
     "iopub.status.busy": "2024-01-15T12:26:46.683592Z",
     "iopub.status.idle": "2024-01-15T12:26:46.740058Z",
     "shell.execute_reply": "2024-01-15T12:26:46.738903Z"
    },
    "id": "GonQEP4oeAz7",
    "outputId": "c39d16e5-4838-41c5-b8cb-8425516857c5",
    "papermill": {
     "duration": 0.070975,
     "end_time": "2024-01-15T12:26:46.742521",
     "exception": false,
     "start_time": "2024-01-15T12:26:46.671546",
     "status": "completed"
    },
    "tags": []
   },
   "outputs": [
    {
     "data": {
      "text/html": [
       "<div>\n",
       "<style scoped>\n",
       "    .dataframe tbody tr th:only-of-type {\n",
       "        vertical-align: middle;\n",
       "    }\n",
       "\n",
       "    .dataframe tbody tr th {\n",
       "        vertical-align: top;\n",
       "    }\n",
       "\n",
       "    .dataframe thead th {\n",
       "        text-align: right;\n",
       "    }\n",
       "</style>\n",
       "<table border=\"1\" class=\"dataframe\">\n",
       "  <thead>\n",
       "    <tr style=\"text-align: right;\">\n",
       "      <th></th>\n",
       "      <th>Person ID</th>\n",
       "      <th>Gender</th>\n",
       "      <th>Age</th>\n",
       "      <th>Occupation</th>\n",
       "      <th>Sleep Duration</th>\n",
       "      <th>Quality of Sleep</th>\n",
       "      <th>Physical Activity Level</th>\n",
       "      <th>Stress Level</th>\n",
       "      <th>BMI Category</th>\n",
       "      <th>Blood Pressure</th>\n",
       "      <th>Heart Rate</th>\n",
       "      <th>Daily Steps</th>\n",
       "      <th>Sleep Disorder</th>\n",
       "    </tr>\n",
       "  </thead>\n",
       "  <tbody>\n",
       "    <tr>\n",
       "      <th>0</th>\n",
       "      <td>1</td>\n",
       "      <td>Male</td>\n",
       "      <td>27</td>\n",
       "      <td>Software Engineer</td>\n",
       "      <td>6.1</td>\n",
       "      <td>6</td>\n",
       "      <td>42</td>\n",
       "      <td>6</td>\n",
       "      <td>Overweight</td>\n",
       "      <td>126/83</td>\n",
       "      <td>77</td>\n",
       "      <td>4200</td>\n",
       "      <td>None</td>\n",
       "    </tr>\n",
       "    <tr>\n",
       "      <th>1</th>\n",
       "      <td>2</td>\n",
       "      <td>Male</td>\n",
       "      <td>28</td>\n",
       "      <td>Doctor</td>\n",
       "      <td>6.2</td>\n",
       "      <td>6</td>\n",
       "      <td>60</td>\n",
       "      <td>8</td>\n",
       "      <td>Normal</td>\n",
       "      <td>125/80</td>\n",
       "      <td>75</td>\n",
       "      <td>10000</td>\n",
       "      <td>None</td>\n",
       "    </tr>\n",
       "    <tr>\n",
       "      <th>2</th>\n",
       "      <td>3</td>\n",
       "      <td>Male</td>\n",
       "      <td>28</td>\n",
       "      <td>Doctor</td>\n",
       "      <td>6.2</td>\n",
       "      <td>6</td>\n",
       "      <td>60</td>\n",
       "      <td>8</td>\n",
       "      <td>Normal</td>\n",
       "      <td>125/80</td>\n",
       "      <td>75</td>\n",
       "      <td>10000</td>\n",
       "      <td>None</td>\n",
       "    </tr>\n",
       "    <tr>\n",
       "      <th>3</th>\n",
       "      <td>4</td>\n",
       "      <td>Male</td>\n",
       "      <td>28</td>\n",
       "      <td>Sales Representative</td>\n",
       "      <td>5.9</td>\n",
       "      <td>4</td>\n",
       "      <td>30</td>\n",
       "      <td>8</td>\n",
       "      <td>Obese</td>\n",
       "      <td>140/90</td>\n",
       "      <td>85</td>\n",
       "      <td>3000</td>\n",
       "      <td>Sleep Apnea</td>\n",
       "    </tr>\n",
       "    <tr>\n",
       "      <th>4</th>\n",
       "      <td>5</td>\n",
       "      <td>Male</td>\n",
       "      <td>28</td>\n",
       "      <td>Sales Representative</td>\n",
       "      <td>5.9</td>\n",
       "      <td>4</td>\n",
       "      <td>30</td>\n",
       "      <td>8</td>\n",
       "      <td>Obese</td>\n",
       "      <td>140/90</td>\n",
       "      <td>85</td>\n",
       "      <td>3000</td>\n",
       "      <td>Sleep Apnea</td>\n",
       "    </tr>\n",
       "    <tr>\n",
       "      <th>...</th>\n",
       "      <td>...</td>\n",
       "      <td>...</td>\n",
       "      <td>...</td>\n",
       "      <td>...</td>\n",
       "      <td>...</td>\n",
       "      <td>...</td>\n",
       "      <td>...</td>\n",
       "      <td>...</td>\n",
       "      <td>...</td>\n",
       "      <td>...</td>\n",
       "      <td>...</td>\n",
       "      <td>...</td>\n",
       "      <td>...</td>\n",
       "    </tr>\n",
       "    <tr>\n",
       "      <th>369</th>\n",
       "      <td>370</td>\n",
       "      <td>Female</td>\n",
       "      <td>59</td>\n",
       "      <td>Nurse</td>\n",
       "      <td>8.1</td>\n",
       "      <td>9</td>\n",
       "      <td>75</td>\n",
       "      <td>3</td>\n",
       "      <td>Overweight</td>\n",
       "      <td>140/95</td>\n",
       "      <td>68</td>\n",
       "      <td>7000</td>\n",
       "      <td>Sleep Apnea</td>\n",
       "    </tr>\n",
       "    <tr>\n",
       "      <th>370</th>\n",
       "      <td>371</td>\n",
       "      <td>Female</td>\n",
       "      <td>59</td>\n",
       "      <td>Nurse</td>\n",
       "      <td>8.0</td>\n",
       "      <td>9</td>\n",
       "      <td>75</td>\n",
       "      <td>3</td>\n",
       "      <td>Overweight</td>\n",
       "      <td>140/95</td>\n",
       "      <td>68</td>\n",
       "      <td>7000</td>\n",
       "      <td>Sleep Apnea</td>\n",
       "    </tr>\n",
       "    <tr>\n",
       "      <th>371</th>\n",
       "      <td>372</td>\n",
       "      <td>Female</td>\n",
       "      <td>59</td>\n",
       "      <td>Nurse</td>\n",
       "      <td>8.1</td>\n",
       "      <td>9</td>\n",
       "      <td>75</td>\n",
       "      <td>3</td>\n",
       "      <td>Overweight</td>\n",
       "      <td>140/95</td>\n",
       "      <td>68</td>\n",
       "      <td>7000</td>\n",
       "      <td>Sleep Apnea</td>\n",
       "    </tr>\n",
       "    <tr>\n",
       "      <th>372</th>\n",
       "      <td>373</td>\n",
       "      <td>Female</td>\n",
       "      <td>59</td>\n",
       "      <td>Nurse</td>\n",
       "      <td>8.1</td>\n",
       "      <td>9</td>\n",
       "      <td>75</td>\n",
       "      <td>3</td>\n",
       "      <td>Overweight</td>\n",
       "      <td>140/95</td>\n",
       "      <td>68</td>\n",
       "      <td>7000</td>\n",
       "      <td>Sleep Apnea</td>\n",
       "    </tr>\n",
       "    <tr>\n",
       "      <th>373</th>\n",
       "      <td>374</td>\n",
       "      <td>Female</td>\n",
       "      <td>59</td>\n",
       "      <td>Nurse</td>\n",
       "      <td>8.1</td>\n",
       "      <td>9</td>\n",
       "      <td>75</td>\n",
       "      <td>3</td>\n",
       "      <td>Overweight</td>\n",
       "      <td>140/95</td>\n",
       "      <td>68</td>\n",
       "      <td>7000</td>\n",
       "      <td>Sleep Apnea</td>\n",
       "    </tr>\n",
       "  </tbody>\n",
       "</table>\n",
       "<p>374 rows × 13 columns</p>\n",
       "</div>"
      ],
      "text/plain": [
       "     Person ID  Gender  Age            Occupation  Sleep Duration  \\\n",
       "0            1    Male   27     Software Engineer             6.1   \n",
       "1            2    Male   28                Doctor             6.2   \n",
       "2            3    Male   28                Doctor             6.2   \n",
       "3            4    Male   28  Sales Representative             5.9   \n",
       "4            5    Male   28  Sales Representative             5.9   \n",
       "..         ...     ...  ...                   ...             ...   \n",
       "369        370  Female   59                 Nurse             8.1   \n",
       "370        371  Female   59                 Nurse             8.0   \n",
       "371        372  Female   59                 Nurse             8.1   \n",
       "372        373  Female   59                 Nurse             8.1   \n",
       "373        374  Female   59                 Nurse             8.1   \n",
       "\n",
       "     Quality of Sleep  Physical Activity Level  Stress Level BMI Category  \\\n",
       "0                   6                       42             6   Overweight   \n",
       "1                   6                       60             8       Normal   \n",
       "2                   6                       60             8       Normal   \n",
       "3                   4                       30             8        Obese   \n",
       "4                   4                       30             8        Obese   \n",
       "..                ...                      ...           ...          ...   \n",
       "369                 9                       75             3   Overweight   \n",
       "370                 9                       75             3   Overweight   \n",
       "371                 9                       75             3   Overweight   \n",
       "372                 9                       75             3   Overweight   \n",
       "373                 9                       75             3   Overweight   \n",
       "\n",
       "    Blood Pressure  Heart Rate  Daily Steps Sleep Disorder  \n",
       "0           126/83          77         4200           None  \n",
       "1           125/80          75        10000           None  \n",
       "2           125/80          75        10000           None  \n",
       "3           140/90          85         3000    Sleep Apnea  \n",
       "4           140/90          85         3000    Sleep Apnea  \n",
       "..             ...         ...          ...            ...  \n",
       "369         140/95          68         7000    Sleep Apnea  \n",
       "370         140/95          68         7000    Sleep Apnea  \n",
       "371         140/95          68         7000    Sleep Apnea  \n",
       "372         140/95          68         7000    Sleep Apnea  \n",
       "373         140/95          68         7000    Sleep Apnea  \n",
       "\n",
       "[374 rows x 13 columns]"
      ]
     },
     "execution_count": 3,
     "metadata": {},
     "output_type": "execute_result"
    }
   ],
   "source": [
    "df = pd.read_csv('G:\\\\Internship\\\\Surge\\\\For Evaluation\\\\Project\\\\data\\datatables\\\\6_Lstyle.csv')\n",
    "df"
   ]
  },
  {
   "cell_type": "markdown",
   "id": "1f38d54c",
   "metadata": {
    "id": "S8OTTSHElhJd",
    "papermill": {
     "duration": 0.010825,
     "end_time": "2024-01-15T12:26:46.764399",
     "exception": false,
     "start_time": "2024-01-15T12:26:46.753574",
     "status": "completed"
    },
    "tags": []
   },
   "source": [
    "# -------------------------------------------------------\n",
    "# Data Exploration"
   ]
  },
  {
   "cell_type": "code",
   "execution_count": 3,
   "id": "917f39a6",
   "metadata": {
    "execution": {
     "iopub.execute_input": "2024-01-15T12:26:46.788528Z",
     "iopub.status.busy": "2024-01-15T12:26:46.788071Z",
     "iopub.status.idle": "2024-01-15T12:26:46.813364Z",
     "shell.execute_reply": "2024-01-15T12:26:46.811696Z"
    },
    "id": "bJzBaK5ZeIcq",
    "outputId": "64f91590-c41b-41bb-c800-b8ff2c203cdf",
    "papermill": {
     "duration": 0.040454,
     "end_time": "2024-01-15T12:26:46.816013",
     "exception": false,
     "start_time": "2024-01-15T12:26:46.775559",
     "status": "completed"
    },
    "tags": []
   },
   "outputs": [
    {
     "name": "stdout",
     "output_type": "stream",
     "text": [
      "<class 'pandas.core.frame.DataFrame'>\n",
      "RangeIndex: 374 entries, 0 to 373\n",
      "Data columns (total 13 columns):\n",
      " #   Column                   Non-Null Count  Dtype  \n",
      "---  ------                   --------------  -----  \n",
      " 0   Person ID                374 non-null    int64  \n",
      " 1   Gender                   374 non-null    object \n",
      " 2   Age                      374 non-null    int64  \n",
      " 3   Occupation               374 non-null    object \n",
      " 4   Sleep Duration           374 non-null    float64\n",
      " 5   Quality of Sleep         374 non-null    int64  \n",
      " 6   Physical Activity Level  374 non-null    int64  \n",
      " 7   Stress Level             374 non-null    int64  \n",
      " 8   BMI Category             374 non-null    object \n",
      " 9   Blood Pressure           374 non-null    object \n",
      " 10  Heart Rate               374 non-null    int64  \n",
      " 11  Daily Steps              374 non-null    int64  \n",
      " 12  Sleep Disorder           155 non-null    object \n",
      "dtypes: float64(1), int64(7), object(5)\n",
      "memory usage: 38.1+ KB\n"
     ]
    }
   ],
   "source": [
    "df.info()"
   ]
  },
  {
   "cell_type": "code",
   "execution_count": 4,
   "id": "e719e45f",
   "metadata": {
    "execution": {
     "iopub.execute_input": "2024-01-15T12:26:46.840634Z",
     "iopub.status.busy": "2024-01-15T12:26:46.840247Z",
     "iopub.status.idle": "2024-01-15T12:26:46.854063Z",
     "shell.execute_reply": "2024-01-15T12:26:46.852971Z"
    },
    "id": "pZYgAlL0jAl3",
    "outputId": "1f81054d-7806-4489-efd8-d44fd68e2da4",
    "papermill": {
     "duration": 0.029268,
     "end_time": "2024-01-15T12:26:46.856462",
     "exception": false,
     "start_time": "2024-01-15T12:26:46.827194",
     "status": "completed"
    },
    "tags": []
   },
   "outputs": [
    {
     "name": "stdout",
     "output_type": "stream",
     "text": [
      "Row = 374, columns = 13\n",
      "Total duplicated data = 0\n",
      "Total Null Values = 0\n",
      "Total NaN Values = 0\n"
     ]
    }
   ],
   "source": [
    "dup_value = df.duplicated().sum()\n",
    "nan_value = df.isna().sum().sum()\n",
    "null_value = df.isnull().sum().sum()\n",
    "print(f'Row = {df.shape[0]}, columns = {df.shape[1]}')\n",
    "print(f'Total duplicated data = {dup_value}')\n",
    "print(f'Total Null Values = {null_value}')\n",
    "print(f'Total NaN Values = {nan_value}')"
   ]
  },
  {
   "cell_type": "code",
   "execution_count": 5,
   "id": "fe27e521",
   "metadata": {
    "execution": {
     "iopub.execute_input": "2024-01-15T12:26:46.882491Z",
     "iopub.status.busy": "2024-01-15T12:26:46.882072Z",
     "iopub.status.idle": "2024-01-15T12:26:46.901114Z",
     "shell.execute_reply": "2024-01-15T12:26:46.899887Z"
    },
    "papermill": {
     "duration": 0.0359,
     "end_time": "2024-01-15T12:26:46.903569",
     "exception": false,
     "start_time": "2024-01-15T12:26:46.867669",
     "status": "completed"
    },
    "tags": []
   },
   "outputs": [
    {
     "data": {
      "text/html": [
       "<div>\n",
       "<style scoped>\n",
       "    .dataframe tbody tr th:only-of-type {\n",
       "        vertical-align: middle;\n",
       "    }\n",
       "\n",
       "    .dataframe tbody tr th {\n",
       "        vertical-align: top;\n",
       "    }\n",
       "\n",
       "    .dataframe thead th {\n",
       "        text-align: right;\n",
       "    }\n",
       "</style>\n",
       "<table border=\"1\" class=\"dataframe\">\n",
       "  <thead>\n",
       "    <tr style=\"text-align: right;\">\n",
       "      <th></th>\n",
       "      <th>Person ID</th>\n",
       "      <th>Gender</th>\n",
       "      <th>Age</th>\n",
       "      <th>Occupation</th>\n",
       "      <th>Sleep Duration</th>\n",
       "      <th>Quality of Sleep</th>\n",
       "      <th>Physical Activity Level</th>\n",
       "      <th>Stress Level</th>\n",
       "      <th>BMI Category</th>\n",
       "      <th>Blood Pressure</th>\n",
       "      <th>Heart Rate</th>\n",
       "      <th>Daily Steps</th>\n",
       "      <th>Sleep Disorder</th>\n",
       "    </tr>\n",
       "  </thead>\n",
       "  <tbody>\n",
       "    <tr>\n",
       "      <th>0</th>\n",
       "      <td>1</td>\n",
       "      <td>Male</td>\n",
       "      <td>27</td>\n",
       "      <td>Software Engineer</td>\n",
       "      <td>6.1</td>\n",
       "      <td>6</td>\n",
       "      <td>42</td>\n",
       "      <td>6</td>\n",
       "      <td>Overweight</td>\n",
       "      <td>126/83</td>\n",
       "      <td>77</td>\n",
       "      <td>4200</td>\n",
       "      <td>None</td>\n",
       "    </tr>\n",
       "    <tr>\n",
       "      <th>1</th>\n",
       "      <td>2</td>\n",
       "      <td>Male</td>\n",
       "      <td>28</td>\n",
       "      <td>Doctor</td>\n",
       "      <td>6.2</td>\n",
       "      <td>6</td>\n",
       "      <td>60</td>\n",
       "      <td>8</td>\n",
       "      <td>Normal</td>\n",
       "      <td>125/80</td>\n",
       "      <td>75</td>\n",
       "      <td>10000</td>\n",
       "      <td>None</td>\n",
       "    </tr>\n",
       "    <tr>\n",
       "      <th>2</th>\n",
       "      <td>3</td>\n",
       "      <td>Male</td>\n",
       "      <td>28</td>\n",
       "      <td>Doctor</td>\n",
       "      <td>6.2</td>\n",
       "      <td>6</td>\n",
       "      <td>60</td>\n",
       "      <td>8</td>\n",
       "      <td>Normal</td>\n",
       "      <td>125/80</td>\n",
       "      <td>75</td>\n",
       "      <td>10000</td>\n",
       "      <td>None</td>\n",
       "    </tr>\n",
       "    <tr>\n",
       "      <th>3</th>\n",
       "      <td>4</td>\n",
       "      <td>Male</td>\n",
       "      <td>28</td>\n",
       "      <td>Sales Representative</td>\n",
       "      <td>5.9</td>\n",
       "      <td>4</td>\n",
       "      <td>30</td>\n",
       "      <td>8</td>\n",
       "      <td>Obese</td>\n",
       "      <td>140/90</td>\n",
       "      <td>85</td>\n",
       "      <td>3000</td>\n",
       "      <td>Sleep Apnea</td>\n",
       "    </tr>\n",
       "    <tr>\n",
       "      <th>4</th>\n",
       "      <td>5</td>\n",
       "      <td>Male</td>\n",
       "      <td>28</td>\n",
       "      <td>Sales Representative</td>\n",
       "      <td>5.9</td>\n",
       "      <td>4</td>\n",
       "      <td>30</td>\n",
       "      <td>8</td>\n",
       "      <td>Obese</td>\n",
       "      <td>140/90</td>\n",
       "      <td>85</td>\n",
       "      <td>3000</td>\n",
       "      <td>Sleep Apnea</td>\n",
       "    </tr>\n",
       "  </tbody>\n",
       "</table>\n",
       "</div>"
      ],
      "text/plain": [
       "   Person ID Gender  Age            Occupation  Sleep Duration  \\\n",
       "0          1   Male   27     Software Engineer             6.1   \n",
       "1          2   Male   28                Doctor             6.2   \n",
       "2          3   Male   28                Doctor             6.2   \n",
       "3          4   Male   28  Sales Representative             5.9   \n",
       "4          5   Male   28  Sales Representative             5.9   \n",
       "\n",
       "   Quality of Sleep  Physical Activity Level  Stress Level BMI Category  \\\n",
       "0                 6                       42             6   Overweight   \n",
       "1                 6                       60             8       Normal   \n",
       "2                 6                       60             8       Normal   \n",
       "3                 4                       30             8        Obese   \n",
       "4                 4                       30             8        Obese   \n",
       "\n",
       "  Blood Pressure  Heart Rate  Daily Steps Sleep Disorder  \n",
       "0         126/83          77         4200           None  \n",
       "1         125/80          75        10000           None  \n",
       "2         125/80          75        10000           None  \n",
       "3         140/90          85         3000    Sleep Apnea  \n",
       "4         140/90          85         3000    Sleep Apnea  "
      ]
     },
     "execution_count": 5,
     "metadata": {},
     "output_type": "execute_result"
    }
   ],
   "source": [
    "df['Sleep Disorder'] = df['Sleep Disorder'].fillna('None')\n",
    "df.head(5)"
   ]
  },
  {
   "cell_type": "code",
   "execution_count": 5,
   "id": "a9e8c4a3",
   "metadata": {
    "execution": {
     "iopub.execute_input": "2024-01-15T12:26:46.928533Z",
     "iopub.status.busy": "2024-01-15T12:26:46.928111Z",
     "iopub.status.idle": "2024-01-15T12:26:46.941757Z",
     "shell.execute_reply": "2024-01-15T12:26:46.940178Z"
    },
    "papermill": {
     "duration": 0.029042,
     "end_time": "2024-01-15T12:26:46.944230",
     "exception": false,
     "start_time": "2024-01-15T12:26:46.915188",
     "status": "completed"
    },
    "tags": []
   },
   "outputs": [
    {
     "name": "stdout",
     "output_type": "stream",
     "text": [
      "Row = 374, columns = 13\n",
      "Total duplicated data = 0\n",
      "Total Null Values = 0\n",
      "Total NaN Values = 0\n"
     ]
    }
   ],
   "source": [
    "dup_value = df.duplicated().sum()\n",
    "nan_value = df.isna().sum().sum()\n",
    "null_value = df.isnull().sum().sum()\n",
    "print(f'Row = {df.shape[0]}, columns = {df.shape[1]}')\n",
    "print(f'Total duplicated data = {dup_value}')\n",
    "print(f'Total Null Values = {null_value}')\n",
    "print(f'Total NaN Values = {nan_value}')"
   ]
  },
  {
   "cell_type": "code",
   "execution_count": 7,
   "id": "c3134440",
   "metadata": {
    "execution": {
     "iopub.execute_input": "2024-01-15T12:26:46.969788Z",
     "iopub.status.busy": "2024-01-15T12:26:46.969399Z",
     "iopub.status.idle": "2024-01-15T12:26:47.007467Z",
     "shell.execute_reply": "2024-01-15T12:26:47.006405Z"
    },
    "id": "CHUevgi-lkwS",
    "outputId": "782dbf70-3fea-4f8c-f788-17c6457b68d4",
    "papermill": {
     "duration": 0.054197,
     "end_time": "2024-01-15T12:26:47.010007",
     "exception": false,
     "start_time": "2024-01-15T12:26:46.955810",
     "status": "completed"
    },
    "tags": []
   },
   "outputs": [
    {
     "data": {
      "text/html": [
       "<div>\n",
       "<style scoped>\n",
       "    .dataframe tbody tr th:only-of-type {\n",
       "        vertical-align: middle;\n",
       "    }\n",
       "\n",
       "    .dataframe tbody tr th {\n",
       "        vertical-align: top;\n",
       "    }\n",
       "\n",
       "    .dataframe thead th {\n",
       "        text-align: right;\n",
       "    }\n",
       "</style>\n",
       "<table border=\"1\" class=\"dataframe\">\n",
       "  <thead>\n",
       "    <tr style=\"text-align: right;\">\n",
       "      <th></th>\n",
       "      <th>Person ID</th>\n",
       "      <th>Age</th>\n",
       "      <th>Sleep Duration</th>\n",
       "      <th>Quality of Sleep</th>\n",
       "      <th>Physical Activity Level</th>\n",
       "      <th>Stress Level</th>\n",
       "      <th>Heart Rate</th>\n",
       "      <th>Daily Steps</th>\n",
       "    </tr>\n",
       "  </thead>\n",
       "  <tbody>\n",
       "    <tr>\n",
       "      <th>count</th>\n",
       "      <td>374.000000</td>\n",
       "      <td>374.000000</td>\n",
       "      <td>374.000000</td>\n",
       "      <td>374.000000</td>\n",
       "      <td>374.000000</td>\n",
       "      <td>374.000000</td>\n",
       "      <td>374.000000</td>\n",
       "      <td>374.000000</td>\n",
       "    </tr>\n",
       "    <tr>\n",
       "      <th>mean</th>\n",
       "      <td>187.500000</td>\n",
       "      <td>42.184492</td>\n",
       "      <td>7.132086</td>\n",
       "      <td>7.312834</td>\n",
       "      <td>59.171123</td>\n",
       "      <td>5.385027</td>\n",
       "      <td>70.165775</td>\n",
       "      <td>6816.844920</td>\n",
       "    </tr>\n",
       "    <tr>\n",
       "      <th>std</th>\n",
       "      <td>108.108742</td>\n",
       "      <td>8.673133</td>\n",
       "      <td>0.795657</td>\n",
       "      <td>1.196956</td>\n",
       "      <td>20.830804</td>\n",
       "      <td>1.774526</td>\n",
       "      <td>4.135676</td>\n",
       "      <td>1617.915679</td>\n",
       "    </tr>\n",
       "    <tr>\n",
       "      <th>min</th>\n",
       "      <td>1.000000</td>\n",
       "      <td>27.000000</td>\n",
       "      <td>5.800000</td>\n",
       "      <td>4.000000</td>\n",
       "      <td>30.000000</td>\n",
       "      <td>3.000000</td>\n",
       "      <td>65.000000</td>\n",
       "      <td>3000.000000</td>\n",
       "    </tr>\n",
       "    <tr>\n",
       "      <th>25%</th>\n",
       "      <td>94.250000</td>\n",
       "      <td>35.250000</td>\n",
       "      <td>6.400000</td>\n",
       "      <td>6.000000</td>\n",
       "      <td>45.000000</td>\n",
       "      <td>4.000000</td>\n",
       "      <td>68.000000</td>\n",
       "      <td>5600.000000</td>\n",
       "    </tr>\n",
       "    <tr>\n",
       "      <th>50%</th>\n",
       "      <td>187.500000</td>\n",
       "      <td>43.000000</td>\n",
       "      <td>7.200000</td>\n",
       "      <td>7.000000</td>\n",
       "      <td>60.000000</td>\n",
       "      <td>5.000000</td>\n",
       "      <td>70.000000</td>\n",
       "      <td>7000.000000</td>\n",
       "    </tr>\n",
       "    <tr>\n",
       "      <th>75%</th>\n",
       "      <td>280.750000</td>\n",
       "      <td>50.000000</td>\n",
       "      <td>7.800000</td>\n",
       "      <td>8.000000</td>\n",
       "      <td>75.000000</td>\n",
       "      <td>7.000000</td>\n",
       "      <td>72.000000</td>\n",
       "      <td>8000.000000</td>\n",
       "    </tr>\n",
       "    <tr>\n",
       "      <th>max</th>\n",
       "      <td>374.000000</td>\n",
       "      <td>59.000000</td>\n",
       "      <td>8.500000</td>\n",
       "      <td>9.000000</td>\n",
       "      <td>90.000000</td>\n",
       "      <td>8.000000</td>\n",
       "      <td>86.000000</td>\n",
       "      <td>10000.000000</td>\n",
       "    </tr>\n",
       "  </tbody>\n",
       "</table>\n",
       "</div>"
      ],
      "text/plain": [
       "        Person ID         Age  Sleep Duration  Quality of Sleep  \\\n",
       "count  374.000000  374.000000      374.000000        374.000000   \n",
       "mean   187.500000   42.184492        7.132086          7.312834   \n",
       "std    108.108742    8.673133        0.795657          1.196956   \n",
       "min      1.000000   27.000000        5.800000          4.000000   \n",
       "25%     94.250000   35.250000        6.400000          6.000000   \n",
       "50%    187.500000   43.000000        7.200000          7.000000   \n",
       "75%    280.750000   50.000000        7.800000          8.000000   \n",
       "max    374.000000   59.000000        8.500000          9.000000   \n",
       "\n",
       "       Physical Activity Level  Stress Level  Heart Rate   Daily Steps  \n",
       "count               374.000000    374.000000  374.000000    374.000000  \n",
       "mean                 59.171123      5.385027   70.165775   6816.844920  \n",
       "std                  20.830804      1.774526    4.135676   1617.915679  \n",
       "min                  30.000000      3.000000   65.000000   3000.000000  \n",
       "25%                  45.000000      4.000000   68.000000   5600.000000  \n",
       "50%                  60.000000      5.000000   70.000000   7000.000000  \n",
       "75%                  75.000000      7.000000   72.000000   8000.000000  \n",
       "max                  90.000000      8.000000   86.000000  10000.000000  "
      ]
     },
     "execution_count": 7,
     "metadata": {},
     "output_type": "execute_result"
    }
   ],
   "source": [
    "df.describe()"
   ]
  },
  {
   "cell_type": "markdown",
   "id": "7847af63",
   "metadata": {
    "id": "fovkcWZ7McwR",
    "papermill": {
     "duration": 0.011609,
     "end_time": "2024-01-15T12:26:47.033730",
     "exception": false,
     "start_time": "2024-01-15T12:26:47.022121",
     "status": "completed"
    },
    "tags": []
   },
   "source": [
    "# -------------------------------------------------------\n",
    "# 1. sleep disorders distribution"
   ]
  },
  {
   "cell_type": "code",
   "execution_count": 8,
   "id": "c1b086a1",
   "metadata": {
    "execution": {
     "iopub.execute_input": "2024-01-15T12:26:47.061812Z",
     "iopub.status.busy": "2024-01-15T12:26:47.061107Z",
     "iopub.status.idle": "2024-01-15T12:26:47.070925Z",
     "shell.execute_reply": "2024-01-15T12:26:47.069520Z"
    },
    "id": "7PrP9ldnhPUB",
    "outputId": "6cd117c9-7f8a-4e68-f19c-22d477eca840",
    "papermill": {
     "duration": 0.027052,
     "end_time": "2024-01-15T12:26:47.073474",
     "exception": false,
     "start_time": "2024-01-15T12:26:47.046422",
     "status": "completed"
    },
    "tags": []
   },
   "outputs": [
    {
     "data": {
      "text/plain": [
       "Sleep Disorder\n",
       "None           219\n",
       "Sleep Apnea     78\n",
       "Insomnia        77\n",
       "Name: count, dtype: int64"
      ]
     },
     "execution_count": 8,
     "metadata": {},
     "output_type": "execute_result"
    }
   ],
   "source": [
    "disorder_counts = df['Sleep Disorder'].value_counts()\n",
    "disorder_counts"
   ]
  },
  {
   "cell_type": "code",
   "execution_count": 9,
   "id": "e7ebb357",
   "metadata": {
    "execution": {
     "iopub.execute_input": "2024-01-15T12:26:47.099873Z",
     "iopub.status.busy": "2024-01-15T12:26:47.099442Z",
     "iopub.status.idle": "2024-01-15T12:26:47.104383Z",
     "shell.execute_reply": "2024-01-15T12:26:47.103355Z"
    },
    "id": "tDq_vKX1OYHY",
    "outputId": "b50ec414-aa77-45bb-ce1d-6cba975cb459",
    "papermill": {
     "duration": 0.020928,
     "end_time": "2024-01-15T12:26:47.106548",
     "exception": false,
     "start_time": "2024-01-15T12:26:47.085620",
     "status": "completed"
    },
    "tags": []
   },
   "outputs": [],
   "source": [
    "# # if want to use plotly pie chart, run it!\n",
    "# fig = px.pie(disorder_counts,\n",
    "#              values=df['Sleep Disorder'],\n",
    "#              names=['None','Insomnia','Sleep Apnea'],\n",
    "#              title=\"Sleep Disorders Distribution\",\n",
    "#              color_discrete_sequence=px.colors.sequential.RdBu, width = 650)\n",
    "# fig.show()"
   ]
  },
  {
   "cell_type": "code",
   "execution_count": 10,
   "id": "0614c108",
   "metadata": {
    "execution": {
     "iopub.execute_input": "2024-01-15T12:26:47.132480Z",
     "iopub.status.busy": "2024-01-15T12:26:47.132038Z",
     "iopub.status.idle": "2024-01-15T12:26:47.329353Z",
     "shell.execute_reply": "2024-01-15T12:26:47.327592Z"
    },
    "papermill": {
     "duration": 0.215423,
     "end_time": "2024-01-15T12:26:47.334050",
     "exception": false,
     "start_time": "2024-01-15T12:26:47.118627",
     "status": "completed"
    },
    "tags": []
   },
   "outputs": [
    {
     "data": {
      "image/png": "[encoded data removed]",
      "text/plain": [
       "<Figure size 640x480 with 1 Axes>"
      ]
     },
     "metadata": {},
     "output_type": "display_data"
    }
   ],
   "source": [
    "# if want to use matplotlib pie chart, run it!\n",
    "plt.pie(disorder_counts, \n",
    "        labels=disorder_counts.index, \n",
    "        autopct='%1.1f%%', \n",
    "        colors=['lightblue', 'lightcoral', 'gold'], \n",
    "        startangle=90)\n",
    "\n",
    "plt.title('Sleep Disorders Distribution', fontsize=16)\n",
    "\n",
    "plt.show()"
   ]
  },
  {
   "cell_type": "markdown",
   "id": "785a9679",
   "metadata": {
    "id": "eJqR-_T2dz73",
    "papermill": {
     "duration": 0.016692,
     "end_time": "2024-01-15T12:26:47.377606",
     "exception": false,
     "start_time": "2024-01-15T12:26:47.360914",
     "status": "completed"
    },
    "tags": []
   },
   "source": [
    "# -------------------------------------------------------\n",
    "# 2. BMI Category Distribution"
   ]
  },
  {
   "cell_type": "code",
   "execution_count": 11,
   "id": "382f3370",
   "metadata": {
    "execution": {
     "iopub.execute_input": "2024-01-15T12:26:47.405330Z",
     "iopub.status.busy": "2024-01-15T12:26:47.404111Z",
     "iopub.status.idle": "2024-01-15T12:26:47.413302Z",
     "shell.execute_reply": "2024-01-15T12:26:47.412177Z"
    },
    "id": "BYzP4ogieGtf",
    "outputId": "bce43fac-059a-4616-f57e-8455b6b92653",
    "papermill": {
     "duration": 0.025322,
     "end_time": "2024-01-15T12:26:47.415466",
     "exception": false,
     "start_time": "2024-01-15T12:26:47.390144",
     "status": "completed"
    },
    "tags": []
   },
   "outputs": [
    {
     "data": {
      "text/plain": [
       "BMI Category\n",
       "Normal           195\n",
       "Overweight       148\n",
       "Normal Weight     21\n",
       "Obese             10\n",
       "Name: count, dtype: int64"
      ]
     },
     "execution_count": 11,
     "metadata": {},
     "output_type": "execute_result"
    }
   ],
   "source": [
    "bmiCat_counts = df['BMI Category'].value_counts()\n",
    "bmiCat_counts"
   ]
  },
  {
   "cell_type": "code",
   "execution_count": 12,
   "id": "7e834ff9",
   "metadata": {
    "execution": {
     "iopub.execute_input": "2024-01-15T12:26:47.443718Z",
     "iopub.status.busy": "2024-01-15T12:26:47.442660Z",
     "iopub.status.idle": "2024-01-15T12:26:47.447959Z",
     "shell.execute_reply": "2024-01-15T12:26:47.447057Z"
    },
    "id": "X4kDGjJddv55",
    "outputId": "531c3520-6302-4ba9-f32d-b6ad7ae516b9",
    "papermill": {
     "duration": 0.021721,
     "end_time": "2024-01-15T12:26:47.450297",
     "exception": false,
     "start_time": "2024-01-15T12:26:47.428576",
     "status": "completed"
    },
    "tags": []
   },
   "outputs": [],
   "source": [
    "# # if want to use plotly pie chart, run it!\n",
    "# bmiCat_counts = df['BMI Category'].value_counts()\n",
    "# fig = px.pie(bmiCat_counts,\n",
    "#              values='BMI Category',\n",
    "#              names=['Normal','Overweight','Normal weight','Obese'],\n",
    "#              title=\"BMI Category Distribution\",\n",
    "#              color_discrete_sequence=px.colors.sequential.RdBu, width = 650)\n",
    "# fig.show()"
   ]
  },
  {
   "cell_type": "code",
   "execution_count": 13,
   "id": "70e66579",
   "metadata": {
    "execution": {
     "iopub.execute_input": "2024-01-15T12:26:47.478277Z",
     "iopub.status.busy": "2024-01-15T12:26:47.477519Z",
     "iopub.status.idle": "2024-01-15T12:26:47.614577Z",
     "shell.execute_reply": "2024-01-15T12:26:47.613378Z"
    },
    "papermill": {
     "duration": 0.154008,
     "end_time": "2024-01-15T12:26:47.617268",
     "exception": false,
     "start_time": "2024-01-15T12:26:47.463260",
     "status": "completed"
    },
    "tags": []
   },
   "outputs": [
    {
     "data": {
      "image/png": "[encoded data removed]",
      "text/plain": [
       "<Figure size 640x480 with 1 Axes>"
      ]
     },
     "metadata": {},
     "output_type": "display_data"
    }
   ],
   "source": [
    "# if want to use matplotlib pie chart, run it!\n",
    "plt.pie(bmiCat_counts, \n",
    "        labels=bmiCat_counts.index, \n",
    "        autopct='%1.1f%%', \n",
    "        colors=['lightblue', 'lightcoral', 'gold','cornflowerblue'])\n",
    "\n",
    "plt.title('BMI Category Distribution', fontsize=16)\n",
    "\n",
    "plt.show()"
   ]
  },
  {
   "cell_type": "markdown",
   "id": "a1d95ecd",
   "metadata": {
    "id": "OTTsYMRQqnoC",
    "papermill": {
     "duration": 0.01317,
     "end_time": "2024-01-15T12:26:47.643689",
     "exception": false,
     "start_time": "2024-01-15T12:26:47.630519",
     "status": "completed"
    },
    "tags": []
   },
   "source": [
    "# -------------------------------------------------------\n",
    "# 3. various effect of sleep disorders"
   ]
  },
  {
   "cell_type": "code",
   "execution_count": 14,
   "id": "edc59c40",
   "metadata": {
    "execution": {
     "iopub.execute_input": "2024-01-15T12:26:47.673039Z",
     "iopub.status.busy": "2024-01-15T12:26:47.672238Z",
     "iopub.status.idle": "2024-01-15T12:26:47.688855Z",
     "shell.execute_reply": "2024-01-15T12:26:47.687731Z"
    },
    "id": "RaMJkM8rquDl",
    "outputId": "569f5dda-ba46-4150-bf3c-9f1d33fb8471",
    "papermill": {
     "duration": 0.034237,
     "end_time": "2024-01-15T12:26:47.691562",
     "exception": false,
     "start_time": "2024-01-15T12:26:47.657325",
     "status": "completed"
    },
    "tags": []
   },
   "outputs": [
    {
     "data": {
      "text/html": [
       "<div>\n",
       "<style scoped>\n",
       "    .dataframe tbody tr th:only-of-type {\n",
       "        vertical-align: middle;\n",
       "    }\n",
       "\n",
       "    .dataframe tbody tr th {\n",
       "        vertical-align: top;\n",
       "    }\n",
       "\n",
       "    .dataframe thead th {\n",
       "        text-align: right;\n",
       "    }\n",
       "</style>\n",
       "<table border=\"1\" class=\"dataframe\">\n",
       "  <thead>\n",
       "    <tr style=\"text-align: right;\">\n",
       "      <th></th>\n",
       "      <th>Person ID</th>\n",
       "      <th>Gender</th>\n",
       "      <th>Age</th>\n",
       "      <th>Occupation</th>\n",
       "      <th>Sleep Duration</th>\n",
       "      <th>Quality of Sleep</th>\n",
       "      <th>Physical Activity Level</th>\n",
       "      <th>Stress Level</th>\n",
       "      <th>BMI Category</th>\n",
       "      <th>Blood Pressure</th>\n",
       "      <th>Heart Rate</th>\n",
       "      <th>Daily Steps</th>\n",
       "      <th>Sleep Disorder</th>\n",
       "    </tr>\n",
       "  </thead>\n",
       "  <tbody>\n",
       "    <tr>\n",
       "      <th>0</th>\n",
       "      <td>1</td>\n",
       "      <td>Male</td>\n",
       "      <td>27</td>\n",
       "      <td>Software Engineer</td>\n",
       "      <td>6.1</td>\n",
       "      <td>6</td>\n",
       "      <td>42</td>\n",
       "      <td>6</td>\n",
       "      <td>Overweight</td>\n",
       "      <td>126/83</td>\n",
       "      <td>77</td>\n",
       "      <td>4200</td>\n",
       "      <td>None</td>\n",
       "    </tr>\n",
       "    <tr>\n",
       "      <th>1</th>\n",
       "      <td>2</td>\n",
       "      <td>Male</td>\n",
       "      <td>28</td>\n",
       "      <td>Doctor</td>\n",
       "      <td>6.2</td>\n",
       "      <td>6</td>\n",
       "      <td>60</td>\n",
       "      <td>8</td>\n",
       "      <td>Normal</td>\n",
       "      <td>125/80</td>\n",
       "      <td>75</td>\n",
       "      <td>10000</td>\n",
       "      <td>None</td>\n",
       "    </tr>\n",
       "    <tr>\n",
       "      <th>2</th>\n",
       "      <td>3</td>\n",
       "      <td>Male</td>\n",
       "      <td>28</td>\n",
       "      <td>Doctor</td>\n",
       "      <td>6.2</td>\n",
       "      <td>6</td>\n",
       "      <td>60</td>\n",
       "      <td>8</td>\n",
       "      <td>Normal</td>\n",
       "      <td>125/80</td>\n",
       "      <td>75</td>\n",
       "      <td>10000</td>\n",
       "      <td>None</td>\n",
       "    </tr>\n",
       "  </tbody>\n",
       "</table>\n",
       "</div>"
      ],
      "text/plain": [
       "   Person ID Gender  Age         Occupation  Sleep Duration  Quality of Sleep  \\\n",
       "0          1   Male   27  Software Engineer             6.1                 6   \n",
       "1          2   Male   28             Doctor             6.2                 6   \n",
       "2          3   Male   28             Doctor             6.2                 6   \n",
       "\n",
       "   Physical Activity Level  Stress Level BMI Category Blood Pressure  \\\n",
       "0                       42             6   Overweight         126/83   \n",
       "1                       60             8       Normal         125/80   \n",
       "2                       60             8       Normal         125/80   \n",
       "\n",
       "   Heart Rate  Daily Steps Sleep Disorder  \n",
       "0          77         4200           None  \n",
       "1          75        10000           None  \n",
       "2          75        10000           None  "
      ]
     },
     "execution_count": 14,
     "metadata": {},
     "output_type": "execute_result"
    }
   ],
   "source": [
    "df.head(3)"
   ]
  },
  {
   "cell_type": "code",
   "execution_count": 15,
   "id": "99bd27fc",
   "metadata": {
    "execution": {
     "iopub.execute_input": "2024-01-15T12:26:47.720918Z",
     "iopub.status.busy": "2024-01-15T12:26:47.720130Z",
     "iopub.status.idle": "2024-01-15T12:26:47.750302Z",
     "shell.execute_reply": "2024-01-15T12:26:47.749212Z"
    },
    "id": "YCg6CnAfsn_W",
    "outputId": "40bbfae8-ac4f-4896-cdaf-cfa41801e040",
    "papermill": {
     "duration": 0.047687,
     "end_time": "2024-01-15T12:26:47.752863",
     "exception": false,
     "start_time": "2024-01-15T12:26:47.705176",
     "status": "completed"
    },
    "tags": []
   },
   "outputs": [
    {
     "data": {
      "text/html": [
       "<div>\n",
       "<style scoped>\n",
       "    .dataframe tbody tr th:only-of-type {\n",
       "        vertical-align: middle;\n",
       "    }\n",
       "\n",
       "    .dataframe tbody tr th {\n",
       "        vertical-align: top;\n",
       "    }\n",
       "\n",
       "    .dataframe thead th {\n",
       "        text-align: right;\n",
       "    }\n",
       "</style>\n",
       "<table border=\"1\" class=\"dataframe\">\n",
       "  <thead>\n",
       "    <tr style=\"text-align: right;\">\n",
       "      <th></th>\n",
       "      <th>Sleep Disorder</th>\n",
       "      <th>Occupation</th>\n",
       "      <th>Stress Level</th>\n",
       "    </tr>\n",
       "  </thead>\n",
       "  <tbody>\n",
       "    <tr>\n",
       "      <th>0</th>\n",
       "      <td>None</td>\n",
       "      <td>Doctor</td>\n",
       "      <td>8</td>\n",
       "    </tr>\n",
       "    <tr>\n",
       "      <th>1</th>\n",
       "      <td>Sleep Apnea</td>\n",
       "      <td>Scientist</td>\n",
       "      <td>8</td>\n",
       "    </tr>\n",
       "    <tr>\n",
       "      <th>2</th>\n",
       "      <td>Sleep Apnea</td>\n",
       "      <td>Sales Representative</td>\n",
       "      <td>8</td>\n",
       "    </tr>\n",
       "    <tr>\n",
       "      <th>3</th>\n",
       "      <td>Sleep Apnea</td>\n",
       "      <td>Nurse</td>\n",
       "      <td>8</td>\n",
       "    </tr>\n",
       "    <tr>\n",
       "      <th>4</th>\n",
       "      <td>Insomnia</td>\n",
       "      <td>Software Engineer</td>\n",
       "      <td>8</td>\n",
       "    </tr>\n",
       "  </tbody>\n",
       "</table>\n",
       "</div>"
      ],
      "text/plain": [
       "  Sleep Disorder            Occupation  Stress Level\n",
       "0           None                Doctor             8\n",
       "1    Sleep Apnea             Scientist             8\n",
       "2    Sleep Apnea  Sales Representative             8\n",
       "3    Sleep Apnea                 Nurse             8\n",
       "4       Insomnia     Software Engineer             8"
      ]
     },
     "execution_count": 15,
     "metadata": {},
     "output_type": "execute_result"
    }
   ],
   "source": [
    "sd_sl_head = df.groupby(['Sleep Disorder','Occupation'])['Stress Level'].apply(lambda x: x.value_counts().idxmax()).sort_values(ascending=False).reset_index().head(5)\n",
    "sd_sl_head"
   ]
  },
  {
   "cell_type": "code",
   "execution_count": 16,
   "id": "9c15d890",
   "metadata": {
    "execution": {
     "iopub.execute_input": "2024-01-15T12:26:47.782678Z",
     "iopub.status.busy": "2024-01-15T12:26:47.782265Z",
     "iopub.status.idle": "2024-01-15T12:26:47.799043Z",
     "shell.execute_reply": "2024-01-15T12:26:47.798248Z"
    },
    "id": "N8mXQkPeYIsa",
    "outputId": "f499ff45-4532-4ec0-eabf-76fa51dcee8c",
    "papermill": {
     "duration": 0.034439,
     "end_time": "2024-01-15T12:26:47.801140",
     "exception": false,
     "start_time": "2024-01-15T12:26:47.766701",
     "status": "completed"
    },
    "tags": []
   },
   "outputs": [
    {
     "data": {
      "text/html": [
       "<div>\n",
       "<style scoped>\n",
       "    .dataframe tbody tr th:only-of-type {\n",
       "        vertical-align: middle;\n",
       "    }\n",
       "\n",
       "    .dataframe tbody tr th {\n",
       "        vertical-align: top;\n",
       "    }\n",
       "\n",
       "    .dataframe thead th {\n",
       "        text-align: right;\n",
       "    }\n",
       "</style>\n",
       "<table border=\"1\" class=\"dataframe\">\n",
       "  <thead>\n",
       "    <tr style=\"text-align: right;\">\n",
       "      <th></th>\n",
       "      <th>Sleep Disorder</th>\n",
       "      <th>Gender</th>\n",
       "      <th>Stress Level</th>\n",
       "    </tr>\n",
       "  </thead>\n",
       "  <tbody>\n",
       "    <tr>\n",
       "      <th>0</th>\n",
       "      <td>Insomnia</td>\n",
       "      <td>Male</td>\n",
       "      <td>6.76</td>\n",
       "    </tr>\n",
       "    <tr>\n",
       "      <th>1</th>\n",
       "      <td>Sleep Apnea</td>\n",
       "      <td>Male</td>\n",
       "      <td>5.91</td>\n",
       "    </tr>\n",
       "    <tr>\n",
       "      <th>2</th>\n",
       "      <td>None</td>\n",
       "      <td>Male</td>\n",
       "      <td>5.89</td>\n",
       "    </tr>\n",
       "    <tr>\n",
       "      <th>3</th>\n",
       "      <td>Sleep Apnea</td>\n",
       "      <td>Female</td>\n",
       "      <td>5.63</td>\n",
       "    </tr>\n",
       "    <tr>\n",
       "      <th>4</th>\n",
       "      <td>Insomnia</td>\n",
       "      <td>Female</td>\n",
       "      <td>4.86</td>\n",
       "    </tr>\n",
       "    <tr>\n",
       "      <th>5</th>\n",
       "      <td>None</td>\n",
       "      <td>Female</td>\n",
       "      <td>3.82</td>\n",
       "    </tr>\n",
       "  </tbody>\n",
       "</table>\n",
       "</div>"
      ],
      "text/plain": [
       "  Sleep Disorder  Gender  Stress Level\n",
       "0       Insomnia    Male          6.76\n",
       "1    Sleep Apnea    Male          5.91\n",
       "2           None    Male          5.89\n",
       "3    Sleep Apnea  Female          5.63\n",
       "4       Insomnia  Female          4.86\n",
       "5           None  Female          3.82"
      ]
     },
     "execution_count": 16,
     "metadata": {},
     "output_type": "execute_result"
    }
   ],
   "source": [
    "sd_sl = np.round(df.groupby(['Sleep Disorder','Gender'])['Stress Level'].apply(lambda x: x.mean()), 2).sort_values(ascending=False).reset_index()\n",
    "sd_sl"
   ]
  },
  {
   "cell_type": "code",
   "execution_count": 17,
   "id": "6e3915c5",
   "metadata": {
    "execution": {
     "iopub.execute_input": "2024-01-15T12:26:47.831346Z",
     "iopub.status.busy": "2024-01-15T12:26:47.830278Z",
     "iopub.status.idle": "2024-01-15T12:26:49.909388Z",
     "shell.execute_reply": "2024-01-15T12:26:49.908430Z"
    },
    "id": "xGGcyiAJwVMi",
    "outputId": "f3078d5f-f716-4ccc-8d1e-1d8c33f3eecf",
    "papermill": {
     "duration": 2.096518,
     "end_time": "2024-01-15T12:26:49.911687",
     "exception": false,
     "start_time": "2024-01-15T12:26:47.815169",
     "status": "completed"
    },
    "tags": []
   },
   "outputs": [
    {
     "data": {
      "text/html": [
       "        <script type=\"text/javascript\">\n",
       "        window.PlotlyConfig = {MathJaxConfig: 'local'};\n",
       "        if (window.MathJax && window.MathJax.Hub && window.MathJax.Hub.Config) {window.MathJax.Hub.Config({SVG: {font: \"STIX-Web\"}});}\n",
       "        if (typeof require !== 'undefined') {\n",
       "        require.undef(\"plotly\");\n",
       "        requirejs.config({\n",
       "            paths: {\n",
       "                'plotly': ['https://cdn.plot.ly/plotly-2.25.2.min']\n",
       "            }\n",
       "        });\n",
       "        require(['plotly'], function(Plotly) {\n",
       "            window._Plotly = Plotly;\n",
       "        });\n",
       "        }\n",
       "        </script>\n",
       "        "
      ]
     },
     "metadata": {},
     "output_type": "display_data"
    },
    {
     "data": {
      "text/html": [
       "<div>                            <div id=\"717e2223-be0d-472b-8fe3-65365a52e9e2\" class=\"plotly-graph-div\" style=\"height:650px; width:1000px;\"></div>            <script type=\"text/javascript\">                require([\"plotly\"], function(Plotly) {                    window.PLOTLYENV=window.PLOTLYENV || {};                                    if (document.getElementById(\"717e2223-be0d-472b-8fe3-65365a52e9e2\")) {                    Plotly.newPlot(                        \"717e2223-be0d-472b-8fe3-65365a52e9e2\",                        [{\"alignmentgroup\":\"True\",\"bingroup\":\"x\",\"histfunc\":\"sum\",\"hovertemplate\":\"Gender=Male\\u003cbr\\u003eSleep Disorder=%{x}\\u003cbr\\u003esum of Stress Level=%{y}\\u003cextra\\u003e\\u003c\\u002fextra\\u003e\",\"legendgroup\":\"Male\",\"marker\":{\"color\":\"#636efa\",\"pattern\":{\"shape\":\"\"}},\"name\":\"Male\",\"offsetgroup\":\"Male\",\"orientation\":\"v\",\"showlegend\":true,\"texttemplate\":\"%{value:.3s}\",\"x\":[\"Insomnia\",\"Sleep Apnea\",\"None\"],\"xaxis\":\"x\",\"y\":[6.76,5.91,5.89],\"yaxis\":\"y\",\"type\":\"histogram\",\"textfont\":{\"size\":16},\"cliponaxis\":false,\"textangle\":0,\"textposition\":\"outside\"},{\"alignmentgroup\":\"True\",\"bingroup\":\"x\",\"histfunc\":\"sum\",\"hovertemplate\":\"Gender=Female\\u003cbr\\u003eSleep Disorder=%{x}\\u003cbr\\u003esum of Stress Level=%{y}\\u003cextra\\u003e\\u003c\\u002fextra\\u003e\",\"legendgroup\":\"Female\",\"marker\":{\"color\":\"#EF553B\",\"pattern\":{\"shape\":\"\"}},\"name\":\"Female\",\"offsetgroup\":\"Female\",\"orientation\":\"v\",\"showlegend\":true,\"texttemplate\":\"%{value:.3s}\",\"x\":[\"Sleep Apnea\",\"Insomnia\",\"None\"],\"xaxis\":\"x\",\"y\":[5.63,4.86,3.82],\"yaxis\":\"y\",\"type\":\"histogram\",\"textfont\":{\"size\":16},\"cliponaxis\":false,\"textangle\":0,\"textposition\":\"outside\"}],                        {\"template\":{\"data\":{\"histogram2dcontour\":[{\"type\":\"histogram2dcontour\",\"colorbar\":{\"outlinewidth\":0,\"ticks\":\"\"},\"colorscale\":[[0.0,\"#0d0887\"],[0.1111111111111111,\"#46039f\"],[0.2222222222222222,\"#7201a8\"],[0.3333333333333333,\"#9c179e\"],[0.4444444444444444,\"#bd3786\"],[0.5555555555555556,\"#d8576b\"],[0.6666666666666666,\"#ed7953\"],[0.7777777777777778,\"#fb9f3a\"],[0.8888888888888888,\"#fdca26\"],[1.0,\"#f0f921\"]]}],\"choropleth\":[{\"type\":\"choropleth\",\"colorbar\":{\"outlinewidth\":0,\"ticks\":\"\"}}],\"histogram2d\":[{\"type\":\"histogram2d\",\"colorbar\":{\"outlinewidth\":0,\"ticks\":\"\"},\"colorscale\":[[0.0,\"#0d0887\"],[0.1111111111111111,\"#46039f\"],[0.2222222222222222,\"#7201a8\"],[0.3333333333333333,\"#9c179e\"],[0.4444444444444444,\"#bd3786\"],[0.5555555555555556,\"#d8576b\"],[0.6666666666666666,\"#ed7953\"],[0.7777777777777778,\"#fb9f3a\"],[0.8888888888888888,\"#fdca26\"],[1.0,\"#f0f921\"]]}],\"heatmap\":[{\"type\":\"heatmap\",\"colorbar\":{\"outlinewidth\":0,\"ticks\":\"\"},\"colorscale\":[[0.0,\"#0d0887\"],[0.1111111111111111,\"#46039f\"],[0.2222222222222222,\"#7201a8\"],[0.3333333333333333,\"#9c179e\"],[0.4444444444444444,\"#bd3786\"],[0.5555555555555556,\"#d8576b\"],[0.6666666666666666,\"#ed7953\"],[0.7777777777777778,\"#fb9f3a\"],[0.8888888888888888,\"#fdca26\"],[1.0,\"#f0f921\"]]}],\"heatmapgl\":[{\"type\":\"heatmapgl\",\"colorbar\":{\"outlinewidth\":0,\"ticks\":\"\"},\"colorscale\":[[0.0,\"#0d0887\"],[0.1111111111111111,\"#46039f\"],[0.2222222222222222,\"#7201a8\"],[0.3333333333333333,\"#9c179e\"],[0.4444444444444444,\"#bd3786\"],[0.5555555555555556,\"#d8576b\"],[0.6666666666666666,\"#ed7953\"],[0.7777777777777778,\"#fb9f3a\"],[0.8888888888888888,\"#fdca26\"],[1.0,\"#f0f921\"]]}],\"contourcarpet\":[{\"type\":\"contourcarpet\",\"colorbar\":{\"outlinewidth\":0,\"ticks\":\"\"}}],\"contour\":[{\"type\":\"contour\",\"colorbar\":{\"outlinewidth\":0,\"ticks\":\"\"},\"colorscale\":[[0.0,\"#0d0887\"],[0.1111111111111111,\"#46039f\"],[0.2222222222222222,\"#7201a8\"],[0.3333333333333333,\"#9c179e\"],[0.4444444444444444,\"#bd3786\"],[0.5555555555555556,\"#d8576b\"],[0.6666666666666666,\"#ed7953\"],[0.7777777777777778,\"#fb9f3a\"],[0.8888888888888888,\"#fdca26\"],[1.0,\"#f0f921\"]]}],\"surface\":[{\"type\":\"surface\",\"colorbar\":{\"outlinewidth\":0,\"ticks\":\"\"},\"colorscale\":[[0.0,\"#0d0887\"],[0.1111111111111111,\"#46039f\"],[0.2222222222222222,\"#7201a8\"],[0.3333333333333333,\"#9c179e\"],[0.4444444444444444,\"#bd3786\"],[0.5555555555555556,\"#d8576b\"],[0.6666666666666666,\"#ed7953\"],[0.7777777777777778,\"#fb9f3a\"],[0.8888888888888888,\"#fdca26\"],[1.0,\"#f0f921\"]]}],\"mesh3d\":[{\"type\":\"mesh3d\",\"colorbar\":{\"outlinewidth\":0,\"ticks\":\"\"}}],\"scatter\":[{\"fillpattern\":{\"fillmode\":\"overlay\",\"size\":10,\"solidity\":0.2},\"type\":\"scatter\"}],\"parcoords\":[{\"type\":\"parcoords\",\"line\":{\"colorbar\":{\"outlinewidth\":0,\"ticks\":\"\"}}}],\"scatterpolargl\":[{\"type\":\"scatterpolargl\",\"marker\":{\"colorbar\":{\"outlinewidth\":0,\"ticks\":\"\"}}}],\"bar\":[{\"error_x\":{\"color\":\"#2a3f5f\"},\"error_y\":{\"color\":\"#2a3f5f\"},\"marker\":{\"line\":{\"color\":\"#E5ECF6\",\"width\":0.5},\"pattern\":{\"fillmode\":\"overlay\",\"size\":10,\"solidity\":0.2}},\"type\":\"bar\"}],\"scattergeo\":[{\"type\":\"scattergeo\",\"marker\":{\"colorbar\":{\"outlinewidth\":0,\"ticks\":\"\"}}}],\"scatterpolar\":[{\"type\":\"scatterpolar\",\"marker\":{\"colorbar\":{\"outlinewidth\":0,\"ticks\":\"\"}}}],\"histogram\":[{\"marker\":{\"pattern\":{\"fillmode\":\"overlay\",\"size\":10,\"solidity\":0.2}},\"type\":\"histogram\"}],\"scattergl\":[{\"type\":\"scattergl\",\"marker\":{\"colorbar\":{\"outlinewidth\":0,\"ticks\":\"\"}}}],\"scatter3d\":[{\"type\":\"scatter3d\",\"line\":{\"colorbar\":{\"outlinewidth\":0,\"ticks\":\"\"}},\"marker\":{\"colorbar\":{\"outlinewidth\":0,\"ticks\":\"\"}}}],\"scattermapbox\":[{\"type\":\"scattermapbox\",\"marker\":{\"colorbar\":{\"outlinewidth\":0,\"ticks\":\"\"}}}],\"scatterternary\":[{\"type\":\"scatterternary\",\"marker\":{\"colorbar\":{\"outlinewidth\":0,\"ticks\":\"\"}}}],\"scattercarpet\":[{\"type\":\"scattercarpet\",\"marker\":{\"colorbar\":{\"outlinewidth\":0,\"ticks\":\"\"}}}],\"carpet\":[{\"aaxis\":{\"endlinecolor\":\"#2a3f5f\",\"gridcolor\":\"white\",\"linecolor\":\"white\",\"minorgridcolor\":\"white\",\"startlinecolor\":\"#2a3f5f\"},\"baxis\":{\"endlinecolor\":\"#2a3f5f\",\"gridcolor\":\"white\",\"linecolor\":\"white\",\"minorgridcolor\":\"white\",\"startlinecolor\":\"#2a3f5f\"},\"type\":\"carpet\"}],\"table\":[{\"cells\":{\"fill\":{\"color\":\"#EBF0F8\"},\"line\":{\"color\":\"white\"}},\"header\":{\"fill\":{\"color\":\"#C8D4E3\"},\"line\":{\"color\":\"white\"}},\"type\":\"table\"}],\"barpolar\":[{\"marker\":{\"line\":{\"color\":\"#E5ECF6\",\"width\":0.5},\"pattern\":{\"fillmode\":\"overlay\",\"size\":10,\"solidity\":0.2}},\"type\":\"barpolar\"}],\"pie\":[{\"automargin\":true,\"type\":\"pie\"}]},\"layout\":{\"autotypenumbers\":\"strict\",\"colorway\":[\"#636efa\",\"#EF553B\",\"#00cc96\",\"#ab63fa\",\"#FFA15A\",\"#19d3f3\",\"#FF6692\",\"#B6E880\",\"#FF97FF\",\"#FECB52\"],\"font\":{\"color\":\"#2a3f5f\"},\"hovermode\":\"closest\",\"hoverlabel\":{\"align\":\"left\"},\"paper_bgcolor\":\"white\",\"plot_bgcolor\":\"#E5ECF6\",\"polar\":{\"bgcolor\":\"#E5ECF6\",\"angularaxis\":{\"gridcolor\":\"white\",\"linecolor\":\"white\",\"ticks\":\"\"},\"radialaxis\":{\"gridcolor\":\"white\",\"linecolor\":\"white\",\"ticks\":\"\"}},\"ternary\":{\"bgcolor\":\"#E5ECF6\",\"aaxis\":{\"gridcolor\":\"white\",\"linecolor\":\"white\",\"ticks\":\"\"},\"baxis\":{\"gridcolor\":\"white\",\"linecolor\":\"white\",\"ticks\":\"\"},\"caxis\":{\"gridcolor\":\"white\",\"linecolor\":\"white\",\"ticks\":\"\"}},\"coloraxis\":{\"colorbar\":{\"outlinewidth\":0,\"ticks\":\"\"}},\"colorscale\":{\"sequential\":[[0.0,\"#0d0887\"],[0.1111111111111111,\"#46039f\"],[0.2222222222222222,\"#7201a8\"],[0.3333333333333333,\"#9c179e\"],[0.4444444444444444,\"#bd3786\"],[0.5555555555555556,\"#d8576b\"],[0.6666666666666666,\"#ed7953\"],[0.7777777777777778,\"#fb9f3a\"],[0.8888888888888888,\"#fdca26\"],[1.0,\"#f0f921\"]],\"sequentialminus\":[[0.0,\"#0d0887\"],[0.1111111111111111,\"#46039f\"],[0.2222222222222222,\"#7201a8\"],[0.3333333333333333,\"#9c179e\"],[0.4444444444444444,\"#bd3786\"],[0.5555555555555556,\"#d8576b\"],[0.6666666666666666,\"#ed7953\"],[0.7777777777777778,\"#fb9f3a\"],[0.8888888888888888,\"#fdca26\"],[1.0,\"#f0f921\"]],\"diverging\":[[0,\"#8e0152\"],[0.1,\"#c51b7d\"],[0.2,\"#de77ae\"],[0.3,\"#f1b6da\"],[0.4,\"#fde0ef\"],[0.5,\"#f7f7f7\"],[0.6,\"#e6f5d0\"],[0.7,\"#b8e186\"],[0.8,\"#7fbc41\"],[0.9,\"#4d9221\"],[1,\"#276419\"]]},\"xaxis\":{\"gridcolor\":\"white\",\"linecolor\":\"white\",\"ticks\":\"\",\"title\":{\"standoff\":15},\"zerolinecolor\":\"white\",\"automargin\":true,\"zerolinewidth\":2},\"yaxis\":{\"gridcolor\":\"white\",\"linecolor\":\"white\",\"ticks\":\"\",\"title\":{\"standoff\":15},\"zerolinecolor\":\"white\",\"automargin\":true,\"zerolinewidth\":2},\"scene\":{\"xaxis\":{\"backgroundcolor\":\"#E5ECF6\",\"gridcolor\":\"white\",\"linecolor\":\"white\",\"showbackground\":true,\"ticks\":\"\",\"zerolinecolor\":\"white\",\"gridwidth\":2},\"yaxis\":{\"backgroundcolor\":\"#E5ECF6\",\"gridcolor\":\"white\",\"linecolor\":\"white\",\"showbackground\":true,\"ticks\":\"\",\"zerolinecolor\":\"white\",\"gridwidth\":2},\"zaxis\":{\"backgroundcolor\":\"#E5ECF6\",\"gridcolor\":\"white\",\"linecolor\":\"white\",\"showbackground\":true,\"ticks\":\"\",\"zerolinecolor\":\"white\",\"gridwidth\":2}},\"shapedefaults\":{\"line\":{\"color\":\"#2a3f5f\"}},\"annotationdefaults\":{\"arrowcolor\":\"#2a3f5f\",\"arrowhead\":0,\"arrowwidth\":1},\"geo\":{\"bgcolor\":\"white\",\"landcolor\":\"#E5ECF6\",\"subunitcolor\":\"white\",\"showland\":true,\"showlakes\":true,\"lakecolor\":\"white\"},\"title\":{\"x\":0.05},\"mapbox\":{\"style\":\"light\"}}},\"xaxis\":{\"anchor\":\"y\",\"domain\":[0.0,1.0],\"title\":{\"text\":\"Sleep Disorder\"}},\"yaxis\":{\"anchor\":\"x\",\"domain\":[0.0,1.0],\"title\":{\"text\":\"sum of Stress Level\"}},\"legend\":{\"title\":{\"text\":\"Gender\"},\"tracegroupgap\":0},\"margin\":{\"t\":60},\"barmode\":\"group\",\"height\":650,\"width\":1000,\"title\":{\"text\":\"Sleep Disorder Impact for Stress Level by Gender\"}},                        {\"responsive\": true}                    ).then(function(){\n",
       "                            \n",
       "var gd = document.getElementById('717e2223-be0d-472b-8fe3-65365a52e9e2');\n",
       "var x = new MutationObserver(function (mutations, observer) {{\n",
       "        var display = window.getComputedStyle(gd).display;\n",
       "        if (!display || display === 'none') {{\n",
       "            console.log([gd, 'removed!']);\n",
       "            Plotly.purge(gd);\n",
       "            observer.disconnect();\n",
       "        }}\n",
       "}});\n",
       "\n",
       "// Listen for the removal of the full notebook cells\n",
       "var notebookContainer = gd.closest('#notebook-container');\n",
       "if (notebookContainer) {{\n",
       "    x.observe(notebookContainer, {childList: true});\n",
       "}}\n",
       "\n",
       "// Listen for the clearing of the current output cell\n",
       "var outputEl = gd.closest('.output');\n",
       "if (outputEl) {{\n",
       "    x.observe(outputEl, {childList: true});\n",
       "}}\n",
       "\n",
       "                        })                };                });            </script>        </div>"
      ]
     },
     "metadata": {},
     "output_type": "display_data"
    }
   ],
   "source": [
    "fig = px.histogram(sd_sl, x=\"Sleep Disorder\", y=\"Stress Level\", text_auto='.3s',\n",
    "             color='Gender', barmode='group',\n",
    "             height=650, width = 1000)\n",
    "fig.update_traces(textfont_size=16, textangle=0, textposition=\"outside\", cliponaxis=False)\n",
    "fig.update_layout(title_text='Sleep Disorder Impact for Stress Level by Gender')\n",
    "fig.show()"
   ]
  },
  {
   "cell_type": "code",
   "execution_count": 18,
   "id": "234ae038",
   "metadata": {
    "execution": {
     "iopub.execute_input": "2024-01-15T12:26:49.953611Z",
     "iopub.status.busy": "2024-01-15T12:26:49.952470Z",
     "iopub.status.idle": "2024-01-15T12:26:49.975767Z",
     "shell.execute_reply": "2024-01-15T12:26:49.973695Z"
    },
    "id": "EV0sWOz_ZS6_",
    "outputId": "1ffe8d58-fb1b-4dd7-f76a-c81739eb8c03",
    "papermill": {
     "duration": 0.051503,
     "end_time": "2024-01-15T12:26:49.979900",
     "exception": false,
     "start_time": "2024-01-15T12:26:49.928397",
     "status": "completed"
    },
    "tags": []
   },
   "outputs": [
    {
     "data": {
      "text/html": [
       "<div>\n",
       "<style scoped>\n",
       "    .dataframe tbody tr th:only-of-type {\n",
       "        vertical-align: middle;\n",
       "    }\n",
       "\n",
       "    .dataframe tbody tr th {\n",
       "        vertical-align: top;\n",
       "    }\n",
       "\n",
       "    .dataframe thead th {\n",
       "        text-align: right;\n",
       "    }\n",
       "</style>\n",
       "<table border=\"1\" class=\"dataframe\">\n",
       "  <thead>\n",
       "    <tr style=\"text-align: right;\">\n",
       "      <th></th>\n",
       "      <th>Sleep Disorder</th>\n",
       "      <th>BMI Category</th>\n",
       "      <th>Quality of Sleep</th>\n",
       "    </tr>\n",
       "  </thead>\n",
       "  <tbody>\n",
       "    <tr>\n",
       "      <th>0</th>\n",
       "      <td>Insomnia</td>\n",
       "      <td>Normal Weight</td>\n",
       "      <td>5.00</td>\n",
       "    </tr>\n",
       "    <tr>\n",
       "      <th>1</th>\n",
       "      <td>Sleep Apnea</td>\n",
       "      <td>Normal Weight</td>\n",
       "      <td>5.00</td>\n",
       "    </tr>\n",
       "    <tr>\n",
       "      <th>2</th>\n",
       "      <td>Insomnia</td>\n",
       "      <td>Obese</td>\n",
       "      <td>6.00</td>\n",
       "    </tr>\n",
       "    <tr>\n",
       "      <th>3</th>\n",
       "      <td>Insomnia</td>\n",
       "      <td>Overweight</td>\n",
       "      <td>6.47</td>\n",
       "    </tr>\n",
       "    <tr>\n",
       "      <th>4</th>\n",
       "      <td>Sleep Apnea</td>\n",
       "      <td>Obese</td>\n",
       "      <td>6.67</td>\n",
       "    </tr>\n",
       "    <tr>\n",
       "      <th>5</th>\n",
       "      <td>None</td>\n",
       "      <td>Overweight</td>\n",
       "      <td>6.95</td>\n",
       "    </tr>\n",
       "    <tr>\n",
       "      <th>6</th>\n",
       "      <td>Sleep Apnea</td>\n",
       "      <td>Overweight</td>\n",
       "      <td>7.31</td>\n",
       "    </tr>\n",
       "    <tr>\n",
       "      <th>7</th>\n",
       "      <td>Sleep Apnea</td>\n",
       "      <td>Normal</td>\n",
       "      <td>7.40</td>\n",
       "    </tr>\n",
       "    <tr>\n",
       "      <th>8</th>\n",
       "      <td>None</td>\n",
       "      <td>Normal</td>\n",
       "      <td>7.66</td>\n",
       "    </tr>\n",
       "    <tr>\n",
       "      <th>9</th>\n",
       "      <td>Insomnia</td>\n",
       "      <td>Normal</td>\n",
       "      <td>7.86</td>\n",
       "    </tr>\n",
       "    <tr>\n",
       "      <th>10</th>\n",
       "      <td>None</td>\n",
       "      <td>Normal Weight</td>\n",
       "      <td>8.00</td>\n",
       "    </tr>\n",
       "  </tbody>\n",
       "</table>\n",
       "</div>"
      ],
      "text/plain": [
       "   Sleep Disorder   BMI Category  Quality of Sleep\n",
       "0        Insomnia  Normal Weight              5.00\n",
       "1     Sleep Apnea  Normal Weight              5.00\n",
       "2        Insomnia          Obese              6.00\n",
       "3        Insomnia     Overweight              6.47\n",
       "4     Sleep Apnea          Obese              6.67\n",
       "5            None     Overweight              6.95\n",
       "6     Sleep Apnea     Overweight              7.31\n",
       "7     Sleep Apnea         Normal              7.40\n",
       "8            None         Normal              7.66\n",
       "9        Insomnia         Normal              7.86\n",
       "10           None  Normal Weight              8.00"
      ]
     },
     "execution_count": 18,
     "metadata": {},
     "output_type": "execute_result"
    }
   ],
   "source": [
    "sd_QoS = np.round(df.groupby(['Sleep Disorder','BMI Category'])['Quality of Sleep'].apply(lambda x: x.mean()), 2).sort_values(ascending=True).reset_index()\n",
    "sd_QoS"
   ]
  },
  {
   "cell_type": "code",
   "execution_count": 19,
   "id": "d3312f5b",
   "metadata": {
    "execution": {
     "iopub.execute_input": "2024-01-15T12:26:50.025925Z",
     "iopub.status.busy": "2024-01-15T12:26:50.024809Z",
     "iopub.status.idle": "2024-01-15T12:26:50.123129Z",
     "shell.execute_reply": "2024-01-15T12:26:50.121917Z"
    },
    "id": "9Aox8jFiy9sM",
    "outputId": "9599c8f1-a15e-48af-f9a5-ee8a68704325",
    "papermill": {
     "duration": 0.123078,
     "end_time": "2024-01-15T12:26:50.125664",
     "exception": false,
     "start_time": "2024-01-15T12:26:50.002586",
     "status": "completed"
    },
    "tags": []
   },
   "outputs": [
    {
     "data": {
      "text/html": [
       "<div>                            <div id=\"5a804c32-5503-4c4f-aced-33bb39e5ca03\" class=\"plotly-graph-div\" style=\"height:650px; width:1000px;\"></div>            <script type=\"text/javascript\">                require([\"plotly\"], function(Plotly) {                    window.PLOTLYENV=window.PLOTLYENV || {};                                    if (document.getElementById(\"5a804c32-5503-4c4f-aced-33bb39e5ca03\")) {                    Plotly.newPlot(                        \"5a804c32-5503-4c4f-aced-33bb39e5ca03\",                        [{\"alignmentgroup\":\"True\",\"bingroup\":\"x\",\"histfunc\":\"sum\",\"hovertemplate\":\"BMI Category=Normal Weight\\u003cbr\\u003eSleep Disorder=%{x}\\u003cbr\\u003esum of Quality of Sleep=%{y}\\u003cextra\\u003e\\u003c\\u002fextra\\u003e\",\"legendgroup\":\"Normal Weight\",\"marker\":{\"color\":\"#636efa\",\"pattern\":{\"shape\":\"\"}},\"name\":\"Normal Weight\",\"offsetgroup\":\"Normal Weight\",\"orientation\":\"v\",\"showlegend\":true,\"texttemplate\":\"%{value:.3s}\",\"x\":[\"Insomnia\",\"Sleep Apnea\",\"None\"],\"xaxis\":\"x\",\"y\":[5.0,5.0,8.0],\"yaxis\":\"y\",\"type\":\"histogram\",\"textfont\":{\"size\":16},\"cliponaxis\":false,\"textangle\":0,\"textposition\":\"outside\"},{\"alignmentgroup\":\"True\",\"bingroup\":\"x\",\"histfunc\":\"sum\",\"hovertemplate\":\"BMI Category=Obese\\u003cbr\\u003eSleep Disorder=%{x}\\u003cbr\\u003esum of Quality of Sleep=%{y}\\u003cextra\\u003e\\u003c\\u002fextra\\u003e\",\"legendgroup\":\"Obese\",\"marker\":{\"color\":\"#EF553B\",\"pattern\":{\"shape\":\"\"}},\"name\":\"Obese\",\"offsetgroup\":\"Obese\",\"orientation\":\"v\",\"showlegend\":true,\"texttemplate\":\"%{value:.3s}\",\"x\":[\"Insomnia\",\"Sleep Apnea\"],\"xaxis\":\"x\",\"y\":[6.0,6.67],\"yaxis\":\"y\",\"type\":\"histogram\",\"textfont\":{\"size\":16},\"cliponaxis\":false,\"textangle\":0,\"textposition\":\"outside\"},{\"alignmentgroup\":\"True\",\"bingroup\":\"x\",\"histfunc\":\"sum\",\"hovertemplate\":\"BMI Category=Overweight\\u003cbr\\u003eSleep Disorder=%{x}\\u003cbr\\u003esum of Quality of Sleep=%{y}\\u003cextra\\u003e\\u003c\\u002fextra\\u003e\",\"legendgroup\":\"Overweight\",\"marker\":{\"color\":\"#00cc96\",\"pattern\":{\"shape\":\"\"}},\"name\":\"Overweight\",\"offsetgroup\":\"Overweight\",\"orientation\":\"v\",\"showlegend\":true,\"texttemplate\":\"%{value:.3s}\",\"x\":[\"Insomnia\",\"None\",\"Sleep Apnea\"],\"xaxis\":\"x\",\"y\":[6.47,6.95,7.31],\"yaxis\":\"y\",\"type\":\"histogram\",\"textfont\":{\"size\":16},\"cliponaxis\":false,\"textangle\":0,\"textposition\":\"outside\"},{\"alignmentgroup\":\"True\",\"bingroup\":\"x\",\"histfunc\":\"sum\",\"hovertemplate\":\"BMI Category=Normal\\u003cbr\\u003eSleep Disorder=%{x}\\u003cbr\\u003esum of Quality of Sleep=%{y}\\u003cextra\\u003e\\u003c\\u002fextra\\u003e\",\"legendgroup\":\"Normal\",\"marker\":{\"color\":\"#ab63fa\",\"pattern\":{\"shape\":\"\"}},\"name\":\"Normal\",\"offsetgroup\":\"Normal\",\"orientation\":\"v\",\"showlegend\":true,\"texttemplate\":\"%{value:.3s}\",\"x\":[\"Sleep Apnea\",\"None\",\"Insomnia\"],\"xaxis\":\"x\",\"y\":[7.4,7.66,7.86],\"yaxis\":\"y\",\"type\":\"histogram\",\"textfont\":{\"size\":16},\"cliponaxis\":false,\"textangle\":0,\"textposition\":\"outside\"}],                        {\"template\":{\"data\":{\"histogram2dcontour\":[{\"type\":\"histogram2dcontour\",\"colorbar\":{\"outlinewidth\":0,\"ticks\":\"\"},\"colorscale\":[[0.0,\"#0d0887\"],[0.1111111111111111,\"#46039f\"],[0.2222222222222222,\"#7201a8\"],[0.3333333333333333,\"#9c179e\"],[0.4444444444444444,\"#bd3786\"],[0.5555555555555556,\"#d8576b\"],[0.6666666666666666,\"#ed7953\"],[0.7777777777777778,\"#fb9f3a\"],[0.8888888888888888,\"#fdca26\"],[1.0,\"#f0f921\"]]}],\"choropleth\":[{\"type\":\"choropleth\",\"colorbar\":{\"outlinewidth\":0,\"ticks\":\"\"}}],\"histogram2d\":[{\"type\":\"histogram2d\",\"colorbar\":{\"outlinewidth\":0,\"ticks\":\"\"},\"colorscale\":[[0.0,\"#0d0887\"],[0.1111111111111111,\"#46039f\"],[0.2222222222222222,\"#7201a8\"],[0.3333333333333333,\"#9c179e\"],[0.4444444444444444,\"#bd3786\"],[0.5555555555555556,\"#d8576b\"],[0.6666666666666666,\"#ed7953\"],[0.7777777777777778,\"#fb9f3a\"],[0.8888888888888888,\"#fdca26\"],[1.0,\"#f0f921\"]]}],\"heatmap\":[{\"type\":\"heatmap\",\"colorbar\":{\"outlinewidth\":0,\"ticks\":\"\"},\"colorscale\":[[0.0,\"#0d0887\"],[0.1111111111111111,\"#46039f\"],[0.2222222222222222,\"#7201a8\"],[0.3333333333333333,\"#9c179e\"],[0.4444444444444444,\"#bd3786\"],[0.5555555555555556,\"#d8576b\"],[0.6666666666666666,\"#ed7953\"],[0.7777777777777778,\"#fb9f3a\"],[0.8888888888888888,\"#fdca26\"],[1.0,\"#f0f921\"]]}],\"heatmapgl\":[{\"type\":\"heatmapgl\",\"colorbar\":{\"outlinewidth\":0,\"ticks\":\"\"},\"colorscale\":[[0.0,\"#0d0887\"],[0.1111111111111111,\"#46039f\"],[0.2222222222222222,\"#7201a8\"],[0.3333333333333333,\"#9c179e\"],[0.4444444444444444,\"#bd3786\"],[0.5555555555555556,\"#d8576b\"],[0.6666666666666666,\"#ed7953\"],[0.7777777777777778,\"#fb9f3a\"],[0.8888888888888888,\"#fdca26\"],[1.0,\"#f0f921\"]]}],\"contourcarpet\":[{\"type\":\"contourcarpet\",\"colorbar\":{\"outlinewidth\":0,\"ticks\":\"\"}}],\"contour\":[{\"type\":\"contour\",\"colorbar\":{\"outlinewidth\":0,\"ticks\":\"\"},\"colorscale\":[[0.0,\"#0d0887\"],[0.1111111111111111,\"#46039f\"],[0.2222222222222222,\"#7201a8\"],[0.3333333333333333,\"#9c179e\"],[0.4444444444444444,\"#bd3786\"],[0.5555555555555556,\"#d8576b\"],[0.6666666666666666,\"#ed7953\"],[0.7777777777777778,\"#fb9f3a\"],[0.8888888888888888,\"#fdca26\"],[1.0,\"#f0f921\"]]}],\"surface\":[{\"type\":\"surface\",\"colorbar\":{\"outlinewidth\":0,\"ticks\":\"\"},\"colorscale\":[[0.0,\"#0d0887\"],[0.1111111111111111,\"#46039f\"],[0.2222222222222222,\"#7201a8\"],[0.3333333333333333,\"#9c179e\"],[0.4444444444444444,\"#bd3786\"],[0.5555555555555556,\"#d8576b\"],[0.6666666666666666,\"#ed7953\"],[0.7777777777777778,\"#fb9f3a\"],[0.8888888888888888,\"#fdca26\"],[1.0,\"#f0f921\"]]}],\"mesh3d\":[{\"type\":\"mesh3d\",\"colorbar\":{\"outlinewidth\":0,\"ticks\":\"\"}}],\"scatter\":[{\"fillpattern\":{\"fillmode\":\"overlay\",\"size\":10,\"solidity\":0.2},\"type\":\"scatter\"}],\"parcoords\":[{\"type\":\"parcoords\",\"line\":{\"colorbar\":{\"outlinewidth\":0,\"ticks\":\"\"}}}],\"scatterpolargl\":[{\"type\":\"scatterpolargl\",\"marker\":{\"colorbar\":{\"outlinewidth\":0,\"ticks\":\"\"}}}],\"bar\":[{\"error_x\":{\"color\":\"#2a3f5f\"},\"error_y\":{\"color\":\"#2a3f5f\"},\"marker\":{\"line\":{\"color\":\"#E5ECF6\",\"width\":0.5},\"pattern\":{\"fillmode\":\"overlay\",\"size\":10,\"solidity\":0.2}},\"type\":\"bar\"}],\"scattergeo\":[{\"type\":\"scattergeo\",\"marker\":{\"colorbar\":{\"outlinewidth\":0,\"ticks\":\"\"}}}],\"scatterpolar\":[{\"type\":\"scatterpolar\",\"marker\":{\"colorbar\":{\"outlinewidth\":0,\"ticks\":\"\"}}}],\"histogram\":[{\"marker\":{\"pattern\":{\"fillmode\":\"overlay\",\"size\":10,\"solidity\":0.2}},\"type\":\"histogram\"}],\"scattergl\":[{\"type\":\"scattergl\",\"marker\":{\"colorbar\":{\"outlinewidth\":0,\"ticks\":\"\"}}}],\"scatter3d\":[{\"type\":\"scatter3d\",\"line\":{\"colorbar\":{\"outlinewidth\":0,\"ticks\":\"\"}},\"marker\":{\"colorbar\":{\"outlinewidth\":0,\"ticks\":\"\"}}}],\"scattermapbox\":[{\"type\":\"scattermapbox\",\"marker\":{\"colorbar\":{\"outlinewidth\":0,\"ticks\":\"\"}}}],\"scatterternary\":[{\"type\":\"scatterternary\",\"marker\":{\"colorbar\":{\"outlinewidth\":0,\"ticks\":\"\"}}}],\"scattercarpet\":[{\"type\":\"scattercarpet\",\"marker\":{\"colorbar\":{\"outlinewidth\":0,\"ticks\":\"\"}}}],\"carpet\":[{\"aaxis\":{\"endlinecolor\":\"#2a3f5f\",\"gridcolor\":\"white\",\"linecolor\":\"white\",\"minorgridcolor\":\"white\",\"startlinecolor\":\"#2a3f5f\"},\"baxis\":{\"endlinecolor\":\"#2a3f5f\",\"gridcolor\":\"white\",\"linecolor\":\"white\",\"minorgridcolor\":\"white\",\"startlinecolor\":\"#2a3f5f\"},\"type\":\"carpet\"}],\"table\":[{\"cells\":{\"fill\":{\"color\":\"#EBF0F8\"},\"line\":{\"color\":\"white\"}},\"header\":{\"fill\":{\"color\":\"#C8D4E3\"},\"line\":{\"color\":\"white\"}},\"type\":\"table\"}],\"barpolar\":[{\"marker\":{\"line\":{\"color\":\"#E5ECF6\",\"width\":0.5},\"pattern\":{\"fillmode\":\"overlay\",\"size\":10,\"solidity\":0.2}},\"type\":\"barpolar\"}],\"pie\":[{\"automargin\":true,\"type\":\"pie\"}]},\"layout\":{\"autotypenumbers\":\"strict\",\"colorway\":[\"#636efa\",\"#EF553B\",\"#00cc96\",\"#ab63fa\",\"#FFA15A\",\"#19d3f3\",\"#FF6692\",\"#B6E880\",\"#FF97FF\",\"#FECB52\"],\"font\":{\"color\":\"#2a3f5f\"},\"hovermode\":\"closest\",\"hoverlabel\":{\"align\":\"left\"},\"paper_bgcolor\":\"white\",\"plot_bgcolor\":\"#E5ECF6\",\"polar\":{\"bgcolor\":\"#E5ECF6\",\"angularaxis\":{\"gridcolor\":\"white\",\"linecolor\":\"white\",\"ticks\":\"\"},\"radialaxis\":{\"gridcolor\":\"white\",\"linecolor\":\"white\",\"ticks\":\"\"}},\"ternary\":{\"bgcolor\":\"#E5ECF6\",\"aaxis\":{\"gridcolor\":\"white\",\"linecolor\":\"white\",\"ticks\":\"\"},\"baxis\":{\"gridcolor\":\"white\",\"linecolor\":\"white\",\"ticks\":\"\"},\"caxis\":{\"gridcolor\":\"white\",\"linecolor\":\"white\",\"ticks\":\"\"}},\"coloraxis\":{\"colorbar\":{\"outlinewidth\":0,\"ticks\":\"\"}},\"colorscale\":{\"sequential\":[[0.0,\"#0d0887\"],[0.1111111111111111,\"#46039f\"],[0.2222222222222222,\"#7201a8\"],[0.3333333333333333,\"#9c179e\"],[0.4444444444444444,\"#bd3786\"],[0.5555555555555556,\"#d8576b\"],[0.6666666666666666,\"#ed7953\"],[0.7777777777777778,\"#fb9f3a\"],[0.8888888888888888,\"#fdca26\"],[1.0,\"#f0f921\"]],\"sequentialminus\":[[0.0,\"#0d0887\"],[0.1111111111111111,\"#46039f\"],[0.2222222222222222,\"#7201a8\"],[0.3333333333333333,\"#9c179e\"],[0.4444444444444444,\"#bd3786\"],[0.5555555555555556,\"#d8576b\"],[0.6666666666666666,\"#ed7953\"],[0.7777777777777778,\"#fb9f3a\"],[0.8888888888888888,\"#fdca26\"],[1.0,\"#f0f921\"]],\"diverging\":[[0,\"#8e0152\"],[0.1,\"#c51b7d\"],[0.2,\"#de77ae\"],[0.3,\"#f1b6da\"],[0.4,\"#fde0ef\"],[0.5,\"#f7f7f7\"],[0.6,\"#e6f5d0\"],[0.7,\"#b8e186\"],[0.8,\"#7fbc41\"],[0.9,\"#4d9221\"],[1,\"#276419\"]]},\"xaxis\":{\"gridcolor\":\"white\",\"linecolor\":\"white\",\"ticks\":\"\",\"title\":{\"standoff\":15},\"zerolinecolor\":\"white\",\"automargin\":true,\"zerolinewidth\":2},\"yaxis\":{\"gridcolor\":\"white\",\"linecolor\":\"white\",\"ticks\":\"\",\"title\":{\"standoff\":15},\"zerolinecolor\":\"white\",\"automargin\":true,\"zerolinewidth\":2},\"scene\":{\"xaxis\":{\"backgroundcolor\":\"#E5ECF6\",\"gridcolor\":\"white\",\"linecolor\":\"white\",\"showbackground\":true,\"ticks\":\"\",\"zerolinecolor\":\"white\",\"gridwidth\":2},\"yaxis\":{\"backgroundcolor\":\"#E5ECF6\",\"gridcolor\":\"white\",\"linecolor\":\"white\",\"showbackground\":true,\"ticks\":\"\",\"zerolinecolor\":\"white\",\"gridwidth\":2},\"zaxis\":{\"backgroundcolor\":\"#E5ECF6\",\"gridcolor\":\"white\",\"linecolor\":\"white\",\"showbackground\":true,\"ticks\":\"\",\"zerolinecolor\":\"white\",\"gridwidth\":2}},\"shapedefaults\":{\"line\":{\"color\":\"#2a3f5f\"}},\"annotationdefaults\":{\"arrowcolor\":\"#2a3f5f\",\"arrowhead\":0,\"arrowwidth\":1},\"geo\":{\"bgcolor\":\"white\",\"landcolor\":\"#E5ECF6\",\"subunitcolor\":\"white\",\"showland\":true,\"showlakes\":true,\"lakecolor\":\"white\"},\"title\":{\"x\":0.05},\"mapbox\":{\"style\":\"light\"}}},\"xaxis\":{\"anchor\":\"y\",\"domain\":[0.0,1.0],\"title\":{\"text\":\"Sleep Disorder\"}},\"yaxis\":{\"anchor\":\"x\",\"domain\":[0.0,1.0],\"title\":{\"text\":\"sum of Quality of Sleep\"}},\"legend\":{\"title\":{\"text\":\"BMI Category\"},\"tracegroupgap\":0},\"margin\":{\"t\":60},\"barmode\":\"group\",\"height\":650,\"width\":1000,\"title\":{\"text\":\"Sleep Disorder Impact for BMI Category by Quality of Sleep\"}},                        {\"responsive\": true}                    ).then(function(){\n",
       "                            \n",
       "var gd = document.getElementById('5a804c32-5503-4c4f-aced-33bb39e5ca03');\n",
       "var x = new MutationObserver(function (mutations, observer) {{\n",
       "        var display = window.getComputedStyle(gd).display;\n",
       "        if (!display || display === 'none') {{\n",
       "            console.log([gd, 'removed!']);\n",
       "            Plotly.purge(gd);\n",
       "            observer.disconnect();\n",
       "        }}\n",
       "}});\n",
       "\n",
       "// Listen for the removal of the full notebook cells\n",
       "var notebookContainer = gd.closest('#notebook-container');\n",
       "if (notebookContainer) {{\n",
       "    x.observe(notebookContainer, {childList: true});\n",
       "}}\n",
       "\n",
       "// Listen for the clearing of the current output cell\n",
       "var outputEl = gd.closest('.output');\n",
       "if (outputEl) {{\n",
       "    x.observe(outputEl, {childList: true});\n",
       "}}\n",
       "\n",
       "                        })                };                });            </script>        </div>"
      ]
     },
     "metadata": {},
     "output_type": "display_data"
    }
   ],
   "source": [
    "fig = px.histogram(sd_QoS, x=\"Sleep Disorder\", y=\"Quality of Sleep\", text_auto='.3s',\n",
    "             color='BMI Category', barmode='group',\n",
    "             height=650, width = 1000)\n",
    "fig.update_traces(textfont_size=16, textangle=0, textposition=\"outside\", cliponaxis=False)\n",
    "fig.update_layout(title_text='Sleep Disorder Impact for BMI Category by Quality of Sleep')\n",
    "fig.show()"
   ]
  },
  {
   "cell_type": "code",
   "execution_count": 20,
   "id": "f744d1ae",
   "metadata": {
    "execution": {
     "iopub.execute_input": "2024-01-15T12:26:50.167846Z",
     "iopub.status.busy": "2024-01-15T12:26:50.167396Z",
     "iopub.status.idle": "2024-01-15T12:26:50.185494Z",
     "shell.execute_reply": "2024-01-15T12:26:50.183176Z"
    },
    "id": "k6f06RcCrR5U",
    "outputId": "264edeaf-518f-4ee0-fc31-39502458a1a0",
    "papermill": {
     "duration": 0.044285,
     "end_time": "2024-01-15T12:26:50.188267",
     "exception": false,
     "start_time": "2024-01-15T12:26:50.143982",
     "status": "completed"
    },
    "tags": []
   },
   "outputs": [
    {
     "data": {
      "text/html": [
       "<div>\n",
       "<style scoped>\n",
       "    .dataframe tbody tr th:only-of-type {\n",
       "        vertical-align: middle;\n",
       "    }\n",
       "\n",
       "    .dataframe tbody tr th {\n",
       "        vertical-align: top;\n",
       "    }\n",
       "\n",
       "    .dataframe thead th {\n",
       "        text-align: right;\n",
       "    }\n",
       "</style>\n",
       "<table border=\"1\" class=\"dataframe\">\n",
       "  <thead>\n",
       "    <tr style=\"text-align: right;\">\n",
       "      <th></th>\n",
       "      <th>Sleep Disorder</th>\n",
       "      <th>Daily Steps</th>\n",
       "    </tr>\n",
       "  </thead>\n",
       "  <tbody>\n",
       "    <tr>\n",
       "      <th>0</th>\n",
       "      <td>Insomnia</td>\n",
       "      <td>454400</td>\n",
       "    </tr>\n",
       "    <tr>\n",
       "      <th>1</th>\n",
       "      <td>Sleep Apnea</td>\n",
       "      <td>594300</td>\n",
       "    </tr>\n",
       "    <tr>\n",
       "      <th>2</th>\n",
       "      <td>None</td>\n",
       "      <td>1500800</td>\n",
       "    </tr>\n",
       "  </tbody>\n",
       "</table>\n",
       "</div>"
      ],
      "text/plain": [
       "  Sleep Disorder  Daily Steps\n",
       "0       Insomnia       454400\n",
       "1    Sleep Apnea       594300\n",
       "2           None      1500800"
      ]
     },
     "execution_count": 20,
     "metadata": {},
     "output_type": "execute_result"
    }
   ],
   "source": [
    "sd_dailyStepSum = df.groupby('Sleep Disorder')['Daily Steps'].sum().sort_values(ascending=True).reset_index()\n",
    "sd_dailyStepSum"
   ]
  },
  {
   "cell_type": "code",
   "execution_count": 10,
   "id": "c57b89db",
   "metadata": {
    "execution": {
     "iopub.execute_input": "2024-01-15T12:26:50.222380Z",
     "iopub.status.busy": "2024-01-15T12:26:50.221122Z",
     "iopub.status.idle": "2024-01-15T12:26:50.331762Z",
     "shell.execute_reply": "2024-01-15T12:26:50.330420Z"
    },
    "id": "180SA5qH0H73",
    "outputId": "e75a7f24-3012-410e-af98-4b8dee43634c",
    "papermill": {
     "duration": 0.130497,
     "end_time": "2024-01-15T12:26:50.334406",
     "exception": false,
     "start_time": "2024-01-15T12:26:50.203909",
     "status": "completed"
    },
    "tags": []
   },
   "outputs": [
    {
     "data": {
      "image/png": "[encoded data removed]",
      "text/plain": [
       "<Figure size 640x480 with 1 Axes>"
      ]
     },
     "metadata": {},
     "output_type": "display_data"
    }
   ],
   "source": [
    "sns.barplot(data = df, x='Sleep Disorder', y='Daily Steps')\n",
    "plt.title('Sleep Disorder Impact for Daily Step')\n",
    "plt.show()"
   ]
  },
  {
   "cell_type": "code",
   "execution_count": 22,
   "id": "6af5f217",
   "metadata": {
    "execution": {
     "iopub.execute_input": "2024-01-15T12:26:50.433423Z",
     "iopub.status.busy": "2024-01-15T12:26:50.432986Z",
     "iopub.status.idle": "2024-01-15T12:26:50.450621Z",
     "shell.execute_reply": "2024-01-15T12:26:50.449460Z"
    },
    "id": "So2Z0x_2aVJI",
    "outputId": "20607ae4-4673-49c3-dba7-3b7ab58d107e",
    "papermill": {
     "duration": 0.037806,
     "end_time": "2024-01-15T12:26:50.453179",
     "exception": false,
     "start_time": "2024-01-15T12:26:50.415373",
     "status": "completed"
    },
    "tags": []
   },
   "outputs": [
    {
     "data": {
      "text/html": [
       "<div>\n",
       "<style scoped>\n",
       "    .dataframe tbody tr th:only-of-type {\n",
       "        vertical-align: middle;\n",
       "    }\n",
       "\n",
       "    .dataframe tbody tr th {\n",
       "        vertical-align: top;\n",
       "    }\n",
       "\n",
       "    .dataframe thead th {\n",
       "        text-align: right;\n",
       "    }\n",
       "</style>\n",
       "<table border=\"1\" class=\"dataframe\">\n",
       "  <thead>\n",
       "    <tr style=\"text-align: right;\">\n",
       "      <th></th>\n",
       "      <th>Sleep Disorder</th>\n",
       "      <th>Daily Steps</th>\n",
       "    </tr>\n",
       "  </thead>\n",
       "  <tbody>\n",
       "    <tr>\n",
       "      <th>0</th>\n",
       "      <td>Insomnia</td>\n",
       "      <td>5901.0</td>\n",
       "    </tr>\n",
       "    <tr>\n",
       "      <th>1</th>\n",
       "      <td>None</td>\n",
       "      <td>6853.0</td>\n",
       "    </tr>\n",
       "    <tr>\n",
       "      <th>2</th>\n",
       "      <td>Sleep Apnea</td>\n",
       "      <td>7619.0</td>\n",
       "    </tr>\n",
       "  </tbody>\n",
       "</table>\n",
       "</div>"
      ],
      "text/plain": [
       "  Sleep Disorder  Daily Steps\n",
       "0       Insomnia       5901.0\n",
       "1           None       6853.0\n",
       "2    Sleep Apnea       7619.0"
      ]
     },
     "execution_count": 22,
     "metadata": {},
     "output_type": "execute_result"
    }
   ],
   "source": [
    "sd_dailyStepMean = np.round(df.groupby('Sleep Disorder')['Daily Steps'].mean(), 0).sort_values(ascending=True).reset_index()\n",
    "sd_dailyStepMean"
   ]
  },
  {
   "cell_type": "code",
   "execution_count": 12,
   "id": "d3a2fff3",
   "metadata": {
    "execution": {
     "iopub.execute_input": "2024-01-15T12:26:50.489388Z",
     "iopub.status.busy": "2024-01-15T12:26:50.488713Z",
     "iopub.status.idle": "2024-01-15T12:26:50.571990Z",
     "shell.execute_reply": "2024-01-15T12:26:50.571024Z"
    },
    "id": "okO7_GB11-NV",
    "outputId": "d2911c1d-a244-4879-bebb-932310bc6e7c",
    "papermill": {
     "duration": 0.105404,
     "end_time": "2024-01-15T12:26:50.574626",
     "exception": false,
     "start_time": "2024-01-15T12:26:50.469222",
     "status": "completed"
    },
    "tags": []
   },
   "outputs": [
    {
     "data": {
      "image/png": "[encoded data removed]",
      "text/plain": [
       "<Figure size 640x480 with 1 Axes>"
      ]
     },
     "metadata": {},
     "output_type": "display_data"
    }
   ],
   "source": [
    "sns.barplot(data=df, x='Sleep Disorder', y='Daily Steps')\n",
    "plt.title('Sleep Disorder Impact for Average Daily Step')\n",
    "plt.show()"
   ]
  },
  {
   "cell_type": "code",
   "execution_count": 24,
   "id": "c2d15f6e",
   "metadata": {
    "execution": {
     "iopub.execute_input": "2024-01-15T12:26:50.610224Z",
     "iopub.status.busy": "2024-01-15T12:26:50.609007Z",
     "iopub.status.idle": "2024-01-15T12:26:50.625322Z",
     "shell.execute_reply": "2024-01-15T12:26:50.624182Z"
    },
    "id": "FU86EC_Aa-9U",
    "outputId": "dc3a0562-5b38-45ba-a946-2864b83d046a",
    "papermill": {
     "duration": 0.03652,
     "end_time": "2024-01-15T12:26:50.627716",
     "exception": false,
     "start_time": "2024-01-15T12:26:50.591196",
     "status": "completed"
    },
    "tags": []
   },
   "outputs": [
    {
     "data": {
      "text/html": [
       "<div>\n",
       "<style scoped>\n",
       "    .dataframe tbody tr th:only-of-type {\n",
       "        vertical-align: middle;\n",
       "    }\n",
       "\n",
       "    .dataframe tbody tr th {\n",
       "        vertical-align: top;\n",
       "    }\n",
       "\n",
       "    .dataframe thead th {\n",
       "        text-align: right;\n",
       "    }\n",
       "</style>\n",
       "<table border=\"1\" class=\"dataframe\">\n",
       "  <thead>\n",
       "    <tr style=\"text-align: right;\">\n",
       "      <th></th>\n",
       "      <th>Sleep Disorder</th>\n",
       "      <th>Gender</th>\n",
       "      <th>Sleep Duration</th>\n",
       "    </tr>\n",
       "  </thead>\n",
       "  <tbody>\n",
       "    <tr>\n",
       "      <th>0</th>\n",
       "      <td>Insomnia</td>\n",
       "      <td>Male</td>\n",
       "      <td>6.55</td>\n",
       "    </tr>\n",
       "    <tr>\n",
       "      <th>1</th>\n",
       "      <td>Insomnia</td>\n",
       "      <td>Female</td>\n",
       "      <td>6.63</td>\n",
       "    </tr>\n",
       "    <tr>\n",
       "      <th>2</th>\n",
       "      <td>Sleep Apnea</td>\n",
       "      <td>Male</td>\n",
       "      <td>7.01</td>\n",
       "    </tr>\n",
       "    <tr>\n",
       "      <th>3</th>\n",
       "      <td>Sleep Apnea</td>\n",
       "      <td>Female</td>\n",
       "      <td>7.04</td>\n",
       "    </tr>\n",
       "    <tr>\n",
       "      <th>4</th>\n",
       "      <td>None</td>\n",
       "      <td>Male</td>\n",
       "      <td>7.18</td>\n",
       "    </tr>\n",
       "    <tr>\n",
       "      <th>5</th>\n",
       "      <td>None</td>\n",
       "      <td>Female</td>\n",
       "      <td>7.65</td>\n",
       "    </tr>\n",
       "  </tbody>\n",
       "</table>\n",
       "</div>"
      ],
      "text/plain": [
       "  Sleep Disorder  Gender  Sleep Duration\n",
       "0       Insomnia    Male            6.55\n",
       "1       Insomnia  Female            6.63\n",
       "2    Sleep Apnea    Male            7.01\n",
       "3    Sleep Apnea  Female            7.04\n",
       "4           None    Male            7.18\n",
       "5           None  Female            7.65"
      ]
     },
     "execution_count": 24,
     "metadata": {},
     "output_type": "execute_result"
    }
   ],
   "source": [
    "sd_sleepDur = np.round(df.groupby(['Sleep Disorder','Gender'])['Sleep Duration'].mean(), 2).sort_values(ascending=True).reset_index()\n",
    "sd_sleepDur"
   ]
  },
  {
   "cell_type": "code",
   "execution_count": 25,
   "id": "61300472",
   "metadata": {
    "execution": {
     "iopub.execute_input": "2024-01-15T12:26:50.663002Z",
     "iopub.status.busy": "2024-01-15T12:26:50.662322Z",
     "iopub.status.idle": "2024-01-15T12:26:50.747667Z",
     "shell.execute_reply": "2024-01-15T12:26:50.746402Z"
    },
    "id": "Gno2SdS39G-a",
    "outputId": "8d29fb0d-3e2f-4fa1-a886-66106a9c7ba8",
    "papermill": {
     "duration": 0.105877,
     "end_time": "2024-01-15T12:26:50.750156",
     "exception": false,
     "start_time": "2024-01-15T12:26:50.644279",
     "status": "completed"
    },
    "tags": []
   },
   "outputs": [
    {
     "data": {
      "text/html": [
       "<div>                            <div id=\"0cbb8427-5af6-451a-a690-d892c47ebadc\" class=\"plotly-graph-div\" style=\"height:650px; width:1000px;\"></div>            <script type=\"text/javascript\">                require([\"plotly\"], function(Plotly) {                    window.PLOTLYENV=window.PLOTLYENV || {};                                    if (document.getElementById(\"0cbb8427-5af6-451a-a690-d892c47ebadc\")) {                    Plotly.newPlot(                        \"0cbb8427-5af6-451a-a690-d892c47ebadc\",                        [{\"alignmentgroup\":\"True\",\"bingroup\":\"x\",\"histfunc\":\"sum\",\"hovertemplate\":\"Gender=Male\\u003cbr\\u003eSleep Disorder=%{x}\\u003cbr\\u003esum of Sleep Duration=%{y}\\u003cextra\\u003e\\u003c\\u002fextra\\u003e\",\"legendgroup\":\"Male\",\"marker\":{\"color\":\"#636efa\",\"pattern\":{\"shape\":\"\"}},\"name\":\"Male\",\"offsetgroup\":\"Male\",\"orientation\":\"v\",\"showlegend\":true,\"texttemplate\":\"%{value:.3s}\",\"x\":[\"Insomnia\",\"Sleep Apnea\",\"None\"],\"xaxis\":\"x\",\"y\":[6.55,7.01,7.18],\"yaxis\":\"y\",\"type\":\"histogram\",\"textfont\":{\"size\":16},\"cliponaxis\":false,\"textangle\":0,\"textposition\":\"outside\"},{\"alignmentgroup\":\"True\",\"bingroup\":\"x\",\"histfunc\":\"sum\",\"hovertemplate\":\"Gender=Female\\u003cbr\\u003eSleep Disorder=%{x}\\u003cbr\\u003esum of Sleep Duration=%{y}\\u003cextra\\u003e\\u003c\\u002fextra\\u003e\",\"legendgroup\":\"Female\",\"marker\":{\"color\":\"#EF553B\",\"pattern\":{\"shape\":\"\"}},\"name\":\"Female\",\"offsetgroup\":\"Female\",\"orientation\":\"v\",\"showlegend\":true,\"texttemplate\":\"%{value:.3s}\",\"x\":[\"Insomnia\",\"Sleep Apnea\",\"None\"],\"xaxis\":\"x\",\"y\":[6.63,7.04,7.65],\"yaxis\":\"y\",\"type\":\"histogram\",\"textfont\":{\"size\":16},\"cliponaxis\":false,\"textangle\":0,\"textposition\":\"outside\"}],                        {\"template\":{\"data\":{\"histogram2dcontour\":[{\"type\":\"histogram2dcontour\",\"colorbar\":{\"outlinewidth\":0,\"ticks\":\"\"},\"colorscale\":[[0.0,\"#0d0887\"],[0.1111111111111111,\"#46039f\"],[0.2222222222222222,\"#7201a8\"],[0.3333333333333333,\"#9c179e\"],[0.4444444444444444,\"#bd3786\"],[0.5555555555555556,\"#d8576b\"],[0.6666666666666666,\"#ed7953\"],[0.7777777777777778,\"#fb9f3a\"],[0.8888888888888888,\"#fdca26\"],[1.0,\"#f0f921\"]]}],\"choropleth\":[{\"type\":\"choropleth\",\"colorbar\":{\"outlinewidth\":0,\"ticks\":\"\"}}],\"histogram2d\":[{\"type\":\"histogram2d\",\"colorbar\":{\"outlinewidth\":0,\"ticks\":\"\"},\"colorscale\":[[0.0,\"#0d0887\"],[0.1111111111111111,\"#46039f\"],[0.2222222222222222,\"#7201a8\"],[0.3333333333333333,\"#9c179e\"],[0.4444444444444444,\"#bd3786\"],[0.5555555555555556,\"#d8576b\"],[0.6666666666666666,\"#ed7953\"],[0.7777777777777778,\"#fb9f3a\"],[0.8888888888888888,\"#fdca26\"],[1.0,\"#f0f921\"]]}],\"heatmap\":[{\"type\":\"heatmap\",\"colorbar\":{\"outlinewidth\":0,\"ticks\":\"\"},\"colorscale\":[[0.0,\"#0d0887\"],[0.1111111111111111,\"#46039f\"],[0.2222222222222222,\"#7201a8\"],[0.3333333333333333,\"#9c179e\"],[0.4444444444444444,\"#bd3786\"],[0.5555555555555556,\"#d8576b\"],[0.6666666666666666,\"#ed7953\"],[0.7777777777777778,\"#fb9f3a\"],[0.8888888888888888,\"#fdca26\"],[1.0,\"#f0f921\"]]}],\"heatmapgl\":[{\"type\":\"heatmapgl\",\"colorbar\":{\"outlinewidth\":0,\"ticks\":\"\"},\"colorscale\":[[0.0,\"#0d0887\"],[0.1111111111111111,\"#46039f\"],[0.2222222222222222,\"#7201a8\"],[0.3333333333333333,\"#9c179e\"],[0.4444444444444444,\"#bd3786\"],[0.5555555555555556,\"#d8576b\"],[0.6666666666666666,\"#ed7953\"],[0.7777777777777778,\"#fb9f3a\"],[0.8888888888888888,\"#fdca26\"],[1.0,\"#f0f921\"]]}],\"contourcarpet\":[{\"type\":\"contourcarpet\",\"colorbar\":{\"outlinewidth\":0,\"ticks\":\"\"}}],\"contour\":[{\"type\":\"contour\",\"colorbar\":{\"outlinewidth\":0,\"ticks\":\"\"},\"colorscale\":[[0.0,\"#0d0887\"],[0.1111111111111111,\"#46039f\"],[0.2222222222222222,\"#7201a8\"],[0.3333333333333333,\"#9c179e\"],[0.4444444444444444,\"#bd3786\"],[0.5555555555555556,\"#d8576b\"],[0.6666666666666666,\"#ed7953\"],[0.7777777777777778,\"#fb9f3a\"],[0.8888888888888888,\"#fdca26\"],[1.0,\"#f0f921\"]]}],\"surface\":[{\"type\":\"surface\",\"colorbar\":{\"outlinewidth\":0,\"ticks\":\"\"},\"colorscale\":[[0.0,\"#0d0887\"],[0.1111111111111111,\"#46039f\"],[0.2222222222222222,\"#7201a8\"],[0.3333333333333333,\"#9c179e\"],[0.4444444444444444,\"#bd3786\"],[0.5555555555555556,\"#d8576b\"],[0.6666666666666666,\"#ed7953\"],[0.7777777777777778,\"#fb9f3a\"],[0.8888888888888888,\"#fdca26\"],[1.0,\"#f0f921\"]]}],\"mesh3d\":[{\"type\":\"mesh3d\",\"colorbar\":{\"outlinewidth\":0,\"ticks\":\"\"}}],\"scatter\":[{\"fillpattern\":{\"fillmode\":\"overlay\",\"size\":10,\"solidity\":0.2},\"type\":\"scatter\"}],\"parcoords\":[{\"type\":\"parcoords\",\"line\":{\"colorbar\":{\"outlinewidth\":0,\"ticks\":\"\"}}}],\"scatterpolargl\":[{\"type\":\"scatterpolargl\",\"marker\":{\"colorbar\":{\"outlinewidth\":0,\"ticks\":\"\"}}}],\"bar\":[{\"error_x\":{\"color\":\"#2a3f5f\"},\"error_y\":{\"color\":\"#2a3f5f\"},\"marker\":{\"line\":{\"color\":\"#E5ECF6\",\"width\":0.5},\"pattern\":{\"fillmode\":\"overlay\",\"size\":10,\"solidity\":0.2}},\"type\":\"bar\"}],\"scattergeo\":[{\"type\":\"scattergeo\",\"marker\":{\"colorbar\":{\"outlinewidth\":0,\"ticks\":\"\"}}}],\"scatterpolar\":[{\"type\":\"scatterpolar\",\"marker\":{\"colorbar\":{\"outlinewidth\":0,\"ticks\":\"\"}}}],\"histogram\":[{\"marker\":{\"pattern\":{\"fillmode\":\"overlay\",\"size\":10,\"solidity\":0.2}},\"type\":\"histogram\"}],\"scattergl\":[{\"type\":\"scattergl\",\"marker\":{\"colorbar\":{\"outlinewidth\":0,\"ticks\":\"\"}}}],\"scatter3d\":[{\"type\":\"scatter3d\",\"line\":{\"colorbar\":{\"outlinewidth\":0,\"ticks\":\"\"}},\"marker\":{\"colorbar\":{\"outlinewidth\":0,\"ticks\":\"\"}}}],\"scattermapbox\":[{\"type\":\"scattermapbox\",\"marker\":{\"colorbar\":{\"outlinewidth\":0,\"ticks\":\"\"}}}],\"scatterternary\":[{\"type\":\"scatterternary\",\"marker\":{\"colorbar\":{\"outlinewidth\":0,\"ticks\":\"\"}}}],\"scattercarpet\":[{\"type\":\"scattercarpet\",\"marker\":{\"colorbar\":{\"outlinewidth\":0,\"ticks\":\"\"}}}],\"carpet\":[{\"aaxis\":{\"endlinecolor\":\"#2a3f5f\",\"gridcolor\":\"white\",\"linecolor\":\"white\",\"minorgridcolor\":\"white\",\"startlinecolor\":\"#2a3f5f\"},\"baxis\":{\"endlinecolor\":\"#2a3f5f\",\"gridcolor\":\"white\",\"linecolor\":\"white\",\"minorgridcolor\":\"white\",\"startlinecolor\":\"#2a3f5f\"},\"type\":\"carpet\"}],\"table\":[{\"cells\":{\"fill\":{\"color\":\"#EBF0F8\"},\"line\":{\"color\":\"white\"}},\"header\":{\"fill\":{\"color\":\"#C8D4E3\"},\"line\":{\"color\":\"white\"}},\"type\":\"table\"}],\"barpolar\":[{\"marker\":{\"line\":{\"color\":\"#E5ECF6\",\"width\":0.5},\"pattern\":{\"fillmode\":\"overlay\",\"size\":10,\"solidity\":0.2}},\"type\":\"barpolar\"}],\"pie\":[{\"automargin\":true,\"type\":\"pie\"}]},\"layout\":{\"autotypenumbers\":\"strict\",\"colorway\":[\"#636efa\",\"#EF553B\",\"#00cc96\",\"#ab63fa\",\"#FFA15A\",\"#19d3f3\",\"#FF6692\",\"#B6E880\",\"#FF97FF\",\"#FECB52\"],\"font\":{\"color\":\"#2a3f5f\"},\"hovermode\":\"closest\",\"hoverlabel\":{\"align\":\"left\"},\"paper_bgcolor\":\"white\",\"plot_bgcolor\":\"#E5ECF6\",\"polar\":{\"bgcolor\":\"#E5ECF6\",\"angularaxis\":{\"gridcolor\":\"white\",\"linecolor\":\"white\",\"ticks\":\"\"},\"radialaxis\":{\"gridcolor\":\"white\",\"linecolor\":\"white\",\"ticks\":\"\"}},\"ternary\":{\"bgcolor\":\"#E5ECF6\",\"aaxis\":{\"gridcolor\":\"white\",\"linecolor\":\"white\",\"ticks\":\"\"},\"baxis\":{\"gridcolor\":\"white\",\"linecolor\":\"white\",\"ticks\":\"\"},\"caxis\":{\"gridcolor\":\"white\",\"linecolor\":\"white\",\"ticks\":\"\"}},\"coloraxis\":{\"colorbar\":{\"outlinewidth\":0,\"ticks\":\"\"}},\"colorscale\":{\"sequential\":[[0.0,\"#0d0887\"],[0.1111111111111111,\"#46039f\"],[0.2222222222222222,\"#7201a8\"],[0.3333333333333333,\"#9c179e\"],[0.4444444444444444,\"#bd3786\"],[0.5555555555555556,\"#d8576b\"],[0.6666666666666666,\"#ed7953\"],[0.7777777777777778,\"#fb9f3a\"],[0.8888888888888888,\"#fdca26\"],[1.0,\"#f0f921\"]],\"sequentialminus\":[[0.0,\"#0d0887\"],[0.1111111111111111,\"#46039f\"],[0.2222222222222222,\"#7201a8\"],[0.3333333333333333,\"#9c179e\"],[0.4444444444444444,\"#bd3786\"],[0.5555555555555556,\"#d8576b\"],[0.6666666666666666,\"#ed7953\"],[0.7777777777777778,\"#fb9f3a\"],[0.8888888888888888,\"#fdca26\"],[1.0,\"#f0f921\"]],\"diverging\":[[0,\"#8e0152\"],[0.1,\"#c51b7d\"],[0.2,\"#de77ae\"],[0.3,\"#f1b6da\"],[0.4,\"#fde0ef\"],[0.5,\"#f7f7f7\"],[0.6,\"#e6f5d0\"],[0.7,\"#b8e186\"],[0.8,\"#7fbc41\"],[0.9,\"#4d9221\"],[1,\"#276419\"]]},\"xaxis\":{\"gridcolor\":\"white\",\"linecolor\":\"white\",\"ticks\":\"\",\"title\":{\"standoff\":15},\"zerolinecolor\":\"white\",\"automargin\":true,\"zerolinewidth\":2},\"yaxis\":{\"gridcolor\":\"white\",\"linecolor\":\"white\",\"ticks\":\"\",\"title\":{\"standoff\":15},\"zerolinecolor\":\"white\",\"automargin\":true,\"zerolinewidth\":2},\"scene\":{\"xaxis\":{\"backgroundcolor\":\"#E5ECF6\",\"gridcolor\":\"white\",\"linecolor\":\"white\",\"showbackground\":true,\"ticks\":\"\",\"zerolinecolor\":\"white\",\"gridwidth\":2},\"yaxis\":{\"backgroundcolor\":\"#E5ECF6\",\"gridcolor\":\"white\",\"linecolor\":\"white\",\"showbackground\":true,\"ticks\":\"\",\"zerolinecolor\":\"white\",\"gridwidth\":2},\"zaxis\":{\"backgroundcolor\":\"#E5ECF6\",\"gridcolor\":\"white\",\"linecolor\":\"white\",\"showbackground\":true,\"ticks\":\"\",\"zerolinecolor\":\"white\",\"gridwidth\":2}},\"shapedefaults\":{\"line\":{\"color\":\"#2a3f5f\"}},\"annotationdefaults\":{\"arrowcolor\":\"#2a3f5f\",\"arrowhead\":0,\"arrowwidth\":1},\"geo\":{\"bgcolor\":\"white\",\"landcolor\":\"#E5ECF6\",\"subunitcolor\":\"white\",\"showland\":true,\"showlakes\":true,\"lakecolor\":\"white\"},\"title\":{\"x\":0.05},\"mapbox\":{\"style\":\"light\"}}},\"xaxis\":{\"anchor\":\"y\",\"domain\":[0.0,1.0],\"title\":{\"text\":\"Sleep Disorder\"}},\"yaxis\":{\"anchor\":\"x\",\"domain\":[0.0,1.0],\"title\":{\"text\":\"sum of Sleep Duration\"}},\"legend\":{\"title\":{\"text\":\"Gender\"},\"tracegroupgap\":0},\"margin\":{\"t\":60},\"barmode\":\"group\",\"height\":650,\"width\":1000,\"title\":{\"text\":\"Sleep Disorder Impact for Gender by Sleep Duration\"}},                        {\"responsive\": true}                    ).then(function(){\n",
       "                            \n",
       "var gd = document.getElementById('0cbb8427-5af6-451a-a690-d892c47ebadc');\n",
       "var x = new MutationObserver(function (mutations, observer) {{\n",
       "        var display = window.getComputedStyle(gd).display;\n",
       "        if (!display || display === 'none') {{\n",
       "            console.log([gd, 'removed!']);\n",
       "            Plotly.purge(gd);\n",
       "            observer.disconnect();\n",
       "        }}\n",
       "}});\n",
       "\n",
       "// Listen for the removal of the full notebook cells\n",
       "var notebookContainer = gd.closest('#notebook-container');\n",
       "if (notebookContainer) {{\n",
       "    x.observe(notebookContainer, {childList: true});\n",
       "}}\n",
       "\n",
       "// Listen for the clearing of the current output cell\n",
       "var outputEl = gd.closest('.output');\n",
       "if (outputEl) {{\n",
       "    x.observe(outputEl, {childList: true});\n",
       "}}\n",
       "\n",
       "                        })                };                });            </script>        </div>"
      ]
     },
     "metadata": {},
     "output_type": "display_data"
    }
   ],
   "source": [
    "fig = px.histogram(sd_sleepDur, x=\"Sleep Disorder\", y=\"Sleep Duration\", text_auto='.3s',\n",
    "             color='Gender', barmode='group',\n",
    "             height=650, width = 1000)\n",
    "fig.update_traces(textfont_size=16, textangle=0, textposition=\"outside\", cliponaxis=False)\n",
    "fig.update_layout(title_text='Sleep Disorder Impact for Gender by Sleep Duration')\n",
    "fig.show()"
   ]
  }
 ],
 "metadata": {
  "colab": {
   "provenance": []
  },
  "kaggle": {
   "accelerator": "none",
   "dataSources": [
    {
     "datasetId": 3321433,
     "sourceId": 6491929,
     "sourceType": "datasetVersion"
    }
   ],
   "dockerImageVersionId": 30635,
   "isGpuEnabled": false,
   "isInternetEnabled": true,
   "language": "python",
   "sourceType": "notebook"
  },
  "kernelspec": {
   "display_name": "Python 3 (ipykernel)",
   "language": "python",
   "name": "python3"
  },
  "language_info": {
   "codemirror_mode": {
    "name": "ipython",
    "version": 3
   },
   "file_extension": ".py",
   "mimetype": "text/x-python",
   "name": "python",
   "nbconvert_exporter": "python",
   "pygments_lexer": "ipython3",
   "version": "3.9.13"
  },
  "papermill": {
   "default_parameters": {},
   "duration": 11.042691,
   "end_time": "2024-01-15T12:26:51.488977",
   "environment_variables": {},
   "exception": null,
   "input_path": "__notebook__.ipynb",
   "output_path": "__notebook__.ipynb",
   "parameters": {},
   "start_time": "2024-01-15T12:26:40.446286",
   "version": "2.4.0"
  }
 },
 "nbformat": 4,
 "nbformat_minor": 5
}

{
 "cells": [
  {
   "cell_type": "code",
   "execution_count": 1,
   "id": "976e4b57",
   "metadata": {
    "_cell_guid": "b1076dfc-b9ad-4769-8c92-a6c4dae69d19",
    "_uuid": "8f2839f25d086af736a60e9eeb907d3b93b6e0e5",
    "execution": {
     "iopub.execute_input": "2022-01-14T06:29:33.240721Z",
     "iopub.status.busy": "2022-01-14T06:29:33.236070Z",
     "iopub.status.idle": "2022-01-14T06:29:33.252763Z",
     "shell.execute_reply": "2022-01-14T06:29:33.252067Z",
     "shell.execute_reply.started": "2022-01-13T09:17:12.426485Z"
    },
    "papermill": {
     "duration": 0.056519,
     "end_time": "2022-01-14T06:29:33.252906",
     "exception": false,
     "start_time": "2022-01-14T06:29:33.196387",
     "status": "completed"
    },
    "tags": []
   },
   "outputs": [
    {
     "name": "stdout",
     "output_type": "stream",
     "text": [
      "/kaggle/input/fifa19eda/fifa_eda.csv\n"
     ]
    }
   ],
   "source": [
    "# This Python 3 environment comes with many helpful analytics libraries installed\n",
    "# It is defined by the kaggle/python Docker image: https://github.com/kaggle/docker-python\n",
    "# For example, here's several helpful packages to load\n",
    "\n",
    "import numpy as np # linear algebra\n",
    "import pandas as pd # data processing, CSV file I/O (e.g. pd.read_csv)\n",
    "\n",
    "# Input data files are available in the read-only \"../input/\" directory\n",
    "# For example, running this (by clicking run or pressing Shift+Enter) will list all files under the input directory\n",
    "\n",
    "import os\n",
    "for dirname, _, filenames in os.walk('/kaggle/input'):\n",
    "    for filename in filenames:\n",
    "        print(os.path.join(dirname, filename))\n",
    "\n",
    "# You can write up to 20GB to the current directory (/kaggle/working/) that gets preserved as output when you create a version using \"Save & Run All\" \n",
    "# You can also write temporary files to /kaggle/temp/, but they won't be saved outside of the current session"
   ]
  },
  {
   "cell_type": "markdown",
   "id": "9a24b049",
   "metadata": {
    "papermill": {
     "duration": 0.035381,
     "end_time": "2022-01-14T06:29:33.324981",
     "exception": false,
     "start_time": "2022-01-14T06:29:33.289600",
     "status": "completed"
    },
    "tags": []
   },
   "source": [
    "# **1.FIFA World Cup**\n",
    "\n",
    "*The FIFA World Cup, often simply called the World Cup, is an international association football competition contested by the senior men's national teams of the members of the Fédération Internationale de Football Association (FIFA), the sport's global governing body. The championship has been awarded every four years since the inaugural tournament in 1930, except in 1942 and 1946 when it was not held because of the Second World War. The current champion is France, which won its second title at the 2018 tournament in Russia*.\n",
    "\n",
    "![](https://en.wikipedia.org/wiki/FIFA_World_Cup#/media/File:Tour_da_Ta%C3%A7a_da_Copa_do_Mundo_(14231974005).jpg)*The 21 World Cup tournaments have been won by eight national teams. Brazil have won five times, and they are the only team to have played in every tournament. The other World Cup winners are Germany and Italy, with four titles each; Argentina, France, and inaugural winner Uruguay, with two titles each; and England and Spain, with one title each.*"
   ]
  },
  {
   "cell_type": "markdown",
   "id": "bd022053",
   "metadata": {
    "papermill": {
     "duration": 0.032984,
     "end_time": "2022-01-14T06:29:33.393576",
     "exception": false,
     "start_time": "2022-01-14T06:29:33.360592",
     "status": "completed"
    },
    "tags": []
   },
   "source": [
    "# ***2.Important Libaries***"
   ]
  },
  {
   "cell_type": "code",
   "execution_count": 2,
   "id": "c627683e",
   "metadata": {
    "execution": {
     "iopub.execute_input": "2022-01-14T06:29:33.454751Z",
     "iopub.status.busy": "2022-01-14T06:29:33.454240Z",
     "iopub.status.idle": "2022-01-14T06:29:34.451902Z",
     "shell.execute_reply": "2022-01-14T06:29:34.451424Z",
     "shell.execute_reply.started": "2022-01-13T09:17:12.459973Z"
    },
    "papermill": {
     "duration": 1.029422,
     "end_time": "2022-01-14T06:29:34.452008",
     "exception": false,
     "start_time": "2022-01-14T06:29:33.422586",
     "status": "completed"
    },
    "tags": []
   },
   "outputs": [],
   "source": [
    "import pandas as pd\n",
    "import matplotlib.pyplot as plt\n",
    "import numpy as np\n",
    "import seaborn as sns"
   ]
  },
  {
   "cell_type": "markdown",
   "id": "eaeb2085",
   "metadata": {
    "papermill": {
     "duration": 0.023828,
     "end_time": "2022-01-14T06:29:34.501363",
     "exception": false,
     "start_time": "2022-01-14T06:29:34.477535",
     "status": "completed"
    },
    "tags": []
   },
   "source": [
    "# ***3.Read Datasheet***"
   ]
  },
  {
   "cell_type": "code",
   "execution_count": 3,
   "id": "d99c6007",
   "metadata": {
    "execution": {
     "iopub.execute_input": "2022-01-14T06:29:34.551627Z",
     "iopub.status.busy": "2022-01-14T06:29:34.550914Z",
     "iopub.status.idle": "2022-01-14T06:29:34.636603Z",
     "shell.execute_reply": "2022-01-14T06:29:34.636162Z",
     "shell.execute_reply.started": "2022-01-13T09:17:13.405766Z"
    },
    "papermill": {
     "duration": 0.111652,
     "end_time": "2022-01-14T06:29:34.636715",
     "exception": false,
     "start_time": "2022-01-14T06:29:34.525063",
     "status": "completed"
    },
    "tags": []
   },
   "outputs": [
    {
     "name": "stdout",
     "output_type": "stream",
     "text": [
      "(18207, 18)\n"
     ]
    }
   ],
   "source": [
    "df=pd.read_csv(\"../input/fifa19eda/fifa_eda.csv\")\n",
    "print(df.shape)"
   ]
  },
  {
   "cell_type": "markdown",
   "id": "a9474c5b",
   "metadata": {
    "papermill": {
     "duration": 0.025953,
     "end_time": "2022-01-14T06:29:34.690252",
     "exception": false,
     "start_time": "2022-01-14T06:29:34.664299",
     "status": "completed"
    },
    "tags": []
   },
   "source": [
    "*So the dataset has 18 attributes and 18207 rows*"
   ]
  },
  {
   "cell_type": "code",
   "execution_count": 4,
   "id": "f2b5e57f",
   "metadata": {
    "execution": {
     "iopub.execute_input": "2022-01-14T06:29:34.740958Z",
     "iopub.status.busy": "2022-01-14T06:29:34.740533Z",
     "iopub.status.idle": "2022-01-14T06:29:34.770325Z",
     "shell.execute_reply": "2022-01-14T06:29:34.769968Z",
     "shell.execute_reply.started": "2022-01-13T09:17:13.49728Z"
    },
    "papermill": {
     "duration": 0.055956,
     "end_time": "2022-01-14T06:29:34.770466",
     "exception": false,
     "start_time": "2022-01-14T06:29:34.714510",
     "status": "completed"
    },
    "tags": []
   },
   "outputs": [
    {
     "data": {
      "text/html": [
       "<div>\n",
       "<style scoped>\n",
       "    .dataframe tbody tr th:only-of-type {\n",
       "        vertical-align: middle;\n",
       "    }\n",
       "\n",
       "    .dataframe tbody tr th {\n",
       "        vertical-align: top;\n",
       "    }\n",
       "\n",
       "    .dataframe thead th {\n",
       "        text-align: right;\n",
       "    }\n",
       "</style>\n",
       "<table border=\"1\" class=\"dataframe\">\n",
       "  <thead>\n",
       "    <tr style=\"text-align: right;\">\n",
       "      <th></th>\n",
       "      <th>ID</th>\n",
       "      <th>Name</th>\n",
       "      <th>Age</th>\n",
       "      <th>Nationality</th>\n",
       "      <th>Overall</th>\n",
       "      <th>Potential</th>\n",
       "      <th>Club</th>\n",
       "      <th>Value</th>\n",
       "      <th>Wage</th>\n",
       "      <th>Preferred Foot</th>\n",
       "      <th>International Reputation</th>\n",
       "      <th>Skill Moves</th>\n",
       "      <th>Position</th>\n",
       "      <th>Joined</th>\n",
       "      <th>Contract Valid Until</th>\n",
       "      <th>Height</th>\n",
       "      <th>Weight</th>\n",
       "      <th>Release Clause</th>\n",
       "    </tr>\n",
       "  </thead>\n",
       "  <tbody>\n",
       "    <tr>\n",
       "      <th>0</th>\n",
       "      <td>158023</td>\n",
       "      <td>L. Messi</td>\n",
       "      <td>31</td>\n",
       "      <td>Argentina</td>\n",
       "      <td>94</td>\n",
       "      <td>94</td>\n",
       "      <td>FC Barcelona</td>\n",
       "      <td>110500.0</td>\n",
       "      <td>565.0</td>\n",
       "      <td>Left</td>\n",
       "      <td>5.0</td>\n",
       "      <td>4.0</td>\n",
       "      <td>RF</td>\n",
       "      <td>2004</td>\n",
       "      <td>2021-01-01</td>\n",
       "      <td>5.583333</td>\n",
       "      <td>159.0</td>\n",
       "      <td>226500.0</td>\n",
       "    </tr>\n",
       "    <tr>\n",
       "      <th>1</th>\n",
       "      <td>20801</td>\n",
       "      <td>Cristiano Ronaldo</td>\n",
       "      <td>33</td>\n",
       "      <td>Portugal</td>\n",
       "      <td>94</td>\n",
       "      <td>94</td>\n",
       "      <td>Juventus</td>\n",
       "      <td>77000.0</td>\n",
       "      <td>405.0</td>\n",
       "      <td>Right</td>\n",
       "      <td>5.0</td>\n",
       "      <td>5.0</td>\n",
       "      <td>ST</td>\n",
       "      <td>2018</td>\n",
       "      <td>2022-01-01</td>\n",
       "      <td>6.166667</td>\n",
       "      <td>183.0</td>\n",
       "      <td>127100.0</td>\n",
       "    </tr>\n",
       "    <tr>\n",
       "      <th>2</th>\n",
       "      <td>190871</td>\n",
       "      <td>Neymar Jr</td>\n",
       "      <td>26</td>\n",
       "      <td>Brazil</td>\n",
       "      <td>92</td>\n",
       "      <td>93</td>\n",
       "      <td>Paris Saint-Germain</td>\n",
       "      <td>118500.0</td>\n",
       "      <td>290.0</td>\n",
       "      <td>Right</td>\n",
       "      <td>5.0</td>\n",
       "      <td>5.0</td>\n",
       "      <td>LW</td>\n",
       "      <td>2017</td>\n",
       "      <td>2022-01-01</td>\n",
       "      <td>5.750000</td>\n",
       "      <td>150.0</td>\n",
       "      <td>228100.0</td>\n",
       "    </tr>\n",
       "    <tr>\n",
       "      <th>3</th>\n",
       "      <td>193080</td>\n",
       "      <td>De Gea</td>\n",
       "      <td>27</td>\n",
       "      <td>Spain</td>\n",
       "      <td>91</td>\n",
       "      <td>93</td>\n",
       "      <td>Manchester United</td>\n",
       "      <td>72000.0</td>\n",
       "      <td>260.0</td>\n",
       "      <td>Right</td>\n",
       "      <td>4.0</td>\n",
       "      <td>1.0</td>\n",
       "      <td>GK</td>\n",
       "      <td>2011</td>\n",
       "      <td>2020-01-01</td>\n",
       "      <td>6.333333</td>\n",
       "      <td>168.0</td>\n",
       "      <td>138600.0</td>\n",
       "    </tr>\n",
       "    <tr>\n",
       "      <th>4</th>\n",
       "      <td>192985</td>\n",
       "      <td>K. De Bruyne</td>\n",
       "      <td>27</td>\n",
       "      <td>Belgium</td>\n",
       "      <td>91</td>\n",
       "      <td>92</td>\n",
       "      <td>Manchester City</td>\n",
       "      <td>102000.0</td>\n",
       "      <td>355.0</td>\n",
       "      <td>Right</td>\n",
       "      <td>4.0</td>\n",
       "      <td>4.0</td>\n",
       "      <td>RCM</td>\n",
       "      <td>2015</td>\n",
       "      <td>2023-01-01</td>\n",
       "      <td>5.916667</td>\n",
       "      <td>154.0</td>\n",
       "      <td>196400.0</td>\n",
       "    </tr>\n",
       "  </tbody>\n",
       "</table>\n",
       "</div>"
      ],
      "text/plain": [
       "       ID               Name  Age Nationality  Overall  Potential  \\\n",
       "0  158023           L. Messi   31   Argentina       94         94   \n",
       "1   20801  Cristiano Ronaldo   33    Portugal       94         94   \n",
       "2  190871          Neymar Jr   26      Brazil       92         93   \n",
       "3  193080             De Gea   27       Spain       91         93   \n",
       "4  192985       K. De Bruyne   27     Belgium       91         92   \n",
       "\n",
       "                  Club     Value   Wage Preferred Foot  \\\n",
       "0         FC Barcelona  110500.0  565.0           Left   \n",
       "1             Juventus   77000.0  405.0          Right   \n",
       "2  Paris Saint-Germain  118500.0  290.0          Right   \n",
       "3    Manchester United   72000.0  260.0          Right   \n",
       "4      Manchester City  102000.0  355.0          Right   \n",
       "\n",
       "   International Reputation  Skill Moves Position  Joined  \\\n",
       "0                       5.0          4.0       RF    2004   \n",
       "1                       5.0          5.0       ST    2018   \n",
       "2                       5.0          5.0       LW    2017   \n",
       "3                       4.0          1.0       GK    2011   \n",
       "4                       4.0          4.0      RCM    2015   \n",
       "\n",
       "  Contract Valid Until    Height  Weight  Release Clause  \n",
       "0           2021-01-01  5.583333   159.0        226500.0  \n",
       "1           2022-01-01  6.166667   183.0        127100.0  \n",
       "2           2022-01-01  5.750000   150.0        228100.0  \n",
       "3           2020-01-01  6.333333   168.0        138600.0  \n",
       "4           2023-01-01  5.916667   154.0        196400.0  "
      ]
     },
     "execution_count": 4,
     "metadata": {},
     "output_type": "execute_result"
    }
   ],
   "source": [
    "df.head()"
   ]
  },
  {
   "cell_type": "markdown",
   "id": "d8aa02ee",
   "metadata": {
    "papermill": {
     "duration": 0.024857,
     "end_time": "2022-01-14T06:29:34.820430",
     "exception": false,
     "start_time": "2022-01-14T06:29:34.795573",
     "status": "completed"
    },
    "tags": []
   },
   "source": [
    "# ***3. Time for cleaning the dataset***\n",
    "\n",
    "*Dataset cleaning is an important set of any EdA as it will help in understanding the patterns well.\n",
    "We will start by seeing whether the datset has any null values or not.*\n"
   ]
  },
  {
   "cell_type": "code",
   "execution_count": 5,
   "id": "c2e9e95d",
   "metadata": {
    "execution": {
     "iopub.execute_input": "2022-01-14T06:29:34.873190Z",
     "iopub.status.busy": "2022-01-14T06:29:34.872735Z",
     "iopub.status.idle": "2022-01-14T06:29:34.883211Z",
     "shell.execute_reply": "2022-01-14T06:29:34.883699Z",
     "shell.execute_reply.started": "2022-01-13T09:17:13.52796Z"
    },
    "papermill": {
     "duration": 0.038681,
     "end_time": "2022-01-14T06:29:34.883831",
     "exception": false,
     "start_time": "2022-01-14T06:29:34.845150",
     "status": "completed"
    },
    "tags": []
   },
   "outputs": [
    {
     "data": {
      "text/plain": [
       "ID                            0\n",
       "Name                          0\n",
       "Age                           0\n",
       "Nationality                   0\n",
       "Overall                       0\n",
       "Potential                     0\n",
       "Club                        241\n",
       "Value                       252\n",
       "Wage                          0\n",
       "Preferred Foot                0\n",
       "International Reputation     48\n",
       "Skill Moves                  48\n",
       "Position                      0\n",
       "Joined                        0\n",
       "Contract Valid Until        289\n",
       "Height                        0\n",
       "Weight                        0\n",
       "Release Clause                0\n",
       "dtype: int64"
      ]
     },
     "execution_count": 5,
     "metadata": {},
     "output_type": "execute_result"
    }
   ],
   "source": [
    "df.isnull().sum()"
   ]
  },
  {
   "cell_type": "markdown",
   "id": "178bbc78",
   "metadata": {
    "papermill": {
     "duration": 0.027999,
     "end_time": "2022-01-14T06:29:34.938412",
     "exception": false,
     "start_time": "2022-01-14T06:29:34.910413",
     "status": "completed"
    },
    "tags": []
   },
   "source": [
    "*So we see that the attributes such as 'Club','Contract Valid Until','International Reputation','Skill Moves','Value' contains null values.\n",
    "We will remove the tuples which contain such null values*"
   ]
  },
  {
   "cell_type": "code",
   "execution_count": 6,
   "id": "00904e54",
   "metadata": {
    "execution": {
     "iopub.execute_input": "2022-01-14T06:29:34.997932Z",
     "iopub.status.busy": "2022-01-14T06:29:34.997435Z",
     "iopub.status.idle": "2022-01-14T06:29:35.012738Z",
     "shell.execute_reply": "2022-01-14T06:29:35.012120Z",
     "shell.execute_reply.started": "2022-01-13T09:17:13.544424Z"
    },
    "papermill": {
     "duration": 0.04867,
     "end_time": "2022-01-14T06:29:35.012890",
     "exception": false,
     "start_time": "2022-01-14T06:29:34.964220",
     "status": "completed"
    },
    "tags": []
   },
   "outputs": [],
   "source": [
    "df=df.dropna(subset=['Club','Contract Valid Until','International Reputation','Skill Moves','Value'])"
   ]
  },
  {
   "cell_type": "markdown",
   "id": "dba99c2f",
   "metadata": {
    "papermill": {
     "duration": 0.037946,
     "end_time": "2022-01-14T06:29:35.089404",
     "exception": false,
     "start_time": "2022-01-14T06:29:35.051458",
     "status": "completed"
    },
    "tags": []
   },
   "source": [
    "*Let us check that whether we were able to succesfull remove all the tuples which contained null values.*"
   ]
  },
  {
   "cell_type": "code",
   "execution_count": 7,
   "id": "e3ee4a6a",
   "metadata": {
    "execution": {
     "iopub.execute_input": "2022-01-14T06:29:35.169234Z",
     "iopub.status.busy": "2022-01-14T06:29:35.167938Z",
     "iopub.status.idle": "2022-01-14T06:29:35.179299Z",
     "shell.execute_reply": "2022-01-14T06:29:35.178871Z",
     "shell.execute_reply.started": "2022-01-13T09:17:13.565595Z"
    },
    "papermill": {
     "duration": 0.051909,
     "end_time": "2022-01-14T06:29:35.179441",
     "exception": false,
     "start_time": "2022-01-14T06:29:35.127532",
     "status": "completed"
    },
    "tags": []
   },
   "outputs": [
    {
     "data": {
      "text/plain": [
       "ID                          0\n",
       "Name                        0\n",
       "Age                         0\n",
       "Nationality                 0\n",
       "Overall                     0\n",
       "Potential                   0\n",
       "Club                        0\n",
       "Value                       0\n",
       "Wage                        0\n",
       "Preferred Foot              0\n",
       "International Reputation    0\n",
       "Skill Moves                 0\n",
       "Position                    0\n",
       "Joined                      0\n",
       "Contract Valid Until        0\n",
       "Height                      0\n",
       "Weight                      0\n",
       "Release Clause              0\n",
       "dtype: int64"
      ]
     },
     "execution_count": 7,
     "metadata": {},
     "output_type": "execute_result"
    }
   ],
   "source": [
    "df.isnull().sum()"
   ]
  },
  {
   "cell_type": "markdown",
   "id": "34852255",
   "metadata": {
    "papermill": {
     "duration": 0.026552,
     "end_time": "2022-01-14T06:29:35.232697",
     "exception": false,
     "start_time": "2022-01-14T06:29:35.206145",
     "status": "completed"
    },
    "tags": []
   },
   "source": [
    "*So now we can rest assured that all the dataset has been completely cleaned off of null values*"
   ]
  },
  {
   "cell_type": "markdown",
   "id": "c00f595c",
   "metadata": {
    "papermill": {
     "duration": 0.026143,
     "end_time": "2022-01-14T06:29:35.285255",
     "exception": false,
     "start_time": "2022-01-14T06:29:35.259112",
     "status": "completed"
    },
    "tags": []
   },
   "source": [
    "*So now since the dataset cleaning step is complete we can focus more on exploring the dataset itself.*"
   ]
  },
  {
   "cell_type": "markdown",
   "id": "7d7f9140",
   "metadata": {
    "papermill": {
     "duration": 0.025634,
     "end_time": "2022-01-14T06:29:35.337120",
     "exception": false,
     "start_time": "2022-01-14T06:29:35.311486",
     "status": "completed"
    },
    "tags": []
   },
   "source": [
    "# ***4.Checking the  number of unique instance of an attribute***"
   ]
  },
  {
   "cell_type": "code",
   "execution_count": 8,
   "id": "196fca43",
   "metadata": {
    "execution": {
     "iopub.execute_input": "2022-01-14T06:29:35.393740Z",
     "iopub.status.busy": "2022-01-14T06:29:35.393224Z",
     "iopub.status.idle": "2022-01-14T06:29:35.429423Z",
     "shell.execute_reply": "2022-01-14T06:29:35.429044Z",
     "shell.execute_reply.started": "2022-01-13T09:17:13.582133Z"
    },
    "papermill": {
     "duration": 0.065468,
     "end_time": "2022-01-14T06:29:35.429524",
     "exception": false,
     "start_time": "2022-01-14T06:29:35.364056",
     "status": "completed"
    },
    "tags": []
   },
   "outputs": [
    {
     "name": "stdout",
     "output_type": "stream",
     "text": [
      "ID 17907\n",
      "Name 16913\n",
      "Age 28\n",
      "Nationality 163\n",
      "Overall 48\n",
      "Potential 47\n",
      "Club 651\n",
      "Value 216\n",
      "Wage 143\n",
      "Preferred Foot 2\n",
      "International Reputation 5\n",
      "Skill Moves 5\n",
      "Position 27\n",
      "Joined 22\n",
      "Contract Valid Until 35\n",
      "Height 21\n",
      "Weight 57\n",
      "Release Clause 1245\n"
     ]
    }
   ],
   "source": [
    "for f in df.columns:\n",
    "    print(f,df[f].nunique())"
   ]
  },
  {
   "cell_type": "markdown",
   "id": "10317d76",
   "metadata": {
    "papermill": {
     "duration": 0.024741,
     "end_time": "2022-01-14T06:29:35.479399",
     "exception": false,
     "start_time": "2022-01-14T06:29:35.454658",
     "status": "completed"
    },
    "tags": []
   },
   "source": [
    "# ***5.Age***\n",
    "\n",
    "*Let us take a closer look at the age of the players.\n",
    "More accurately we will focusing on the distribution of the age data*"
   ]
  },
  {
   "cell_type": "code",
   "execution_count": 9,
   "id": "4d9a4d77",
   "metadata": {
    "execution": {
     "iopub.execute_input": "2022-01-14T06:29:35.531957Z",
     "iopub.status.busy": "2022-01-14T06:29:35.531520Z",
     "iopub.status.idle": "2022-01-14T06:29:35.878812Z",
     "shell.execute_reply": "2022-01-14T06:29:35.879361Z",
     "shell.execute_reply.started": "2022-01-13T09:17:13.61356Z"
    },
    "papermill": {
     "duration": 0.375227,
     "end_time": "2022-01-14T06:29:35.879532",
     "exception": false,
     "start_time": "2022-01-14T06:29:35.504305",
     "status": "completed"
    },
    "tags": []
   },
   "outputs": [
    {
     "name": "stdout",
     "output_type": "stream",
     "text": [
      "25.0\n"
     ]
    },
    {
     "data": {
      "text/plain": [
       "<AxesSubplot:xlabel='Age', ylabel='Count'>"
      ]
     },
     "execution_count": 9,
     "metadata": {},
     "output_type": "execute_result"
    },
    {
     "data": {
      "image/png": "[encoded data removed]",
      "text/plain": [
       "<Figure size 432x288 with 1 Axes>"
      ]
     },
     "metadata": {
      "needs_background": "light"
     },
     "output_type": "display_data"
    }
   ],
   "source": [
    "print(df['Age'].median())\n",
    "sns.histplot(x='Age',data=df)"
   ]
  },
  {
   "cell_type": "markdown",
   "id": "8651ae74",
   "metadata": {
    "papermill": {
     "duration": 0.032256,
     "end_time": "2022-01-14T06:29:35.943859",
     "exception": false,
     "start_time": "2022-01-14T06:29:35.911603",
     "status": "completed"
    },
    "tags": []
   },
   "source": [
    "*The median age is 25 i.e most of the players have age closer to 25.*"
   ]
  },
  {
   "cell_type": "markdown",
   "id": "7a304f07",
   "metadata": {
    "papermill": {
     "duration": 0.027305,
     "end_time": "2022-01-14T06:29:36.000792",
     "exception": false,
     "start_time": "2022-01-14T06:29:35.973487",
     "status": "completed"
    },
    "tags": []
   },
   "source": [
    "# ***6.Preferred Foot***\n",
    "\n",
    "*Let us see whether majority of players prefer left foot or right foot*"
   ]
  },
  {
   "cell_type": "code",
   "execution_count": 10,
   "id": "39a71326",
   "metadata": {
    "execution": {
     "iopub.execute_input": "2022-01-14T06:29:36.057998Z",
     "iopub.status.busy": "2022-01-14T06:29:36.057537Z",
     "iopub.status.idle": "2022-01-14T06:29:36.207693Z",
     "shell.execute_reply": "2022-01-14T06:29:36.208251Z",
     "shell.execute_reply.started": "2022-01-13T09:17:13.964222Z"
    },
    "papermill": {
     "duration": 0.180683,
     "end_time": "2022-01-14T06:29:36.208418",
     "exception": false,
     "start_time": "2022-01-14T06:29:36.027735",
     "status": "completed"
    },
    "tags": []
   },
   "outputs": [
    {
     "data": {
      "text/plain": [
       "<AxesSubplot:xlabel='Preferred Foot', ylabel='count'>"
      ]
     },
     "execution_count": 10,
     "metadata": {},
     "output_type": "execute_result"
    },
    {
     "data": {
      "image/png": "[encoded data removed]",
      "text/plain": [
       "<Figure size 432x288 with 1 Axes>"
      ]
     },
     "metadata": {
      "needs_background": "light"
     },
     "output_type": "display_data"
    }
   ],
   "source": [
    "sns.countplot(x='Preferred Foot',data=df)"
   ]
  },
  {
   "cell_type": "markdown",
   "id": "4049996c",
   "metadata": {
    "papermill": {
     "duration": 0.026736,
     "end_time": "2022-01-14T06:29:36.269019",
     "exception": false,
     "start_time": "2022-01-14T06:29:36.242283",
     "status": "completed"
    },
    "tags": []
   },
   "source": [
    "*It seems most players like prefer to take the shot with their right foot.But still unclear on how many players though*"
   ]
  },
  {
   "cell_type": "markdown",
   "id": "89655322",
   "metadata": {
    "papermill": {
     "duration": 0.027083,
     "end_time": "2022-01-14T06:29:36.323118",
     "exception": false,
     "start_time": "2022-01-14T06:29:36.296035",
     "status": "completed"
    },
    "tags": []
   },
   "source": []
  },
  {
   "cell_type": "code",
   "execution_count": 11,
   "id": "5ee6a146",
   "metadata": {
    "execution": {
     "iopub.execute_input": "2022-01-14T06:29:36.380984Z",
     "iopub.status.busy": "2022-01-14T06:29:36.380316Z",
     "iopub.status.idle": "2022-01-14T06:29:36.475671Z",
     "shell.execute_reply": "2022-01-14T06:29:36.475072Z",
     "shell.execute_reply.started": "2022-01-13T09:17:14.151617Z"
    },
    "papermill": {
     "duration": 0.126369,
     "end_time": "2022-01-14T06:29:36.475796",
     "exception": false,
     "start_time": "2022-01-14T06:29:36.349427",
     "status": "completed"
    },
    "tags": []
   },
   "outputs": [
    {
     "data": {
      "image/png": "[encoded data removed]",
      "text/plain": [
       "<Figure size 432x432 with 1 Axes>"
      ]
     },
     "metadata": {},
     "output_type": "display_data"
    }
   ],
   "source": [
    "plt.subplots(figsize=(6,6))\n",
    "plt.pie(df[\"Preferred Foot\"].value_counts(), labels=[\"Right\",\"Left\"],autopct=\"%1.1f%%\")\n",
    "plt.show()"
   ]
  },
  {
   "cell_type": "markdown",
   "id": "401426af",
   "metadata": {
    "papermill": {
     "duration": 0.036646,
     "end_time": "2022-01-14T06:29:36.550301",
     "exception": false,
     "start_time": "2022-01-14T06:29:36.513655",
     "status": "completed"
    },
    "tags": []
   },
   "source": [
    "*Well now we know. 76.8% of the players prefer right foot *"
   ]
  },
  {
   "cell_type": "markdown",
   "id": "a69a376e",
   "metadata": {
    "papermill": {
     "duration": 0.027044,
     "end_time": "2022-01-14T06:29:36.608737",
     "exception": false,
     "start_time": "2022-01-14T06:29:36.581693",
     "status": "completed"
    },
    "tags": []
   },
   "source": [
    "# ***7.Position they play in***"
   ]
  },
  {
   "cell_type": "markdown",
   "id": "01a5af1e",
   "metadata": {
    "papermill": {
     "duration": 0.026653,
     "end_time": "2022-01-14T06:29:36.662487",
     "exception": false,
     "start_time": "2022-01-14T06:29:36.635834",
     "status": "completed"
    },
    "tags": []
   },
   "source": [
    "*Let's find out which position most players play in*"
   ]
  },
  {
   "cell_type": "code",
   "execution_count": 12,
   "id": "163fde9c",
   "metadata": {
    "execution": {
     "iopub.execute_input": "2022-01-14T06:29:36.739540Z",
     "iopub.status.busy": "2022-01-14T06:29:36.739038Z",
     "iopub.status.idle": "2022-01-14T06:29:36.975676Z",
     "shell.execute_reply": "2022-01-14T06:29:36.976021Z",
     "shell.execute_reply.started": "2022-01-13T09:17:14.265562Z"
    },
    "papermill": {
     "duration": 0.286596,
     "end_time": "2022-01-14T06:29:36.976159",
     "exception": false,
     "start_time": "2022-01-14T06:29:36.689563",
     "status": "completed"
    },
    "tags": []
   },
   "outputs": [
    {
     "data": {
      "image/png": "[encoded data removed]",
      "text/plain": [
       "<Figure size 648x648 with 1 Axes>"
      ]
     },
     "metadata": {
      "needs_background": "light"
     },
     "output_type": "display_data"
    }
   ],
   "source": [
    "plt.subplots(figsize=(9,9))\n",
    "sns.countplot(x='Position',data=df)\n",
    "plt.show()"
   ]
  },
  {
   "cell_type": "markdown",
   "id": "1927be45",
   "metadata": {
    "papermill": {
     "duration": 0.027788,
     "end_time": "2022-01-14T06:29:37.032017",
     "exception": false,
     "start_time": "2022-01-14T06:29:37.004229",
     "status": "completed"
    },
    "tags": []
   },
   "source": [
    "*It seems as though most players play in the ST position*"
   ]
  },
  {
   "cell_type": "markdown",
   "id": "93e96e17",
   "metadata": {
    "papermill": {
     "duration": 0.027494,
     "end_time": "2022-01-14T06:29:37.087085",
     "exception": false,
     "start_time": "2022-01-14T06:29:37.059591",
     "status": "completed"
    },
    "tags": []
   },
   "source": [
    "# **8.International Reputation**\n",
    "*Internation Reputation is a huge factor when it comes to a player and the team he is in. Let us take a closer look as to how strong are their reputation on a scale of 1-5*"
   ]
  },
  {
   "cell_type": "code",
   "execution_count": 13,
   "id": "709a39eb",
   "metadata": {
    "execution": {
     "iopub.execute_input": "2022-01-14T06:29:37.146084Z",
     "iopub.status.busy": "2022-01-14T06:29:37.145630Z",
     "iopub.status.idle": "2022-01-14T06:29:37.289237Z",
     "shell.execute_reply": "2022-01-14T06:29:37.289866Z",
     "shell.execute_reply.started": "2022-01-13T09:17:14.644196Z"
    },
    "papermill": {
     "duration": 0.174822,
     "end_time": "2022-01-14T06:29:37.290040",
     "exception": false,
     "start_time": "2022-01-14T06:29:37.115218",
     "status": "completed"
    },
    "tags": []
   },
   "outputs": [
    {
     "data": {
      "text/plain": [
       "<AxesSubplot:xlabel='International Reputation', ylabel='count'>"
      ]
     },
     "execution_count": 13,
     "metadata": {},
     "output_type": "execute_result"
    },
    {
     "data": {
      "image/png": "[encoded data removed]",
      "text/plain": [
       "<Figure size 432x288 with 1 Axes>"
      ]
     },
     "metadata": {
      "needs_background": "light"
     },
     "output_type": "display_data"
    }
   ],
   "source": [
    "sns.countplot(x='International Reputation',data=df)"
   ]
  },
  {
   "cell_type": "markdown",
   "id": "f7117bd4",
   "metadata": {
    "papermill": {
     "duration": 0.043235,
     "end_time": "2022-01-14T06:29:37.379217",
     "exception": false,
     "start_time": "2022-01-14T06:29:37.335982",
     "status": "completed"
    },
    "tags": []
   },
   "source": [
    "*This gives us any early idea as to how many playes have the highest international reputation.*"
   ]
  },
  {
   "cell_type": "markdown",
   "id": "80b9b928",
   "metadata": {
    "papermill": {
     "duration": 0.044469,
     "end_time": "2022-01-14T06:29:37.467240",
     "exception": false,
     "start_time": "2022-01-14T06:29:37.422771",
     "status": "completed"
    },
    "tags": []
   },
   "source": [
    "# ***6.Skill Moves***\n",
    "*Skill Moves of a  player directly translates into their performace in a game.*"
   ]
  },
  {
   "cell_type": "code",
   "execution_count": 14,
   "id": "2b191efa",
   "metadata": {
    "execution": {
     "iopub.execute_input": "2022-01-14T06:29:37.558393Z",
     "iopub.status.busy": "2022-01-14T06:29:37.557778Z",
     "iopub.status.idle": "2022-01-14T06:29:37.695947Z",
     "shell.execute_reply": "2022-01-14T06:29:37.696533Z",
     "shell.execute_reply.started": "2022-01-13T09:17:14.845371Z"
    },
    "papermill": {
     "duration": 0.185202,
     "end_time": "2022-01-14T06:29:37.696715",
     "exception": false,
     "start_time": "2022-01-14T06:29:37.511513",
     "status": "completed"
    },
    "tags": []
   },
   "outputs": [
    {
     "data": {
      "text/plain": [
       "<AxesSubplot:xlabel='Skill Moves', ylabel='count'>"
      ]
     },
     "execution_count": 14,
     "metadata": {},
     "output_type": "execute_result"
    },
    {
     "data": {
      "image/png": "[encoded data removed]",
      "text/plain": [
       "<Figure size 432x288 with 1 Axes>"
      ]
     },
     "metadata": {
      "needs_background": "light"
     },
     "output_type": "display_data"
    }
   ],
   "source": [
    "sns.countplot(x='Skill Moves',data=df)"
   ]
  },
  {
   "cell_type": "markdown",
   "id": "6f13fb38",
   "metadata": {
    "papermill": {
     "duration": 0.045044,
     "end_time": "2022-01-14T06:29:37.789886",
     "exception": false,
     "start_time": "2022-01-14T06:29:37.744842",
     "status": "completed"
    },
    "tags": []
   },
   "source": [
    "*Most of the players are of skill set point 2.*"
   ]
  },
  {
   "cell_type": "markdown",
   "id": "5f3deebe",
   "metadata": {
    "papermill": {
     "duration": 0.044652,
     "end_time": "2022-01-14T06:29:37.879534",
     "exception": false,
     "start_time": "2022-01-14T06:29:37.834882",
     "status": "completed"
    },
    "tags": []
   },
   "source": [
    "# ***7.Nationality***\n",
    "*Let's find the top 10 countries with the most players in FIFA.*"
   ]
  },
  {
   "cell_type": "code",
   "execution_count": 15,
   "id": "d431b9d2",
   "metadata": {
    "execution": {
     "iopub.execute_input": "2022-01-14T06:29:37.973956Z",
     "iopub.status.busy": "2022-01-14T06:29:37.971434Z",
     "iopub.status.idle": "2022-01-14T06:29:38.163324Z",
     "shell.execute_reply": "2022-01-14T06:29:38.163783Z",
     "shell.execute_reply.started": "2022-01-13T09:17:15.048268Z"
    },
    "papermill": {
     "duration": 0.238951,
     "end_time": "2022-01-14T06:29:38.163909",
     "exception": false,
     "start_time": "2022-01-14T06:29:37.924958",
     "status": "completed"
    },
    "tags": []
   },
   "outputs": [
    {
     "data": {
      "image/png": "[encoded data removed]",
      "text/plain": [
       "<Figure size 432x288 with 1 Axes>"
      ]
     },
     "metadata": {
      "needs_background": "light"
     },
     "output_type": "display_data"
    }
   ],
   "source": [
    "national = df['Nationality'].value_counts()[:10]\n",
    "national.plot.bar()\n",
    "plt.show()"
   ]
  },
  {
   "cell_type": "markdown",
   "id": "26024aa2",
   "metadata": {
    "papermill": {
     "duration": 0.029662,
     "end_time": "2022-01-14T06:29:38.223527",
     "exception": false,
     "start_time": "2022-01-14T06:29:38.193865",
     "status": "completed"
    },
    "tags": []
   },
   "source": [
    "# ***8.Value,Wage,Release Clause***\n",
    "*From here on now, we will focus on the relation between these three attributes.*"
   ]
  },
  {
   "cell_type": "code",
   "execution_count": 16,
   "id": "6074efc5",
   "metadata": {
    "execution": {
     "iopub.execute_input": "2022-01-14T06:29:38.294093Z",
     "iopub.status.busy": "2022-01-14T06:29:38.293654Z",
     "iopub.status.idle": "2022-01-14T06:29:40.057034Z",
     "shell.execute_reply": "2022-01-14T06:29:40.056625Z",
     "shell.execute_reply.started": "2022-01-13T09:17:15.26875Z"
    },
    "papermill": {
     "duration": 1.80353,
     "end_time": "2022-01-14T06:29:40.057132",
     "exception": false,
     "start_time": "2022-01-14T06:29:38.253602",
     "status": "completed"
    },
    "tags": []
   },
   "outputs": [
    {
     "data": {
      "text/plain": [
       "<seaborn.axisgrid.FacetGrid at 0x7f887860a110>"
      ]
     },
     "execution_count": 16,
     "metadata": {},
     "output_type": "execute_result"
    },
    {
     "data": {
      "image/png": "[encoded data removed]",
      "text/plain": [
       "<Figure size 360x360 with 1 Axes>"
      ]
     },
     "metadata": {
      "needs_background": "light"
     },
     "output_type": "display_data"
    }
   ],
   "source": [
    "sns.lmplot(x='Wage',y='Release Clause',data=df)"
   ]
  },
  {
   "cell_type": "code",
   "execution_count": 17,
   "id": "22fb8f36",
   "metadata": {
    "execution": {
     "iopub.execute_input": "2022-01-14T06:29:40.126669Z",
     "iopub.status.busy": "2022-01-14T06:29:40.124128Z",
     "iopub.status.idle": "2022-01-14T06:29:41.721654Z",
     "shell.execute_reply": "2022-01-14T06:29:41.721090Z",
     "shell.execute_reply.started": "2022-01-13T09:17:16.412066Z"
    },
    "papermill": {
     "duration": 1.632865,
     "end_time": "2022-01-14T06:29:41.721790",
     "exception": false,
     "start_time": "2022-01-14T06:29:40.088925",
     "status": "completed"
    },
    "tags": []
   },
   "outputs": [
    {
     "data": {
      "text/plain": [
       "<seaborn.axisgrid.FacetGrid at 0x7f88786e56d0>"
      ]
     },
     "execution_count": 17,
     "metadata": {},
     "output_type": "execute_result"
    },
    {
     "data": {
      "image/png": "[encoded data removed]",
      "text/plain": [
       "<Figure size 360x360 with 1 Axes>"
      ]
     },
     "metadata": {
      "needs_background": "light"
     },
     "output_type": "display_data"
    }
   ],
   "source": [
    "sns.lmplot(x='Value',y='Release Clause',data=df)"
   ]
  },
  {
   "cell_type": "code",
   "execution_count": 18,
   "id": "9f1d86b4",
   "metadata": {
    "execution": {
     "iopub.execute_input": "2022-01-14T06:29:41.824380Z",
     "iopub.status.busy": "2022-01-14T06:29:41.823786Z",
     "iopub.status.idle": "2022-01-14T06:29:42.874490Z",
     "shell.execute_reply": "2022-01-14T06:29:42.874824Z",
     "shell.execute_reply.started": "2022-01-13T09:17:17.503308Z"
    },
    "papermill": {
     "duration": 1.10411,
     "end_time": "2022-01-14T06:29:42.874947",
     "exception": false,
     "start_time": "2022-01-14T06:29:41.770837",
     "status": "completed"
    },
    "tags": []
   },
   "outputs": [
    {
     "data": {
      "text/plain": [
       "<seaborn.axisgrid.FacetGrid at 0x7f88784b1790>"
      ]
     },
     "execution_count": 18,
     "metadata": {},
     "output_type": "execute_result"
    },
    {
     "data": {
      "image/png": "[encoded data removed]",
      "text/plain": [
       "<Figure size 360x360 with 1 Axes>"
      ]
     },
     "metadata": {
      "needs_background": "light"
     },
     "output_type": "display_data"
    }
   ],
   "source": [
    "sns.lmplot(x='Value',y='Wage',data=df)"
   ]
  },
  {
   "cell_type": "markdown",
   "id": "78c6901b",
   "metadata": {
    "papermill": {
     "duration": 0.033701,
     "end_time": "2022-01-14T06:29:42.942120",
     "exception": false,
     "start_time": "2022-01-14T06:29:42.908419",
     "status": "completed"
    },
    "tags": []
   },
   "source": [
    "# ***8.Clubs***\n",
    "*Lastly, we will take a look at the top 5 clubs with most players.*"
   ]
  },
  {
   "cell_type": "code",
   "execution_count": 19,
   "id": "71527361",
   "metadata": {
    "execution": {
     "iopub.execute_input": "2022-01-14T06:29:43.031753Z",
     "iopub.status.busy": "2022-01-14T06:29:43.012175Z",
     "iopub.status.idle": "2022-01-14T06:29:43.114788Z",
     "shell.execute_reply": "2022-01-14T06:29:43.114028Z",
     "shell.execute_reply.started": "2022-01-13T09:17:18.664032Z"
    },
    "papermill": {
     "duration": 0.139112,
     "end_time": "2022-01-14T06:29:43.114915",
     "exception": false,
     "start_time": "2022-01-14T06:29:42.975803",
     "status": "completed"
    },
    "tags": []
   },
   "outputs": [
    {
     "data": {
      "image/png": "[encoded data removed]",
      "text/plain": [
       "<Figure size 432x432 with 1 Axes>"
      ]
     },
     "metadata": {},
     "output_type": "display_data"
    }
   ],
   "source": [
    "plt.subplots(figsize=(6,6))\n",
    "size = df[\"Club\"].value_counts().sort_values(ascending = False).head(5)\n",
    "def value(val):\n",
    "               x = np.round(val/100.*size.sum())\n",
    "               return x\n",
    "plt.pie(size, labels = size.index, autopct = value, explode=[0,0,0,0.05,0.1])\n",
    "plt.title(\"Club members\")\n",
    "plt.show()"
   ]
  },
  {
   "cell_type": "markdown",
   "id": "2967afa6",
   "metadata": {
    "papermill": {
     "duration": 0.040757,
     "end_time": "2022-01-14T06:29:43.203843",
     "exception": false,
     "start_time": "2022-01-14T06:29:43.163086",
     "status": "completed"
    },
    "tags": []
   },
   "source": [
    "*Thank you. I am new to the whole of Data Science. So do comment your suggestion or improvements in the comment section. And do not forget to upvote if you have found it useful.*"
   ]
  },
  {
   "cell_type": "markdown",
   "id": "d2f64f83",
   "metadata": {
    "papermill": {
     "duration": 0.034749,
     "end_time": "2022-01-14T06:29:43.273521",
     "exception": false,
     "start_time": "2022-01-14T06:29:43.238772",
     "status": "completed"
    },
    "tags": []
   },
   "source": []
  },
  {
   "cell_type": "markdown",
   "id": "d9419c81",
   "metadata": {
    "papermill": {
     "duration": 0.034077,
     "end_time": "2022-01-14T06:29:43.342003",
     "exception": false,
     "start_time": "2022-01-14T06:29:43.307926",
     "status": "completed"
    },
    "tags": []
   },
   "source": []
  },
  {
   "cell_type": "markdown",
   "id": "185d1ce1",
   "metadata": {
    "papermill": {
     "duration": 0.034495,
     "end_time": "2022-01-14T06:29:43.411309",
     "exception": false,
     "start_time": "2022-01-14T06:29:43.376814",
     "status": "completed"
    },
    "tags": []
   },
   "source": []
  },
  {
   "cell_type": "markdown",
   "id": "ea90c522",
   "metadata": {
    "papermill": {
     "duration": 0.034979,
     "end_time": "2022-01-14T06:29:43.481412",
     "exception": false,
     "start_time": "2022-01-14T06:29:43.446433",
     "status": "completed"
    },
    "tags": []
   },
   "source": []
  }
 ],
 "metadata": {
  "kernelspec": {
   "display_name": "Python 3",
   "language": "python",
   "name": "python3"
  },
  "language_info": {
   "codemirror_mode": {
    "name": "ipython",
    "version": 3
   },
   "file_extension": ".py",
   "mimetype": "text/x-python",
   "name": "python",
   "nbconvert_exporter": "python",
   "pygments_lexer": "ipython3",
   "version": "3.7.12"
  },
  "papermill": {
   "default_parameters": {},
   "duration": 20.957357,
   "end_time": "2022-01-14T06:29:44.225103",
   "environment_variables": {},
   "exception": null,
   "input_path": "__notebook__.ipynb",
   "output_path": "__notebook__.ipynb",
   "parameters": {},
   "start_time": "2022-01-14T06:29:23.267746",
   "version": "2.3.3"
  }
 },
 "nbformat": 4,
 "nbformat_minor": 5
}

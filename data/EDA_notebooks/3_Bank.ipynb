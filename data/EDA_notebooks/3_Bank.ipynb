{
 "cells": [
  {
   "cell_type": "markdown",
   "id": "aed3e607",
   "metadata": {
    "papermill": {
     "duration": 0.008172,
     "end_time": "2023-12-18T18:49:46.731034",
     "exception": false,
     "start_time": "2023-12-18T18:49:46.722862",
     "status": "completed"
    },
    "tags": []
   },
   "source": [
    "## Import nedded models"
   ]
  },
  {
   "cell_type": "code",
   "execution_count": 1,
   "id": "c6c4872e",
   "metadata": {
    "execution": {
     "iopub.execute_input": "2023-12-18T18:49:46.748351Z",
     "iopub.status.busy": "2023-12-18T18:49:46.747745Z",
     "iopub.status.idle": "2023-12-18T18:49:50.326339Z",
     "shell.execute_reply": "2023-12-18T18:49:50.325537Z"
    },
    "papermill": {
     "duration": 3.589961,
     "end_time": "2023-12-18T18:49:50.328675",
     "exception": false,
     "start_time": "2023-12-18T18:49:46.738714",
     "status": "completed"
    },
    "tags": []
   },
   "outputs": [],
   "source": [
    "import numpy as np\n",
    "import pandas as pd\n",
    "import matplotlib.pyplot as plt\n",
    "import seaborn as sns\n",
    "sns.set(style=\"whitegrid\")\n",
    "\n",
    "from sklearn.preprocessing import LabelEncoder, MinMaxScaler\n",
    "\n",
    "from sklearn.linear_model import LogisticRegression\n",
    "from sklearn.svm import SVC\n",
    "from sklearn.neighbors import KNeighborsClassifier\n",
    "from sklearn.tree import DecisionTreeClassifier\n",
    "from sklearn.ensemble import RandomForestClassifier, ExtraTreesClassifier, AdaBoostClassifier, BaggingClassifier\n",
    "from xgboost import XGBClassifier\n",
    "from catboost import CatBoostClassifier\n",
    "from lightgbm import LGBMClassifier\n",
    "\n",
    "from sklearn.metrics import confusion_matrix, classification_report"
   ]
  },
  {
   "cell_type": "markdown",
   "id": "a3e37868",
   "metadata": {
    "papermill": {
     "duration": 0.007074,
     "end_time": "2023-12-18T18:49:50.343240",
     "exception": false,
     "start_time": "2023-12-18T18:49:50.336166",
     "status": "completed"
    },
    "tags": []
   },
   "source": [
    "## Exploratory Data Analysis and Wrangling"
   ]
  },
  {
   "cell_type": "markdown",
   "id": "13193b70",
   "metadata": {
    "papermill": {
     "duration": 0.007018,
     "end_time": "2023-12-18T18:49:50.357520",
     "exception": false,
     "start_time": "2023-12-18T18:49:50.350502",
     "status": "completed"
    },
    "tags": []
   },
   "source": [
    "## Read data"
   ]
  },
  {
   "cell_type": "code",
   "execution_count": 2,
   "id": "073f598f",
   "metadata": {
    "execution": {
     "iopub.execute_input": "2023-12-18T18:49:50.374915Z",
     "iopub.status.busy": "2023-12-18T18:49:50.374309Z",
     "iopub.status.idle": "2023-12-18T18:49:50.617235Z",
     "shell.execute_reply": "2023-12-18T18:49:50.616203Z"
    },
    "papermill": {
     "duration": 0.254669,
     "end_time": "2023-12-18T18:49:50.619863",
     "exception": false,
     "start_time": "2023-12-18T18:49:50.365194",
     "status": "completed"
    },
    "tags": []
   },
   "outputs": [],
   "source": [
    "train_df = pd.read_csv('/kaggle/input/bank-term-deposit-predictions/train.csv')\n",
    "test_df = pd.read_csv('/kaggle/input/bank-term-deposit-predictions/test.csv')"
   ]
  },
  {
   "cell_type": "markdown",
   "id": "92e2eba2",
   "metadata": {
    "papermill": {
     "duration": 0.007433,
     "end_time": "2023-12-18T18:49:50.635096",
     "exception": false,
     "start_time": "2023-12-18T18:49:50.627663",
     "status": "completed"
    },
    "tags": []
   },
   "source": [
    "## Get sample"
   ]
  },
  {
   "cell_type": "code",
   "execution_count": 3,
   "id": "8daff8e4",
   "metadata": {
    "execution": {
     "iopub.execute_input": "2023-12-18T18:49:50.652864Z",
     "iopub.status.busy": "2023-12-18T18:49:50.652089Z",
     "iopub.status.idle": "2023-12-18T18:49:50.687609Z",
     "shell.execute_reply": "2023-12-18T18:49:50.686754Z"
    },
    "papermill": {
     "duration": 0.047229,
     "end_time": "2023-12-18T18:49:50.689911",
     "exception": false,
     "start_time": "2023-12-18T18:49:50.642682",
     "status": "completed"
    },
    "tags": []
   },
   "outputs": [
    {
     "data": {
      "text/html": [
       "<div>\n",
       "<style scoped>\n",
       "    .dataframe tbody tr th:only-of-type {\n",
       "        vertical-align: middle;\n",
       "    }\n",
       "\n",
       "    .dataframe tbody tr th {\n",
       "        vertical-align: top;\n",
       "    }\n",
       "\n",
       "    .dataframe thead th {\n",
       "        text-align: right;\n",
       "    }\n",
       "</style>\n",
       "<table border=\"1\" class=\"dataframe\">\n",
       "  <thead>\n",
       "    <tr style=\"text-align: right;\">\n",
       "      <th></th>\n",
       "      <th>age</th>\n",
       "      <th>job</th>\n",
       "      <th>marital</th>\n",
       "      <th>education</th>\n",
       "      <th>default</th>\n",
       "      <th>balance</th>\n",
       "      <th>housing</th>\n",
       "      <th>loan</th>\n",
       "      <th>contact</th>\n",
       "      <th>day</th>\n",
       "      <th>month</th>\n",
       "      <th>duration</th>\n",
       "      <th>campaign</th>\n",
       "      <th>pdays</th>\n",
       "      <th>previous</th>\n",
       "      <th>poutcome</th>\n",
       "      <th>y</th>\n",
       "    </tr>\n",
       "  </thead>\n",
       "  <tbody>\n",
       "    <tr>\n",
       "      <th>32138</th>\n",
       "      <td>36</td>\n",
       "      <td>management</td>\n",
       "      <td>married</td>\n",
       "      <td>secondary</td>\n",
       "      <td>no</td>\n",
       "      <td>1160</td>\n",
       "      <td>yes</td>\n",
       "      <td>no</td>\n",
       "      <td>cellular</td>\n",
       "      <td>15</td>\n",
       "      <td>apr</td>\n",
       "      <td>56</td>\n",
       "      <td>1</td>\n",
       "      <td>323</td>\n",
       "      <td>3</td>\n",
       "      <td>failure</td>\n",
       "      <td>no</td>\n",
       "    </tr>\n",
       "    <tr>\n",
       "      <th>44084</th>\n",
       "      <td>50</td>\n",
       "      <td>technician</td>\n",
       "      <td>married</td>\n",
       "      <td>tertiary</td>\n",
       "      <td>no</td>\n",
       "      <td>0</td>\n",
       "      <td>no</td>\n",
       "      <td>yes</td>\n",
       "      <td>cellular</td>\n",
       "      <td>6</td>\n",
       "      <td>jul</td>\n",
       "      <td>257</td>\n",
       "      <td>1</td>\n",
       "      <td>85</td>\n",
       "      <td>7</td>\n",
       "      <td>failure</td>\n",
       "      <td>no</td>\n",
       "    </tr>\n",
       "    <tr>\n",
       "      <th>13662</th>\n",
       "      <td>47</td>\n",
       "      <td>services</td>\n",
       "      <td>married</td>\n",
       "      <td>secondary</td>\n",
       "      <td>no</td>\n",
       "      <td>0</td>\n",
       "      <td>yes</td>\n",
       "      <td>no</td>\n",
       "      <td>cellular</td>\n",
       "      <td>9</td>\n",
       "      <td>jul</td>\n",
       "      <td>173</td>\n",
       "      <td>1</td>\n",
       "      <td>-1</td>\n",
       "      <td>0</td>\n",
       "      <td>unknown</td>\n",
       "      <td>no</td>\n",
       "    </tr>\n",
       "    <tr>\n",
       "      <th>22886</th>\n",
       "      <td>30</td>\n",
       "      <td>management</td>\n",
       "      <td>single</td>\n",
       "      <td>tertiary</td>\n",
       "      <td>no</td>\n",
       "      <td>0</td>\n",
       "      <td>no</td>\n",
       "      <td>no</td>\n",
       "      <td>cellular</td>\n",
       "      <td>25</td>\n",
       "      <td>aug</td>\n",
       "      <td>144</td>\n",
       "      <td>18</td>\n",
       "      <td>-1</td>\n",
       "      <td>0</td>\n",
       "      <td>unknown</td>\n",
       "      <td>no</td>\n",
       "    </tr>\n",
       "    <tr>\n",
       "      <th>22997</th>\n",
       "      <td>43</td>\n",
       "      <td>management</td>\n",
       "      <td>divorced</td>\n",
       "      <td>tertiary</td>\n",
       "      <td>no</td>\n",
       "      <td>-166</td>\n",
       "      <td>yes</td>\n",
       "      <td>yes</td>\n",
       "      <td>cellular</td>\n",
       "      <td>26</td>\n",
       "      <td>aug</td>\n",
       "      <td>176</td>\n",
       "      <td>2</td>\n",
       "      <td>-1</td>\n",
       "      <td>0</td>\n",
       "      <td>unknown</td>\n",
       "      <td>no</td>\n",
       "    </tr>\n",
       "    <tr>\n",
       "      <th>89</th>\n",
       "      <td>57</td>\n",
       "      <td>retired</td>\n",
       "      <td>married</td>\n",
       "      <td>secondary</td>\n",
       "      <td>no</td>\n",
       "      <td>486</td>\n",
       "      <td>yes</td>\n",
       "      <td>no</td>\n",
       "      <td>unknown</td>\n",
       "      <td>5</td>\n",
       "      <td>may</td>\n",
       "      <td>180</td>\n",
       "      <td>2</td>\n",
       "      <td>-1</td>\n",
       "      <td>0</td>\n",
       "      <td>unknown</td>\n",
       "      <td>no</td>\n",
       "    </tr>\n",
       "    <tr>\n",
       "      <th>6442</th>\n",
       "      <td>38</td>\n",
       "      <td>blue-collar</td>\n",
       "      <td>single</td>\n",
       "      <td>secondary</td>\n",
       "      <td>no</td>\n",
       "      <td>5891</td>\n",
       "      <td>yes</td>\n",
       "      <td>no</td>\n",
       "      <td>unknown</td>\n",
       "      <td>27</td>\n",
       "      <td>may</td>\n",
       "      <td>160</td>\n",
       "      <td>3</td>\n",
       "      <td>-1</td>\n",
       "      <td>0</td>\n",
       "      <td>unknown</td>\n",
       "      <td>no</td>\n",
       "    </tr>\n",
       "    <tr>\n",
       "      <th>16890</th>\n",
       "      <td>29</td>\n",
       "      <td>services</td>\n",
       "      <td>married</td>\n",
       "      <td>tertiary</td>\n",
       "      <td>no</td>\n",
       "      <td>-62</td>\n",
       "      <td>yes</td>\n",
       "      <td>yes</td>\n",
       "      <td>cellular</td>\n",
       "      <td>25</td>\n",
       "      <td>jul</td>\n",
       "      <td>126</td>\n",
       "      <td>1</td>\n",
       "      <td>-1</td>\n",
       "      <td>0</td>\n",
       "      <td>unknown</td>\n",
       "      <td>no</td>\n",
       "    </tr>\n",
       "    <tr>\n",
       "      <th>29927</th>\n",
       "      <td>45</td>\n",
       "      <td>blue-collar</td>\n",
       "      <td>married</td>\n",
       "      <td>secondary</td>\n",
       "      <td>no</td>\n",
       "      <td>1778</td>\n",
       "      <td>yes</td>\n",
       "      <td>no</td>\n",
       "      <td>cellular</td>\n",
       "      <td>4</td>\n",
       "      <td>feb</td>\n",
       "      <td>41</td>\n",
       "      <td>1</td>\n",
       "      <td>251</td>\n",
       "      <td>5</td>\n",
       "      <td>failure</td>\n",
       "      <td>no</td>\n",
       "    </tr>\n",
       "    <tr>\n",
       "      <th>31314</th>\n",
       "      <td>59</td>\n",
       "      <td>unemployed</td>\n",
       "      <td>married</td>\n",
       "      <td>secondary</td>\n",
       "      <td>no</td>\n",
       "      <td>0</td>\n",
       "      <td>no</td>\n",
       "      <td>no</td>\n",
       "      <td>cellular</td>\n",
       "      <td>11</td>\n",
       "      <td>mar</td>\n",
       "      <td>74</td>\n",
       "      <td>1</td>\n",
       "      <td>-1</td>\n",
       "      <td>0</td>\n",
       "      <td>unknown</td>\n",
       "      <td>no</td>\n",
       "    </tr>\n",
       "  </tbody>\n",
       "</table>\n",
       "</div>"
      ],
      "text/plain": [
       "       age          job   marital  education default  balance housing loan  \\\n",
       "32138   36   management   married  secondary      no     1160     yes   no   \n",
       "44084   50   technician   married   tertiary      no        0      no  yes   \n",
       "13662   47     services   married  secondary      no        0     yes   no   \n",
       "22886   30   management    single   tertiary      no        0      no   no   \n",
       "22997   43   management  divorced   tertiary      no     -166     yes  yes   \n",
       "89      57      retired   married  secondary      no      486     yes   no   \n",
       "6442    38  blue-collar    single  secondary      no     5891     yes   no   \n",
       "16890   29     services   married   tertiary      no      -62     yes  yes   \n",
       "29927   45  blue-collar   married  secondary      no     1778     yes   no   \n",
       "31314   59   unemployed   married  secondary      no        0      no   no   \n",
       "\n",
       "        contact  day month  duration  campaign  pdays  previous poutcome   y  \n",
       "32138  cellular   15   apr        56         1    323         3  failure  no  \n",
       "44084  cellular    6   jul       257         1     85         7  failure  no  \n",
       "13662  cellular    9   jul       173         1     -1         0  unknown  no  \n",
       "22886  cellular   25   aug       144        18     -1         0  unknown  no  \n",
       "22997  cellular   26   aug       176         2     -1         0  unknown  no  \n",
       "89      unknown    5   may       180         2     -1         0  unknown  no  \n",
       "6442    unknown   27   may       160         3     -1         0  unknown  no  \n",
       "16890  cellular   25   jul       126         1     -1         0  unknown  no  \n",
       "29927  cellular    4   feb        41         1    251         5  failure  no  \n",
       "31314  cellular   11   mar        74         1     -1         0  unknown  no  "
      ]
     },
     "execution_count": 3,
     "metadata": {},
     "output_type": "execute_result"
    }
   ],
   "source": [
    "# Train Data Sample\n",
    "train_df.sample(10)"
   ]
  },
  {
   "cell_type": "code",
   "execution_count": 4,
   "id": "13a5e541",
   "metadata": {
    "execution": {
     "iopub.execute_input": "2023-12-18T18:49:50.708468Z",
     "iopub.status.busy": "2023-12-18T18:49:50.707560Z",
     "iopub.status.idle": "2023-12-18T18:49:50.728072Z",
     "shell.execute_reply": "2023-12-18T18:49:50.727082Z"
    },
    "papermill": {
     "duration": 0.032136,
     "end_time": "2023-12-18T18:49:50.730215",
     "exception": false,
     "start_time": "2023-12-18T18:49:50.698079",
     "status": "completed"
    },
    "tags": []
   },
   "outputs": [
    {
     "data": {
      "text/html": [
       "<div>\n",
       "<style scoped>\n",
       "    .dataframe tbody tr th:only-of-type {\n",
       "        vertical-align: middle;\n",
       "    }\n",
       "\n",
       "    .dataframe tbody tr th {\n",
       "        vertical-align: top;\n",
       "    }\n",
       "\n",
       "    .dataframe thead th {\n",
       "        text-align: right;\n",
       "    }\n",
       "</style>\n",
       "<table border=\"1\" class=\"dataframe\">\n",
       "  <thead>\n",
       "    <tr style=\"text-align: right;\">\n",
       "      <th></th>\n",
       "      <th>age</th>\n",
       "      <th>job</th>\n",
       "      <th>marital</th>\n",
       "      <th>education</th>\n",
       "      <th>default</th>\n",
       "      <th>balance</th>\n",
       "      <th>housing</th>\n",
       "      <th>loan</th>\n",
       "      <th>contact</th>\n",
       "      <th>day</th>\n",
       "      <th>month</th>\n",
       "      <th>duration</th>\n",
       "      <th>campaign</th>\n",
       "      <th>pdays</th>\n",
       "      <th>previous</th>\n",
       "      <th>poutcome</th>\n",
       "      <th>y</th>\n",
       "    </tr>\n",
       "  </thead>\n",
       "  <tbody>\n",
       "    <tr>\n",
       "      <th>3120</th>\n",
       "      <td>47</td>\n",
       "      <td>technician</td>\n",
       "      <td>married</td>\n",
       "      <td>primary</td>\n",
       "      <td>no</td>\n",
       "      <td>187</td>\n",
       "      <td>yes</td>\n",
       "      <td>no</td>\n",
       "      <td>unknown</td>\n",
       "      <td>9</td>\n",
       "      <td>may</td>\n",
       "      <td>165</td>\n",
       "      <td>1</td>\n",
       "      <td>-1</td>\n",
       "      <td>0</td>\n",
       "      <td>unknown</td>\n",
       "      <td>no</td>\n",
       "    </tr>\n",
       "    <tr>\n",
       "      <th>98</th>\n",
       "      <td>36</td>\n",
       "      <td>blue-collar</td>\n",
       "      <td>divorced</td>\n",
       "      <td>secondary</td>\n",
       "      <td>no</td>\n",
       "      <td>2843</td>\n",
       "      <td>no</td>\n",
       "      <td>no</td>\n",
       "      <td>cellular</td>\n",
       "      <td>12</td>\n",
       "      <td>feb</td>\n",
       "      <td>473</td>\n",
       "      <td>1</td>\n",
       "      <td>182</td>\n",
       "      <td>1</td>\n",
       "      <td>success</td>\n",
       "      <td>no</td>\n",
       "    </tr>\n",
       "    <tr>\n",
       "      <th>2225</th>\n",
       "      <td>31</td>\n",
       "      <td>self-employed</td>\n",
       "      <td>single</td>\n",
       "      <td>tertiary</td>\n",
       "      <td>no</td>\n",
       "      <td>96</td>\n",
       "      <td>no</td>\n",
       "      <td>no</td>\n",
       "      <td>cellular</td>\n",
       "      <td>5</td>\n",
       "      <td>feb</td>\n",
       "      <td>577</td>\n",
       "      <td>1</td>\n",
       "      <td>-1</td>\n",
       "      <td>0</td>\n",
       "      <td>unknown</td>\n",
       "      <td>no</td>\n",
       "    </tr>\n",
       "    <tr>\n",
       "      <th>2388</th>\n",
       "      <td>35</td>\n",
       "      <td>admin.</td>\n",
       "      <td>married</td>\n",
       "      <td>secondary</td>\n",
       "      <td>no</td>\n",
       "      <td>0</td>\n",
       "      <td>yes</td>\n",
       "      <td>no</td>\n",
       "      <td>cellular</td>\n",
       "      <td>7</td>\n",
       "      <td>may</td>\n",
       "      <td>121</td>\n",
       "      <td>2</td>\n",
       "      <td>-1</td>\n",
       "      <td>0</td>\n",
       "      <td>unknown</td>\n",
       "      <td>no</td>\n",
       "    </tr>\n",
       "    <tr>\n",
       "      <th>780</th>\n",
       "      <td>33</td>\n",
       "      <td>blue-collar</td>\n",
       "      <td>married</td>\n",
       "      <td>secondary</td>\n",
       "      <td>no</td>\n",
       "      <td>1134</td>\n",
       "      <td>yes</td>\n",
       "      <td>no</td>\n",
       "      <td>unknown</td>\n",
       "      <td>23</td>\n",
       "      <td>may</td>\n",
       "      <td>304</td>\n",
       "      <td>2</td>\n",
       "      <td>-1</td>\n",
       "      <td>0</td>\n",
       "      <td>unknown</td>\n",
       "      <td>no</td>\n",
       "    </tr>\n",
       "    <tr>\n",
       "      <th>3360</th>\n",
       "      <td>79</td>\n",
       "      <td>retired</td>\n",
       "      <td>married</td>\n",
       "      <td>primary</td>\n",
       "      <td>no</td>\n",
       "      <td>429</td>\n",
       "      <td>no</td>\n",
       "      <td>no</td>\n",
       "      <td>telephone</td>\n",
       "      <td>8</td>\n",
       "      <td>jul</td>\n",
       "      <td>1006</td>\n",
       "      <td>2</td>\n",
       "      <td>-1</td>\n",
       "      <td>0</td>\n",
       "      <td>unknown</td>\n",
       "      <td>yes</td>\n",
       "    </tr>\n",
       "    <tr>\n",
       "      <th>2719</th>\n",
       "      <td>32</td>\n",
       "      <td>technician</td>\n",
       "      <td>single</td>\n",
       "      <td>secondary</td>\n",
       "      <td>no</td>\n",
       "      <td>230</td>\n",
       "      <td>yes</td>\n",
       "      <td>no</td>\n",
       "      <td>cellular</td>\n",
       "      <td>18</td>\n",
       "      <td>may</td>\n",
       "      <td>442</td>\n",
       "      <td>1</td>\n",
       "      <td>266</td>\n",
       "      <td>8</td>\n",
       "      <td>failure</td>\n",
       "      <td>yes</td>\n",
       "    </tr>\n",
       "    <tr>\n",
       "      <th>4002</th>\n",
       "      <td>58</td>\n",
       "      <td>technician</td>\n",
       "      <td>divorced</td>\n",
       "      <td>secondary</td>\n",
       "      <td>no</td>\n",
       "      <td>-123</td>\n",
       "      <td>no</td>\n",
       "      <td>no</td>\n",
       "      <td>cellular</td>\n",
       "      <td>5</td>\n",
       "      <td>aug</td>\n",
       "      <td>131</td>\n",
       "      <td>2</td>\n",
       "      <td>-1</td>\n",
       "      <td>0</td>\n",
       "      <td>unknown</td>\n",
       "      <td>no</td>\n",
       "    </tr>\n",
       "    <tr>\n",
       "      <th>73</th>\n",
       "      <td>41</td>\n",
       "      <td>services</td>\n",
       "      <td>married</td>\n",
       "      <td>tertiary</td>\n",
       "      <td>no</td>\n",
       "      <td>412</td>\n",
       "      <td>yes</td>\n",
       "      <td>no</td>\n",
       "      <td>unknown</td>\n",
       "      <td>3</td>\n",
       "      <td>jun</td>\n",
       "      <td>154</td>\n",
       "      <td>5</td>\n",
       "      <td>-1</td>\n",
       "      <td>0</td>\n",
       "      <td>unknown</td>\n",
       "      <td>no</td>\n",
       "    </tr>\n",
       "    <tr>\n",
       "      <th>3752</th>\n",
       "      <td>47</td>\n",
       "      <td>services</td>\n",
       "      <td>married</td>\n",
       "      <td>secondary</td>\n",
       "      <td>no</td>\n",
       "      <td>0</td>\n",
       "      <td>yes</td>\n",
       "      <td>no</td>\n",
       "      <td>telephone</td>\n",
       "      <td>9</td>\n",
       "      <td>jul</td>\n",
       "      <td>250</td>\n",
       "      <td>1</td>\n",
       "      <td>-1</td>\n",
       "      <td>0</td>\n",
       "      <td>unknown</td>\n",
       "      <td>no</td>\n",
       "    </tr>\n",
       "  </tbody>\n",
       "</table>\n",
       "</div>"
      ],
      "text/plain": [
       "      age            job   marital  education default  balance housing loan  \\\n",
       "3120   47     technician   married    primary      no      187     yes   no   \n",
       "98     36    blue-collar  divorced  secondary      no     2843      no   no   \n",
       "2225   31  self-employed    single   tertiary      no       96      no   no   \n",
       "2388   35         admin.   married  secondary      no        0     yes   no   \n",
       "780    33    blue-collar   married  secondary      no     1134     yes   no   \n",
       "3360   79        retired   married    primary      no      429      no   no   \n",
       "2719   32     technician    single  secondary      no      230     yes   no   \n",
       "4002   58     technician  divorced  secondary      no     -123      no   no   \n",
       "73     41       services   married   tertiary      no      412     yes   no   \n",
       "3752   47       services   married  secondary      no        0     yes   no   \n",
       "\n",
       "        contact  day month  duration  campaign  pdays  previous poutcome    y  \n",
       "3120    unknown    9   may       165         1     -1         0  unknown   no  \n",
       "98     cellular   12   feb       473         1    182         1  success   no  \n",
       "2225   cellular    5   feb       577         1     -1         0  unknown   no  \n",
       "2388   cellular    7   may       121         2     -1         0  unknown   no  \n",
       "780     unknown   23   may       304         2     -1         0  unknown   no  \n",
       "3360  telephone    8   jul      1006         2     -1         0  unknown  yes  \n",
       "2719   cellular   18   may       442         1    266         8  failure  yes  \n",
       "4002   cellular    5   aug       131         2     -1         0  unknown   no  \n",
       "73      unknown    3   jun       154         5     -1         0  unknown   no  \n",
       "3752  telephone    9   jul       250         1     -1         0  unknown   no  "
      ]
     },
     "execution_count": 4,
     "metadata": {},
     "output_type": "execute_result"
    }
   ],
   "source": [
    "test_df.sample(10)"
   ]
  },
  {
   "cell_type": "markdown",
   "id": "46bdc38a",
   "metadata": {
    "papermill": {
     "duration": 0.008607,
     "end_time": "2023-12-18T18:49:50.747409",
     "exception": false,
     "start_time": "2023-12-18T18:49:50.738802",
     "status": "completed"
    },
    "tags": []
   },
   "source": [
    "## Get data informaion"
   ]
  },
  {
   "cell_type": "code",
   "execution_count": 5,
   "id": "21063da4",
   "metadata": {
    "execution": {
     "iopub.execute_input": "2023-12-18T18:49:50.766327Z",
     "iopub.status.busy": "2023-12-18T18:49:50.765479Z",
     "iopub.status.idle": "2023-12-18T18:49:50.811201Z",
     "shell.execute_reply": "2023-12-18T18:49:50.809810Z"
    },
    "papermill": {
     "duration": 0.057859,
     "end_time": "2023-12-18T18:49:50.813659",
     "exception": false,
     "start_time": "2023-12-18T18:49:50.755800",
     "status": "completed"
    },
    "tags": []
   },
   "outputs": [
    {
     "name": "stdout",
     "output_type": "stream",
     "text": [
      "<class 'pandas.core.frame.DataFrame'>\n",
      "RangeIndex: 45211 entries, 0 to 45210\n",
      "Data columns (total 17 columns):\n",
      " #   Column     Non-Null Count  Dtype \n",
      "---  ------     --------------  ----- \n",
      " 0   age        45211 non-null  int64 \n",
      " 1   job        45211 non-null  object\n",
      " 2   marital    45211 non-null  object\n",
      " 3   education  45211 non-null  object\n",
      " 4   default    45211 non-null  object\n",
      " 5   balance    45211 non-null  int64 \n",
      " 6   housing    45211 non-null  object\n",
      " 7   loan       45211 non-null  object\n",
      " 8   contact    45211 non-null  object\n",
      " 9   day        45211 non-null  int64 \n",
      " 10  month      45211 non-null  object\n",
      " 11  duration   45211 non-null  int64 \n",
      " 12  campaign   45211 non-null  int64 \n",
      " 13  pdays      45211 non-null  int64 \n",
      " 14  previous   45211 non-null  int64 \n",
      " 15  poutcome   45211 non-null  object\n",
      " 16  y          45211 non-null  object\n",
      "dtypes: int64(7), object(10)\n",
      "memory usage: 5.9+ MB\n"
     ]
    }
   ],
   "source": [
    "train_df.info()"
   ]
  },
  {
   "cell_type": "markdown",
   "id": "819cce20",
   "metadata": {
    "papermill": {
     "duration": 0.00823,
     "end_time": "2023-12-18T18:49:50.831562",
     "exception": false,
     "start_time": "2023-12-18T18:49:50.823332",
     "status": "completed"
    },
    "tags": []
   },
   "source": [
    "## Age Feature\n",
    "The age of the customer."
   ]
  },
  {
   "cell_type": "code",
   "execution_count": 6,
   "id": "eec06cdd",
   "metadata": {
    "execution": {
     "iopub.execute_input": "2023-12-18T18:49:50.851024Z",
     "iopub.status.busy": "2023-12-18T18:49:50.849858Z",
     "iopub.status.idle": "2023-12-18T18:49:50.865841Z",
     "shell.execute_reply": "2023-12-18T18:49:50.864725Z"
    },
    "papermill": {
     "duration": 0.027924,
     "end_time": "2023-12-18T18:49:50.868191",
     "exception": false,
     "start_time": "2023-12-18T18:49:50.840267",
     "status": "completed"
    },
    "tags": []
   },
   "outputs": [
    {
     "data": {
      "text/plain": [
       "count    45211.000000\n",
       "mean        40.936210\n",
       "std         10.618762\n",
       "min         18.000000\n",
       "25%         33.000000\n",
       "50%         39.000000\n",
       "75%         48.000000\n",
       "max         95.000000\n",
       "Name: age, dtype: float64"
      ]
     },
     "execution_count": 6,
     "metadata": {},
     "output_type": "execute_result"
    }
   ],
   "source": [
    "# Get statistical analysis\n",
    "train_df['age'].describe()"
   ]
  },
  {
   "cell_type": "code",
   "execution_count": 7,
   "id": "d4458473",
   "metadata": {
    "execution": {
     "iopub.execute_input": "2023-12-18T18:49:50.888773Z",
     "iopub.status.busy": "2023-12-18T18:49:50.888032Z",
     "iopub.status.idle": "2023-12-18T18:49:51.812723Z",
     "shell.execute_reply": "2023-12-18T18:49:51.811713Z"
    },
    "papermill": {
     "duration": 0.937889,
     "end_time": "2023-12-18T18:49:51.815196",
     "exception": false,
     "start_time": "2023-12-18T18:49:50.877307",
     "status": "completed"
    },
    "tags": []
   },
   "outputs": [
    {
     "name": "stderr",
     "output_type": "stream",
     "text": [
      "/tmp/ipykernel_19/2994252962.py:5: UserWarning: Ignoring `palette` because no `hue` variable has been assigned.\n",
      "  ax = sns.histplot(train_df['age'], bins=50, kde=True, palette='viridis')\n"
     ]
    },
    {
     "data": {
      "image/png": "[encoded data removed]",
      "text/plain": [
       "<Figure size 1000x600 with 1 Axes>"
      ]
     },
     "metadata": {},
     "output_type": "display_data"
    }
   ],
   "source": [
    "# Define figure size\n",
    "plt.figure(figsize=(10, 6))\n",
    "\n",
    "# Plot the histogram\n",
    "ax = sns.histplot(train_df['age'], bins=50, kde=True, palette='viridis')\n",
    "\n",
    "# Add labels and title\n",
    "plt.title('Distribution of Age')\n",
    "plt.xlabel('Age')\n",
    "plt.ylabel('Frequency')\n",
    "plt.xticks([i for i in range(15, 100, 5)])\n",
    "\n",
    "\n",
    "# Show the plot\n",
    "plt.show()"
   ]
  },
  {
   "cell_type": "markdown",
   "id": "a0cc2f3f",
   "metadata": {
    "papermill": {
     "duration": 0.009917,
     "end_time": "2023-12-18T18:49:51.835329",
     "exception": false,
     "start_time": "2023-12-18T18:49:51.825412",
     "status": "completed"
    },
    "tags": []
   },
   "source": [
    "## Job Feature\n",
    "The occupation/employment status of the customer."
   ]
  },
  {
   "cell_type": "code",
   "execution_count": 8,
   "id": "4d924545",
   "metadata": {
    "execution": {
     "iopub.execute_input": "2023-12-18T18:49:51.856779Z",
     "iopub.status.busy": "2023-12-18T18:49:51.856407Z",
     "iopub.status.idle": "2023-12-18T18:49:51.869897Z",
     "shell.execute_reply": "2023-12-18T18:49:51.868529Z"
    },
    "papermill": {
     "duration": 0.027681,
     "end_time": "2023-12-18T18:49:51.873021",
     "exception": false,
     "start_time": "2023-12-18T18:49:51.845340",
     "status": "completed"
    },
    "tags": []
   },
   "outputs": [
    {
     "data": {
      "text/plain": [
       "job\n",
       "blue-collar      9732\n",
       "management       9458\n",
       "technician       7597\n",
       "admin.           5171\n",
       "services         4154\n",
       "retired          2264\n",
       "self-employed    1579\n",
       "entrepreneur     1487\n",
       "unemployed       1303\n",
       "housemaid        1240\n",
       "student           938\n",
       "unknown           288\n",
       "Name: count, dtype: int64"
      ]
     },
     "execution_count": 8,
     "metadata": {},
     "output_type": "execute_result"
    }
   ],
   "source": [
    "train_df['job'].value_counts()"
   ]
  },
  {
   "cell_type": "code",
   "execution_count": 9,
   "id": "90cadc04",
   "metadata": {
    "execution": {
     "iopub.execute_input": "2023-12-18T18:49:51.894041Z",
     "iopub.status.busy": "2023-12-18T18:49:51.893266Z",
     "iopub.status.idle": "2023-12-18T18:49:52.312699Z",
     "shell.execute_reply": "2023-12-18T18:49:52.311558Z"
    },
    "papermill": {
     "duration": 0.432876,
     "end_time": "2023-12-18T18:49:52.315560",
     "exception": false,
     "start_time": "2023-12-18T18:49:51.882684",
     "status": "completed"
    },
    "tags": []
   },
   "outputs": [
    {
     "data": {
      "image/png": "[encoded data removed]",
      "text/plain": [
       "<Figure size 1200x600 with 1 Axes>"
      ]
     },
     "metadata": {},
     "output_type": "display_data"
    }
   ],
   "source": [
    "# Define counts\n",
    "job_counts = train_df['job'].value_counts()\n",
    "\n",
    "# Define figure size\n",
    "plt.figure(figsize=(12, 6))\n",
    "\n",
    "# Plot bar chart\n",
    "sns.barplot(x=job_counts.index, y=job_counts.values, palette='viridis')\n",
    "\n",
    "# Add labels and title\n",
    "plt.title('Count of Each Job Category')\n",
    "plt.xlabel('\\nJob')\n",
    "plt.ylabel('Count')\n",
    "plt.xticks(rotation=45, ha='right')\n",
    "\n",
    "# Show the plot\n",
    "plt.show()"
   ]
  },
  {
   "cell_type": "markdown",
   "id": "b7be12b9",
   "metadata": {
    "papermill": {
     "duration": 0.009979,
     "end_time": "2023-12-18T18:49:52.335990",
     "exception": false,
     "start_time": "2023-12-18T18:49:52.326011",
     "status": "completed"
    },
    "tags": []
   },
   "source": [
    "change valu 'un known' "
   ]
  },
  {
   "cell_type": "code",
   "execution_count": 10,
   "id": "f55661a7",
   "metadata": {
    "execution": {
     "iopub.execute_input": "2023-12-18T18:49:52.358281Z",
     "iopub.status.busy": "2023-12-18T18:49:52.357822Z",
     "iopub.status.idle": "2023-12-18T18:49:52.368805Z",
     "shell.execute_reply": "2023-12-18T18:49:52.367674Z"
    },
    "papermill": {
     "duration": 0.02636,
     "end_time": "2023-12-18T18:49:52.372737",
     "exception": false,
     "start_time": "2023-12-18T18:49:52.346377",
     "status": "completed"
    },
    "tags": []
   },
   "outputs": [
    {
     "data": {
      "text/plain": [
       "job\n",
       "management       969\n",
       "blue-collar      946\n",
       "technician       768\n",
       "admin.           478\n",
       "services         417\n",
       "retired          230\n",
       "self-employed    183\n",
       "entrepreneur     168\n",
       "unemployed       128\n",
       "housemaid        112\n",
       "student           84\n",
       "others            38\n",
       "Name: count, dtype: int64"
      ]
     },
     "execution_count": 10,
     "metadata": {},
     "output_type": "execute_result"
    }
   ],
   "source": [
    "test_df['job'] = test_df['job'].replace('unknown', 'others')\n",
    "test_df['job'].value_counts()"
   ]
  },
  {
   "cell_type": "markdown",
   "id": "c42b0cb1",
   "metadata": {
    "papermill": {
     "duration": 0.010175,
     "end_time": "2023-12-18T18:49:52.393411",
     "exception": false,
     "start_time": "2023-12-18T18:49:52.383236",
     "status": "completed"
    },
    "tags": []
   },
   "source": [
    "## Marital-Status Feature\n",
    "The marital status of the customer."
   ]
  },
  {
   "cell_type": "code",
   "execution_count": 11,
   "id": "95f8a493",
   "metadata": {
    "execution": {
     "iopub.execute_input": "2023-12-18T18:49:52.416508Z",
     "iopub.status.busy": "2023-12-18T18:49:52.415724Z",
     "iopub.status.idle": "2023-12-18T18:49:52.426744Z",
     "shell.execute_reply": "2023-12-18T18:49:52.425696Z"
    },
    "papermill": {
     "duration": 0.025033,
     "end_time": "2023-12-18T18:49:52.428940",
     "exception": false,
     "start_time": "2023-12-18T18:49:52.403907",
     "status": "completed"
    },
    "tags": []
   },
   "outputs": [
    {
     "data": {
      "text/plain": [
       "marital\n",
       "married     27214\n",
       "single      12790\n",
       "divorced     5207\n",
       "Name: count, dtype: int64"
      ]
     },
     "execution_count": 11,
     "metadata": {},
     "output_type": "execute_result"
    }
   ],
   "source": [
    "train_df['marital'].value_counts()"
   ]
  },
  {
   "cell_type": "code",
   "execution_count": 12,
   "id": "36c1140d",
   "metadata": {
    "execution": {
     "iopub.execute_input": "2023-12-18T18:49:52.452586Z",
     "iopub.status.busy": "2023-12-18T18:49:52.451796Z",
     "iopub.status.idle": "2023-12-18T18:49:52.728170Z",
     "shell.execute_reply": "2023-12-18T18:49:52.726996Z"
    },
    "papermill": {
     "duration": 0.291288,
     "end_time": "2023-12-18T18:49:52.731077",
     "exception": false,
     "start_time": "2023-12-18T18:49:52.439789",
     "status": "completed"
    },
    "tags": []
   },
   "outputs": [
    {
     "data": {
      "image/png": "[encoded data removed]",
      "text/plain": [
       "<Figure size 1200x600 with 1 Axes>"
      ]
     },
     "metadata": {},
     "output_type": "display_data"
    }
   ],
   "source": [
    "# Define counts\n",
    "marital_counts = train_df['marital'].value_counts()\n",
    "\n",
    "# Define figure size\n",
    "plt.figure(figsize=(12, 6))\n",
    "\n",
    "# Plot bar chart\n",
    "sns.barplot(x=marital_counts.index, y=marital_counts.values, palette='viridis')\n",
    "\n",
    "# Add labels and title\n",
    "plt.title('Count of Each Marital-Status Category')\n",
    "plt.xlabel('\\nMarital-Status')\n",
    "plt.ylabel('Count')\n",
    "\n",
    "# Show the plot\n",
    "plt.show()"
   ]
  },
  {
   "cell_type": "markdown",
   "id": "71552f4b",
   "metadata": {
    "papermill": {
     "duration": 0.010709,
     "end_time": "2023-12-18T18:49:52.752900",
     "exception": false,
     "start_time": "2023-12-18T18:49:52.742191",
     "status": "completed"
    },
    "tags": []
   },
   "source": [
    "## Educational Feature\n",
    "The education level attained by the customer."
   ]
  },
  {
   "cell_type": "code",
   "execution_count": 13,
   "id": "49692a4a",
   "metadata": {
    "execution": {
     "iopub.execute_input": "2023-12-18T18:49:52.777217Z",
     "iopub.status.busy": "2023-12-18T18:49:52.776450Z",
     "iopub.status.idle": "2023-12-18T18:49:52.787762Z",
     "shell.execute_reply": "2023-12-18T18:49:52.786763Z"
    },
    "papermill": {
     "duration": 0.025873,
     "end_time": "2023-12-18T18:49:52.789943",
     "exception": false,
     "start_time": "2023-12-18T18:49:52.764070",
     "status": "completed"
    },
    "tags": []
   },
   "outputs": [
    {
     "data": {
      "text/plain": [
       "education\n",
       "secondary    23202\n",
       "tertiary     13301\n",
       "primary       6851\n",
       "unknown       1857\n",
       "Name: count, dtype: int64"
      ]
     },
     "execution_count": 13,
     "metadata": {},
     "output_type": "execute_result"
    }
   ],
   "source": [
    "train_df['education'].value_counts()"
   ]
  },
  {
   "cell_type": "markdown",
   "id": "3ece5f05",
   "metadata": {
    "papermill": {
     "duration": 0.010595,
     "end_time": "2023-12-18T18:49:52.811719",
     "exception": false,
     "start_time": "2023-12-18T18:49:52.801124",
     "status": "completed"
    },
    "tags": []
   },
   "source": [
    "**change value \"unknown\"**"
   ]
  },
  {
   "cell_type": "code",
   "execution_count": 14,
   "id": "537ed014",
   "metadata": {
    "execution": {
     "iopub.execute_input": "2023-12-18T18:49:52.836201Z",
     "iopub.status.busy": "2023-12-18T18:49:52.835411Z",
     "iopub.status.idle": "2023-12-18T18:49:52.852006Z",
     "shell.execute_reply": "2023-12-18T18:49:52.850806Z"
    },
    "papermill": {
     "duration": 0.031489,
     "end_time": "2023-12-18T18:49:52.854209",
     "exception": false,
     "start_time": "2023-12-18T18:49:52.822720",
     "status": "completed"
    },
    "tags": []
   },
   "outputs": [
    {
     "data": {
      "text/plain": [
       "education\n",
       "secondary    23202\n",
       "tertiary     13301\n",
       "primary       6851\n",
       "others        1857\n",
       "Name: count, dtype: int64"
      ]
     },
     "execution_count": 14,
     "metadata": {},
     "output_type": "execute_result"
    }
   ],
   "source": [
    "train_df['education'] = train_df['education'].replace('unknown', 'others')\n",
    "train_df['education'].value_counts()"
   ]
  },
  {
   "cell_type": "code",
   "execution_count": 15,
   "id": "3803efe6",
   "metadata": {
    "execution": {
     "iopub.execute_input": "2023-12-18T18:49:52.937454Z",
     "iopub.status.busy": "2023-12-18T18:49:52.936461Z",
     "iopub.status.idle": "2023-12-18T18:49:53.214690Z",
     "shell.execute_reply": "2023-12-18T18:49:53.213640Z"
    },
    "papermill": {
     "duration": 0.293772,
     "end_time": "2023-12-18T18:49:53.217599",
     "exception": false,
     "start_time": "2023-12-18T18:49:52.923827",
     "status": "completed"
    },
    "tags": []
   },
   "outputs": [
    {
     "data": {
      "image/png": "[encoded data removed]",
      "text/plain": [
       "<Figure size 1200x600 with 1 Axes>"
      ]
     },
     "metadata": {},
     "output_type": "display_data"
    }
   ],
   "source": [
    "# Define Counts\n",
    "education_counts = train_df['education'].value_counts()\n",
    "\n",
    "# Define figure size\n",
    "plt.figure(figsize=(12, 6))\n",
    "\n",
    "# Plot bar chart\n",
    "sns.barplot(x=education_counts.index, y=education_counts.values, palette='viridis')\n",
    "\n",
    "# Add labels and title\n",
    "plt.title('Count of Each Educational-Status Category')\n",
    "plt.xlabel('\\nEducational-Status')\n",
    "plt.ylabel('Count')\n",
    "\n",
    "# Show the plot\n",
    "plt.show()"
   ]
  },
  {
   "cell_type": "markdown",
   "id": "3b9c2ee3",
   "metadata": {
    "papermill": {
     "duration": 0.011845,
     "end_time": "2023-12-18T18:49:53.242029",
     "exception": false,
     "start_time": "2023-12-18T18:49:53.230184",
     "status": "completed"
    },
    "tags": []
   },
   "source": [
    "## Credit in Default Feature\n",
    "Whether the customer has credit in default or not"
   ]
  },
  {
   "cell_type": "code",
   "execution_count": 16,
   "id": "ed227efe",
   "metadata": {
    "execution": {
     "iopub.execute_input": "2023-12-18T18:49:53.268119Z",
     "iopub.status.busy": "2023-12-18T18:49:53.267478Z",
     "iopub.status.idle": "2023-12-18T18:49:53.278818Z",
     "shell.execute_reply": "2023-12-18T18:49:53.277553Z"
    },
    "papermill": {
     "duration": 0.027008,
     "end_time": "2023-12-18T18:49:53.281080",
     "exception": false,
     "start_time": "2023-12-18T18:49:53.254072",
     "status": "completed"
    },
    "tags": []
   },
   "outputs": [
    {
     "data": {
      "text/plain": [
       "default\n",
       "no     44396\n",
       "yes      815\n",
       "Name: count, dtype: int64"
      ]
     },
     "execution_count": 16,
     "metadata": {},
     "output_type": "execute_result"
    }
   ],
   "source": [
    "train_df['default'].value_counts()"
   ]
  },
  {
   "cell_type": "code",
   "execution_count": 17,
   "id": "82384d03",
   "metadata": {
    "execution": {
     "iopub.execute_input": "2023-12-18T18:49:53.307784Z",
     "iopub.status.busy": "2023-12-18T18:49:53.307388Z",
     "iopub.status.idle": "2023-12-18T18:49:53.555488Z",
     "shell.execute_reply": "2023-12-18T18:49:53.554472Z"
    },
    "papermill": {
     "duration": 0.263952,
     "end_time": "2023-12-18T18:49:53.557733",
     "exception": false,
     "start_time": "2023-12-18T18:49:53.293781",
     "status": "completed"
    },
    "tags": []
   },
   "outputs": [
    {
     "data": {
      "image/png": "[encoded data removed]",
      "text/plain": [
       "<Figure size 1200x600 with 1 Axes>"
      ]
     },
     "metadata": {},
     "output_type": "display_data"
    }
   ],
   "source": [
    "# Define counts\n",
    "default_counts = train_df['default'].value_counts()\n",
    "\n",
    "# Define figure size\n",
    "plt.figure(figsize=(12, 6))\n",
    "\n",
    "# Plot bar chart\n",
    "sns.barplot(x=default_counts.index, y=default_counts.values, palette='viridis')\n",
    "\n",
    "# Add labels and title\n",
    "plt.title('Count of Each Cridit in Default Category')\n",
    "plt.xlabel('\\nDefault')\n",
    "plt.ylabel('Count')\n",
    "\n",
    "# Show the plot\n",
    "plt.show()"
   ]
  },
  {
   "cell_type": "markdown",
   "id": "a3d7c193",
   "metadata": {
    "papermill": {
     "duration": 0.012287,
     "end_time": "2023-12-18T18:49:53.582647",
     "exception": false,
     "start_time": "2023-12-18T18:49:53.570360",
     "status": "completed"
    },
    "tags": []
   },
   "source": [
    "## feature is worthless, the \"no\" values is so poor, so I'll drop it"
   ]
  },
  {
   "cell_type": "code",
   "execution_count": 18,
   "id": "a04caa46",
   "metadata": {
    "execution": {
     "iopub.execute_input": "2023-12-18T18:49:53.609500Z",
     "iopub.status.busy": "2023-12-18T18:49:53.609096Z",
     "iopub.status.idle": "2023-12-18T18:49:53.621822Z",
     "shell.execute_reply": "2023-12-18T18:49:53.620730Z"
    },
    "papermill": {
     "duration": 0.028815,
     "end_time": "2023-12-18T18:49:53.624032",
     "exception": false,
     "start_time": "2023-12-18T18:49:53.595217",
     "status": "completed"
    },
    "tags": []
   },
   "outputs": [],
   "source": [
    "train_df.drop(columns=['default'], inplace=True)\n"
   ]
  },
  {
   "cell_type": "code",
   "execution_count": 19,
   "id": "7e2696b8",
   "metadata": {
    "execution": {
     "iopub.execute_input": "2023-12-18T18:49:53.651245Z",
     "iopub.status.busy": "2023-12-18T18:49:53.650428Z",
     "iopub.status.idle": "2023-12-18T18:49:53.656630Z",
     "shell.execute_reply": "2023-12-18T18:49:53.655859Z"
    },
    "papermill": {
     "duration": 0.021992,
     "end_time": "2023-12-18T18:49:53.658630",
     "exception": false,
     "start_time": "2023-12-18T18:49:53.636638",
     "status": "completed"
    },
    "tags": []
   },
   "outputs": [],
   "source": [
    "test_df.drop(columns=['default'], inplace=True)\n"
   ]
  },
  {
   "cell_type": "markdown",
   "id": "57e3b362",
   "metadata": {
    "papermill": {
     "duration": 0.012378,
     "end_time": "2023-12-18T18:49:53.683573",
     "exception": false,
     "start_time": "2023-12-18T18:49:53.671195",
     "status": "completed"
    },
    "tags": []
   },
   "source": [
    "## Balance Feature\n",
    "The balance in the customer's account."
   ]
  },
  {
   "cell_type": "code",
   "execution_count": 20,
   "id": "44c8b44d",
   "metadata": {
    "execution": {
     "iopub.execute_input": "2023-12-18T18:49:53.712627Z",
     "iopub.status.busy": "2023-12-18T18:49:53.712049Z",
     "iopub.status.idle": "2023-12-18T18:49:53.728201Z",
     "shell.execute_reply": "2023-12-18T18:49:53.725955Z"
    },
    "papermill": {
     "duration": 0.03527,
     "end_time": "2023-12-18T18:49:53.731433",
     "exception": false,
     "start_time": "2023-12-18T18:49:53.696163",
     "status": "completed"
    },
    "tags": []
   },
   "outputs": [
    {
     "data": {
      "text/plain": [
       "count     45211.000000\n",
       "mean       1362.272058\n",
       "std        3044.765829\n",
       "min       -8019.000000\n",
       "25%          72.000000\n",
       "50%         448.000000\n",
       "75%        1428.000000\n",
       "max      102127.000000\n",
       "Name: balance, dtype: float64"
      ]
     },
     "execution_count": 20,
     "metadata": {},
     "output_type": "execute_result"
    }
   ],
   "source": [
    "#train_df['balance'].value_counts()\n",
    "train_df['balance'].describe()\n"
   ]
  },
  {
   "cell_type": "code",
   "execution_count": 21,
   "id": "30fd80ff",
   "metadata": {
    "execution": {
     "iopub.execute_input": "2023-12-18T18:49:53.762744Z",
     "iopub.status.busy": "2023-12-18T18:49:53.761944Z",
     "iopub.status.idle": "2023-12-18T18:49:54.386518Z",
     "shell.execute_reply": "2023-12-18T18:49:54.385254Z"
    },
    "papermill": {
     "duration": 0.641969,
     "end_time": "2023-12-18T18:49:54.389072",
     "exception": false,
     "start_time": "2023-12-18T18:49:53.747103",
     "status": "completed"
    },
    "tags": []
   },
   "outputs": [
    {
     "name": "stderr",
     "output_type": "stream",
     "text": [
      "/tmp/ipykernel_19/1190658190.py:5: UserWarning: Ignoring `palette` because no `hue` variable has been assigned.\n",
      "  sns.kdeplot(train_df['balance'], palette='viridis')\n"
     ]
    },
    {
     "data": {
      "image/png": "[encoded data removed]",
      "text/plain": [
       "<Figure size 1000x600 with 1 Axes>"
      ]
     },
     "metadata": {},
     "output_type": "display_data"
    }
   ],
   "source": [
    "# Define figure size\n",
    "plt.figure(figsize=(10, 6))\n",
    "\n",
    "# Plot the histogram\n",
    "sns.kdeplot(train_df['balance'], palette='viridis')\n",
    "\n",
    "# Add labels and title\n",
    "plt.title('Kernel Density Estimate of Account Balances')\n",
    "plt.xlabel('Balance')\n",
    "plt.ylabel('Density')\n",
    "\n",
    "# Show the plot\n",
    "plt.show()"
   ]
  },
  {
   "cell_type": "markdown",
   "id": "6a93a432",
   "metadata": {
    "papermill": {
     "duration": 0.013062,
     "end_time": "2023-12-18T18:49:54.415594",
     "exception": false,
     "start_time": "2023-12-18T18:49:54.402532",
     "status": "completed"
    },
    "tags": []
   },
   "source": [
    "**Check for values under zero**"
   ]
  },
  {
   "cell_type": "code",
   "execution_count": 22,
   "id": "b60dd096",
   "metadata": {
    "execution": {
     "iopub.execute_input": "2023-12-18T18:49:54.444083Z",
     "iopub.status.busy": "2023-12-18T18:49:54.443671Z",
     "iopub.status.idle": "2023-12-18T18:49:54.454032Z",
     "shell.execute_reply": "2023-12-18T18:49:54.452951Z"
    },
    "papermill": {
     "duration": 0.027064,
     "end_time": "2023-12-18T18:49:54.456049",
     "exception": false,
     "start_time": "2023-12-18T18:49:54.428985",
     "status": "completed"
    },
    "tags": []
   },
   "outputs": [
    {
     "data": {
      "text/plain": [
       "7280"
      ]
     },
     "execution_count": 22,
     "metadata": {},
     "output_type": "execute_result"
    }
   ],
   "source": [
    "train_df[train_df['balance'] <= 0]['balance'].count()\n"
   ]
  },
  {
   "cell_type": "code",
   "execution_count": null,
   "id": "0035255c",
   "metadata": {
    "papermill": {
     "duration": 0.013115,
     "end_time": "2023-12-18T18:49:54.482547",
     "exception": false,
     "start_time": "2023-12-18T18:49:54.469432",
     "status": "completed"
    },
    "tags": []
   },
   "outputs": [],
   "source": []
  }
 ],
 "metadata": {
  "kaggle": {
   "accelerator": "none",
   "dataSources": [
    {
     "datasetId": 4086639,
     "sourceId": 7091569,
     "sourceType": "datasetVersion"
    }
   ],
   "dockerImageVersionId": 30626,
   "isGpuEnabled": false,
   "isInternetEnabled": true,
   "language": "python",
   "sourceType": "notebook"
  },
  "kernelspec": {
   "display_name": "Python 3",
   "language": "python",
   "name": "python3"
  },
  "language_info": {
   "codemirror_mode": {
    "name": "ipython",
    "version": 3
   },
   "file_extension": ".py",
   "mimetype": "text/x-python",
   "name": "python",
   "nbconvert_exporter": "python",
   "pygments_lexer": "ipython3",
   "version": "3.10.12"
  },
  "papermill": {
   "default_parameters": {},
   "duration": 11.567184,
   "end_time": "2023-12-18T18:49:55.315821",
   "environment_variables": {},
   "exception": null,
   "input_path": "__notebook__.ipynb",
   "output_path": "__notebook__.ipynb",
   "parameters": {},
   "start_time": "2023-12-18T18:49:43.748637",
   "version": "2.4.0"
  }
 },
 "nbformat": 4,
 "nbformat_minor": 5
}
